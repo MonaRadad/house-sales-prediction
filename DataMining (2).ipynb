{
  "cells": [
    {
      "cell_type": "markdown",
      "id": "2473673e-2d96-4ca7-8080-604e1e28365c",
      "metadata": {
        "id": "2473673e-2d96-4ca7-8080-604e1e28365c"
      },
      "source": [
        "## imports"
      ]
    },
    {
      "cell_type": "code",
      "execution_count": 1,
      "id": "4bb59191-90f3-4527-9479-ca5c60c76884",
      "metadata": {
        "id": "4bb59191-90f3-4527-9479-ca5c60c76884"
      },
      "outputs": [],
      "source": [
        "import numpy as np\n",
        "import pandas as pd\n",
        "import seaborn as sns\n",
        "from datetime import datetime\n",
        "import matplotlib.pyplot as plt\n",
        "%matplotlib inline\n",
        "import warnings\n",
        "warnings\n",
        "warnings.filterwarnings('ignore')"
      ]
    },
    {
      "cell_type": "markdown",
      "id": "901a42b1-d43c-4b27-b851-dad9b39582b4",
      "metadata": {
        "id": "901a42b1-d43c-4b27-b851-dad9b39582b4"
      },
      "source": [
        "## reading the data"
      ]
    },
    {
      "cell_type": "code",
      "execution_count": 2,
      "id": "d5ea3b7c-db98-4a63-a484-8d75280f2d68",
      "metadata": {
        "colab": {
          "base_uri": "https://localhost:8080/",
          "height": 301
        },
        "id": "d5ea3b7c-db98-4a63-a484-8d75280f2d68",
        "outputId": "5b93d115-7e0f-4bfc-e9b6-1e4b37decca1"
      },
      "outputs": [
        {
          "output_type": "execute_result",
          "data": {
            "text/html": [
              "\n",
              "  <div id=\"df-43bd0800-2111-4335-bd21-7d752e3fcd16\">\n",
              "    <div class=\"colab-df-container\">\n",
              "      <div>\n",
              "<style scoped>\n",
              "    .dataframe tbody tr th:only-of-type {\n",
              "        vertical-align: middle;\n",
              "    }\n",
              "\n",
              "    .dataframe tbody tr th {\n",
              "        vertical-align: top;\n",
              "    }\n",
              "\n",
              "    .dataframe thead th {\n",
              "        text-align: right;\n",
              "    }\n",
              "</style>\n",
              "<table border=\"1\" class=\"dataframe\">\n",
              "  <thead>\n",
              "    <tr style=\"text-align: right;\">\n",
              "      <th></th>\n",
              "      <th>date</th>\n",
              "      <th>price</th>\n",
              "      <th>bedrooms</th>\n",
              "      <th>bathrooms</th>\n",
              "      <th>sqft_living</th>\n",
              "      <th>sqft_lot</th>\n",
              "      <th>floors</th>\n",
              "      <th>waterfront</th>\n",
              "      <th>view</th>\n",
              "      <th>condition</th>\n",
              "      <th>grade</th>\n",
              "      <th>sqft_above</th>\n",
              "      <th>sqft_basement</th>\n",
              "      <th>yr_built</th>\n",
              "      <th>yr_renovated</th>\n",
              "      <th>zipcode</th>\n",
              "      <th>lat</th>\n",
              "      <th>long</th>\n",
              "      <th>sqft_living15</th>\n",
              "      <th>sqft_lot15</th>\n",
              "    </tr>\n",
              "    <tr>\n",
              "      <th>id</th>\n",
              "      <th></th>\n",
              "      <th></th>\n",
              "      <th></th>\n",
              "      <th></th>\n",
              "      <th></th>\n",
              "      <th></th>\n",
              "      <th></th>\n",
              "      <th></th>\n",
              "      <th></th>\n",
              "      <th></th>\n",
              "      <th></th>\n",
              "      <th></th>\n",
              "      <th></th>\n",
              "      <th></th>\n",
              "      <th></th>\n",
              "      <th></th>\n",
              "      <th></th>\n",
              "      <th></th>\n",
              "      <th></th>\n",
              "      <th></th>\n",
              "    </tr>\n",
              "  </thead>\n",
              "  <tbody>\n",
              "    <tr>\n",
              "      <th>7129300520</th>\n",
              "      <td>20141013T000000</td>\n",
              "      <td>221900.0</td>\n",
              "      <td>3</td>\n",
              "      <td>1.00</td>\n",
              "      <td>1180</td>\n",
              "      <td>5650</td>\n",
              "      <td>1.0</td>\n",
              "      <td>0</td>\n",
              "      <td>0</td>\n",
              "      <td>3</td>\n",
              "      <td>7</td>\n",
              "      <td>1180</td>\n",
              "      <td>0</td>\n",
              "      <td>1955</td>\n",
              "      <td>0</td>\n",
              "      <td>98178</td>\n",
              "      <td>47.5112</td>\n",
              "      <td>-122.257</td>\n",
              "      <td>1340</td>\n",
              "      <td>5650</td>\n",
              "    </tr>\n",
              "    <tr>\n",
              "      <th>6414100192</th>\n",
              "      <td>20141209T000000</td>\n",
              "      <td>538000.0</td>\n",
              "      <td>3</td>\n",
              "      <td>2.25</td>\n",
              "      <td>2570</td>\n",
              "      <td>7242</td>\n",
              "      <td>2.0</td>\n",
              "      <td>0</td>\n",
              "      <td>0</td>\n",
              "      <td>3</td>\n",
              "      <td>7</td>\n",
              "      <td>2170</td>\n",
              "      <td>400</td>\n",
              "      <td>1951</td>\n",
              "      <td>1991</td>\n",
              "      <td>98125</td>\n",
              "      <td>47.7210</td>\n",
              "      <td>-122.319</td>\n",
              "      <td>1690</td>\n",
              "      <td>7639</td>\n",
              "    </tr>\n",
              "    <tr>\n",
              "      <th>5631500400</th>\n",
              "      <td>20150225T000000</td>\n",
              "      <td>180000.0</td>\n",
              "      <td>2</td>\n",
              "      <td>1.00</td>\n",
              "      <td>770</td>\n",
              "      <td>10000</td>\n",
              "      <td>1.0</td>\n",
              "      <td>0</td>\n",
              "      <td>0</td>\n",
              "      <td>3</td>\n",
              "      <td>6</td>\n",
              "      <td>770</td>\n",
              "      <td>0</td>\n",
              "      <td>1933</td>\n",
              "      <td>0</td>\n",
              "      <td>98028</td>\n",
              "      <td>47.7379</td>\n",
              "      <td>-122.233</td>\n",
              "      <td>2720</td>\n",
              "      <td>8062</td>\n",
              "    </tr>\n",
              "    <tr>\n",
              "      <th>2487200875</th>\n",
              "      <td>20141209T000000</td>\n",
              "      <td>604000.0</td>\n",
              "      <td>4</td>\n",
              "      <td>3.00</td>\n",
              "      <td>1960</td>\n",
              "      <td>5000</td>\n",
              "      <td>1.0</td>\n",
              "      <td>0</td>\n",
              "      <td>0</td>\n",
              "      <td>5</td>\n",
              "      <td>7</td>\n",
              "      <td>1050</td>\n",
              "      <td>910</td>\n",
              "      <td>1965</td>\n",
              "      <td>0</td>\n",
              "      <td>98136</td>\n",
              "      <td>47.5208</td>\n",
              "      <td>-122.393</td>\n",
              "      <td>1360</td>\n",
              "      <td>5000</td>\n",
              "    </tr>\n",
              "    <tr>\n",
              "      <th>1954400510</th>\n",
              "      <td>20150218T000000</td>\n",
              "      <td>510000.0</td>\n",
              "      <td>3</td>\n",
              "      <td>2.00</td>\n",
              "      <td>1680</td>\n",
              "      <td>8080</td>\n",
              "      <td>1.0</td>\n",
              "      <td>0</td>\n",
              "      <td>0</td>\n",
              "      <td>3</td>\n",
              "      <td>8</td>\n",
              "      <td>1680</td>\n",
              "      <td>0</td>\n",
              "      <td>1987</td>\n",
              "      <td>0</td>\n",
              "      <td>98074</td>\n",
              "      <td>47.6168</td>\n",
              "      <td>-122.045</td>\n",
              "      <td>1800</td>\n",
              "      <td>7503</td>\n",
              "    </tr>\n",
              "  </tbody>\n",
              "</table>\n",
              "</div>\n",
              "      <button class=\"colab-df-convert\" onclick=\"convertToInteractive('df-43bd0800-2111-4335-bd21-7d752e3fcd16')\"\n",
              "              title=\"Convert this dataframe to an interactive table.\"\n",
              "              style=\"display:none;\">\n",
              "        \n",
              "  <svg xmlns=\"http://www.w3.org/2000/svg\" height=\"24px\"viewBox=\"0 0 24 24\"\n",
              "       width=\"24px\">\n",
              "    <path d=\"M0 0h24v24H0V0z\" fill=\"none\"/>\n",
              "    <path d=\"M18.56 5.44l.94 2.06.94-2.06 2.06-.94-2.06-.94-.94-2.06-.94 2.06-2.06.94zm-11 1L8.5 8.5l.94-2.06 2.06-.94-2.06-.94L8.5 2.5l-.94 2.06-2.06.94zm10 10l.94 2.06.94-2.06 2.06-.94-2.06-.94-.94-2.06-.94 2.06-2.06.94z\"/><path d=\"M17.41 7.96l-1.37-1.37c-.4-.4-.92-.59-1.43-.59-.52 0-1.04.2-1.43.59L10.3 9.45l-7.72 7.72c-.78.78-.78 2.05 0 2.83L4 21.41c.39.39.9.59 1.41.59.51 0 1.02-.2 1.41-.59l7.78-7.78 2.81-2.81c.8-.78.8-2.07 0-2.86zM5.41 20L4 18.59l7.72-7.72 1.47 1.35L5.41 20z\"/>\n",
              "  </svg>\n",
              "      </button>\n",
              "      \n",
              "  <style>\n",
              "    .colab-df-container {\n",
              "      display:flex;\n",
              "      flex-wrap:wrap;\n",
              "      gap: 12px;\n",
              "    }\n",
              "\n",
              "    .colab-df-convert {\n",
              "      background-color: #E8F0FE;\n",
              "      border: none;\n",
              "      border-radius: 50%;\n",
              "      cursor: pointer;\n",
              "      display: none;\n",
              "      fill: #1967D2;\n",
              "      height: 32px;\n",
              "      padding: 0 0 0 0;\n",
              "      width: 32px;\n",
              "    }\n",
              "\n",
              "    .colab-df-convert:hover {\n",
              "      background-color: #E2EBFA;\n",
              "      box-shadow: 0px 1px 2px rgba(60, 64, 67, 0.3), 0px 1px 3px 1px rgba(60, 64, 67, 0.15);\n",
              "      fill: #174EA6;\n",
              "    }\n",
              "\n",
              "    [theme=dark] .colab-df-convert {\n",
              "      background-color: #3B4455;\n",
              "      fill: #D2E3FC;\n",
              "    }\n",
              "\n",
              "    [theme=dark] .colab-df-convert:hover {\n",
              "      background-color: #434B5C;\n",
              "      box-shadow: 0px 1px 3px 1px rgba(0, 0, 0, 0.15);\n",
              "      filter: drop-shadow(0px 1px 2px rgba(0, 0, 0, 0.3));\n",
              "      fill: #FFFFFF;\n",
              "    }\n",
              "  </style>\n",
              "\n",
              "      <script>\n",
              "        const buttonEl =\n",
              "          document.querySelector('#df-43bd0800-2111-4335-bd21-7d752e3fcd16 button.colab-df-convert');\n",
              "        buttonEl.style.display =\n",
              "          google.colab.kernel.accessAllowed ? 'block' : 'none';\n",
              "\n",
              "        async function convertToInteractive(key) {\n",
              "          const element = document.querySelector('#df-43bd0800-2111-4335-bd21-7d752e3fcd16');\n",
              "          const dataTable =\n",
              "            await google.colab.kernel.invokeFunction('convertToInteractive',\n",
              "                                                     [key], {});\n",
              "          if (!dataTable) return;\n",
              "\n",
              "          const docLinkHtml = 'Like what you see? Visit the ' +\n",
              "            '<a target=\"_blank\" href=https://colab.research.google.com/notebooks/data_table.ipynb>data table notebook</a>'\n",
              "            + ' to learn more about interactive tables.';\n",
              "          element.innerHTML = '';\n",
              "          dataTable['output_type'] = 'display_data';\n",
              "          await google.colab.output.renderOutput(dataTable, element);\n",
              "          const docLink = document.createElement('div');\n",
              "          docLink.innerHTML = docLinkHtml;\n",
              "          element.appendChild(docLink);\n",
              "        }\n",
              "      </script>\n",
              "    </div>\n",
              "  </div>\n",
              "  "
            ],
            "text/plain": [
              "                       date     price  ...  sqft_living15  sqft_lot15\n",
              "id                                     ...                           \n",
              "7129300520  20141013T000000  221900.0  ...           1340        5650\n",
              "6414100192  20141209T000000  538000.0  ...           1690        7639\n",
              "5631500400  20150225T000000  180000.0  ...           2720        8062\n",
              "2487200875  20141209T000000  604000.0  ...           1360        5000\n",
              "1954400510  20150218T000000  510000.0  ...           1800        7503\n",
              "\n",
              "[5 rows x 20 columns]"
            ]
          },
          "metadata": {},
          "execution_count": 2
        }
      ],
      "source": [
        "df = pd.read_csv('house_sales_prediction.csv').set_index('id', drop=True)\n",
        "df.head()"
      ]
    },
    {
      "cell_type": "markdown",
      "id": "2c0dd726-04fb-43df-be81-e6392450fa34",
      "metadata": {
        "id": "2c0dd726-04fb-43df-be81-e6392450fa34"
      },
      "source": [
        "# 1.a "
      ]
    },
    {
      "cell_type": "code",
      "execution_count": null,
      "id": "26a4320c-9805-47de-8ab9-807e1185eeaa",
      "metadata": {
        "colab": {
          "base_uri": "https://localhost:8080/",
          "height": 364
        },
        "id": "26a4320c-9805-47de-8ab9-807e1185eeaa",
        "outputId": "b16408d4-b7b9-401e-f6dd-00c41784b38e"
      },
      "outputs": [
        {
          "output_type": "execute_result",
          "data": {
            "text/html": [
              "\n",
              "  <div id=\"df-98356e35-d8cf-4369-99d9-66ad77f76aa5\">\n",
              "    <div class=\"colab-df-container\">\n",
              "      <div>\n",
              "<style scoped>\n",
              "    .dataframe tbody tr th:only-of-type {\n",
              "        vertical-align: middle;\n",
              "    }\n",
              "\n",
              "    .dataframe tbody tr th {\n",
              "        vertical-align: top;\n",
              "    }\n",
              "\n",
              "    .dataframe thead th {\n",
              "        text-align: right;\n",
              "    }\n",
              "</style>\n",
              "<table border=\"1\" class=\"dataframe\">\n",
              "  <thead>\n",
              "    <tr style=\"text-align: right;\">\n",
              "      <th></th>\n",
              "      <th>price</th>\n",
              "      <th>bedrooms</th>\n",
              "      <th>bathrooms</th>\n",
              "      <th>sqft_living</th>\n",
              "      <th>sqft_lot</th>\n",
              "      <th>floors</th>\n",
              "      <th>waterfront</th>\n",
              "      <th>view</th>\n",
              "      <th>condition</th>\n",
              "      <th>grade</th>\n",
              "      <th>sqft_above</th>\n",
              "      <th>sqft_basement</th>\n",
              "      <th>yr_built</th>\n",
              "      <th>yr_renovated</th>\n",
              "      <th>zipcode</th>\n",
              "      <th>lat</th>\n",
              "      <th>long</th>\n",
              "      <th>sqft_living15</th>\n",
              "      <th>sqft_lot15</th>\n",
              "    </tr>\n",
              "  </thead>\n",
              "  <tbody>\n",
              "    <tr>\n",
              "      <th>count</th>\n",
              "      <td>2.161300e+04</td>\n",
              "      <td>21613.000000</td>\n",
              "      <td>21613.000000</td>\n",
              "      <td>21613.000000</td>\n",
              "      <td>2.161300e+04</td>\n",
              "      <td>21613.000000</td>\n",
              "      <td>21613.000000</td>\n",
              "      <td>21613.000000</td>\n",
              "      <td>21613.000000</td>\n",
              "      <td>21613.000000</td>\n",
              "      <td>21613.000000</td>\n",
              "      <td>21613.000000</td>\n",
              "      <td>21613.000000</td>\n",
              "      <td>21613.000000</td>\n",
              "      <td>21613.000000</td>\n",
              "      <td>21613.000000</td>\n",
              "      <td>21613.000000</td>\n",
              "      <td>21613.000000</td>\n",
              "      <td>21613.000000</td>\n",
              "    </tr>\n",
              "    <tr>\n",
              "      <th>mean</th>\n",
              "      <td>5.400881e+05</td>\n",
              "      <td>3.370842</td>\n",
              "      <td>2.114757</td>\n",
              "      <td>2079.899736</td>\n",
              "      <td>1.510697e+04</td>\n",
              "      <td>1.494309</td>\n",
              "      <td>0.007542</td>\n",
              "      <td>0.234303</td>\n",
              "      <td>3.409430</td>\n",
              "      <td>7.656873</td>\n",
              "      <td>1788.390691</td>\n",
              "      <td>291.509045</td>\n",
              "      <td>1971.005136</td>\n",
              "      <td>84.402258</td>\n",
              "      <td>98077.939805</td>\n",
              "      <td>47.560053</td>\n",
              "      <td>-122.213896</td>\n",
              "      <td>1986.552492</td>\n",
              "      <td>12768.455652</td>\n",
              "    </tr>\n",
              "    <tr>\n",
              "      <th>std</th>\n",
              "      <td>3.671272e+05</td>\n",
              "      <td>0.930062</td>\n",
              "      <td>0.770163</td>\n",
              "      <td>918.440897</td>\n",
              "      <td>4.142051e+04</td>\n",
              "      <td>0.539989</td>\n",
              "      <td>0.086517</td>\n",
              "      <td>0.766318</td>\n",
              "      <td>0.650743</td>\n",
              "      <td>1.175459</td>\n",
              "      <td>828.090978</td>\n",
              "      <td>442.575043</td>\n",
              "      <td>29.373411</td>\n",
              "      <td>401.679240</td>\n",
              "      <td>53.505026</td>\n",
              "      <td>0.138564</td>\n",
              "      <td>0.140828</td>\n",
              "      <td>685.391304</td>\n",
              "      <td>27304.179631</td>\n",
              "    </tr>\n",
              "    <tr>\n",
              "      <th>min</th>\n",
              "      <td>7.500000e+04</td>\n",
              "      <td>0.000000</td>\n",
              "      <td>0.000000</td>\n",
              "      <td>290.000000</td>\n",
              "      <td>5.200000e+02</td>\n",
              "      <td>1.000000</td>\n",
              "      <td>0.000000</td>\n",
              "      <td>0.000000</td>\n",
              "      <td>1.000000</td>\n",
              "      <td>1.000000</td>\n",
              "      <td>290.000000</td>\n",
              "      <td>0.000000</td>\n",
              "      <td>1900.000000</td>\n",
              "      <td>0.000000</td>\n",
              "      <td>98001.000000</td>\n",
              "      <td>47.155900</td>\n",
              "      <td>-122.519000</td>\n",
              "      <td>399.000000</td>\n",
              "      <td>651.000000</td>\n",
              "    </tr>\n",
              "    <tr>\n",
              "      <th>25%</th>\n",
              "      <td>3.219500e+05</td>\n",
              "      <td>3.000000</td>\n",
              "      <td>1.750000</td>\n",
              "      <td>1427.000000</td>\n",
              "      <td>5.040000e+03</td>\n",
              "      <td>1.000000</td>\n",
              "      <td>0.000000</td>\n",
              "      <td>0.000000</td>\n",
              "      <td>3.000000</td>\n",
              "      <td>7.000000</td>\n",
              "      <td>1190.000000</td>\n",
              "      <td>0.000000</td>\n",
              "      <td>1951.000000</td>\n",
              "      <td>0.000000</td>\n",
              "      <td>98033.000000</td>\n",
              "      <td>47.471000</td>\n",
              "      <td>-122.328000</td>\n",
              "      <td>1490.000000</td>\n",
              "      <td>5100.000000</td>\n",
              "    </tr>\n",
              "    <tr>\n",
              "      <th>50%</th>\n",
              "      <td>4.500000e+05</td>\n",
              "      <td>3.000000</td>\n",
              "      <td>2.250000</td>\n",
              "      <td>1910.000000</td>\n",
              "      <td>7.618000e+03</td>\n",
              "      <td>1.500000</td>\n",
              "      <td>0.000000</td>\n",
              "      <td>0.000000</td>\n",
              "      <td>3.000000</td>\n",
              "      <td>7.000000</td>\n",
              "      <td>1560.000000</td>\n",
              "      <td>0.000000</td>\n",
              "      <td>1975.000000</td>\n",
              "      <td>0.000000</td>\n",
              "      <td>98065.000000</td>\n",
              "      <td>47.571800</td>\n",
              "      <td>-122.230000</td>\n",
              "      <td>1840.000000</td>\n",
              "      <td>7620.000000</td>\n",
              "    </tr>\n",
              "    <tr>\n",
              "      <th>75%</th>\n",
              "      <td>6.450000e+05</td>\n",
              "      <td>4.000000</td>\n",
              "      <td>2.500000</td>\n",
              "      <td>2550.000000</td>\n",
              "      <td>1.068800e+04</td>\n",
              "      <td>2.000000</td>\n",
              "      <td>0.000000</td>\n",
              "      <td>0.000000</td>\n",
              "      <td>4.000000</td>\n",
              "      <td>8.000000</td>\n",
              "      <td>2210.000000</td>\n",
              "      <td>560.000000</td>\n",
              "      <td>1997.000000</td>\n",
              "      <td>0.000000</td>\n",
              "      <td>98118.000000</td>\n",
              "      <td>47.678000</td>\n",
              "      <td>-122.125000</td>\n",
              "      <td>2360.000000</td>\n",
              "      <td>10083.000000</td>\n",
              "    </tr>\n",
              "    <tr>\n",
              "      <th>max</th>\n",
              "      <td>7.700000e+06</td>\n",
              "      <td>33.000000</td>\n",
              "      <td>8.000000</td>\n",
              "      <td>13540.000000</td>\n",
              "      <td>1.651359e+06</td>\n",
              "      <td>3.500000</td>\n",
              "      <td>1.000000</td>\n",
              "      <td>4.000000</td>\n",
              "      <td>5.000000</td>\n",
              "      <td>13.000000</td>\n",
              "      <td>9410.000000</td>\n",
              "      <td>4820.000000</td>\n",
              "      <td>2015.000000</td>\n",
              "      <td>2015.000000</td>\n",
              "      <td>98199.000000</td>\n",
              "      <td>47.777600</td>\n",
              "      <td>-121.315000</td>\n",
              "      <td>6210.000000</td>\n",
              "      <td>871200.000000</td>\n",
              "    </tr>\n",
              "  </tbody>\n",
              "</table>\n",
              "</div>\n",
              "      <button class=\"colab-df-convert\" onclick=\"convertToInteractive('df-98356e35-d8cf-4369-99d9-66ad77f76aa5')\"\n",
              "              title=\"Convert this dataframe to an interactive table.\"\n",
              "              style=\"display:none;\">\n",
              "        \n",
              "  <svg xmlns=\"http://www.w3.org/2000/svg\" height=\"24px\"viewBox=\"0 0 24 24\"\n",
              "       width=\"24px\">\n",
              "    <path d=\"M0 0h24v24H0V0z\" fill=\"none\"/>\n",
              "    <path d=\"M18.56 5.44l.94 2.06.94-2.06 2.06-.94-2.06-.94-.94-2.06-.94 2.06-2.06.94zm-11 1L8.5 8.5l.94-2.06 2.06-.94-2.06-.94L8.5 2.5l-.94 2.06-2.06.94zm10 10l.94 2.06.94-2.06 2.06-.94-2.06-.94-.94-2.06-.94 2.06-2.06.94z\"/><path d=\"M17.41 7.96l-1.37-1.37c-.4-.4-.92-.59-1.43-.59-.52 0-1.04.2-1.43.59L10.3 9.45l-7.72 7.72c-.78.78-.78 2.05 0 2.83L4 21.41c.39.39.9.59 1.41.59.51 0 1.02-.2 1.41-.59l7.78-7.78 2.81-2.81c.8-.78.8-2.07 0-2.86zM5.41 20L4 18.59l7.72-7.72 1.47 1.35L5.41 20z\"/>\n",
              "  </svg>\n",
              "      </button>\n",
              "      \n",
              "  <style>\n",
              "    .colab-df-container {\n",
              "      display:flex;\n",
              "      flex-wrap:wrap;\n",
              "      gap: 12px;\n",
              "    }\n",
              "\n",
              "    .colab-df-convert {\n",
              "      background-color: #E8F0FE;\n",
              "      border: none;\n",
              "      border-radius: 50%;\n",
              "      cursor: pointer;\n",
              "      display: none;\n",
              "      fill: #1967D2;\n",
              "      height: 32px;\n",
              "      padding: 0 0 0 0;\n",
              "      width: 32px;\n",
              "    }\n",
              "\n",
              "    .colab-df-convert:hover {\n",
              "      background-color: #E2EBFA;\n",
              "      box-shadow: 0px 1px 2px rgba(60, 64, 67, 0.3), 0px 1px 3px 1px rgba(60, 64, 67, 0.15);\n",
              "      fill: #174EA6;\n",
              "    }\n",
              "\n",
              "    [theme=dark] .colab-df-convert {\n",
              "      background-color: #3B4455;\n",
              "      fill: #D2E3FC;\n",
              "    }\n",
              "\n",
              "    [theme=dark] .colab-df-convert:hover {\n",
              "      background-color: #434B5C;\n",
              "      box-shadow: 0px 1px 3px 1px rgba(0, 0, 0, 0.15);\n",
              "      filter: drop-shadow(0px 1px 2px rgba(0, 0, 0, 0.3));\n",
              "      fill: #FFFFFF;\n",
              "    }\n",
              "  </style>\n",
              "\n",
              "      <script>\n",
              "        const buttonEl =\n",
              "          document.querySelector('#df-98356e35-d8cf-4369-99d9-66ad77f76aa5 button.colab-df-convert');\n",
              "        buttonEl.style.display =\n",
              "          google.colab.kernel.accessAllowed ? 'block' : 'none';\n",
              "\n",
              "        async function convertToInteractive(key) {\n",
              "          const element = document.querySelector('#df-98356e35-d8cf-4369-99d9-66ad77f76aa5');\n",
              "          const dataTable =\n",
              "            await google.colab.kernel.invokeFunction('convertToInteractive',\n",
              "                                                     [key], {});\n",
              "          if (!dataTable) return;\n",
              "\n",
              "          const docLinkHtml = 'Like what you see? Visit the ' +\n",
              "            '<a target=\"_blank\" href=https://colab.research.google.com/notebooks/data_table.ipynb>data table notebook</a>'\n",
              "            + ' to learn more about interactive tables.';\n",
              "          element.innerHTML = '';\n",
              "          dataTable['output_type'] = 'display_data';\n",
              "          await google.colab.output.renderOutput(dataTable, element);\n",
              "          const docLink = document.createElement('div');\n",
              "          docLink.innerHTML = docLinkHtml;\n",
              "          element.appendChild(docLink);\n",
              "        }\n",
              "      </script>\n",
              "    </div>\n",
              "  </div>\n",
              "  "
            ],
            "text/plain": [
              "              price      bedrooms  ...  sqft_living15     sqft_lot15\n",
              "count  2.161300e+04  21613.000000  ...   21613.000000   21613.000000\n",
              "mean   5.400881e+05      3.370842  ...    1986.552492   12768.455652\n",
              "std    3.671272e+05      0.930062  ...     685.391304   27304.179631\n",
              "min    7.500000e+04      0.000000  ...     399.000000     651.000000\n",
              "25%    3.219500e+05      3.000000  ...    1490.000000    5100.000000\n",
              "50%    4.500000e+05      3.000000  ...    1840.000000    7620.000000\n",
              "75%    6.450000e+05      4.000000  ...    2360.000000   10083.000000\n",
              "max    7.700000e+06     33.000000  ...    6210.000000  871200.000000\n",
              "\n",
              "[8 rows x 19 columns]"
            ]
          },
          "metadata": {},
          "execution_count": 3
        }
      ],
      "source": [
        "df.describe()"
      ]
    },
    {
      "cell_type": "code",
      "execution_count": null,
      "id": "ac9d1399-d0ad-446f-b657-0f60c62f27a7",
      "metadata": {
        "colab": {
          "base_uri": "https://localhost:8080/"
        },
        "id": "ac9d1399-d0ad-446f-b657-0f60c62f27a7",
        "outputId": "c87dc331-454b-49d0-9a16-d511abe959bf"
      },
      "outputs": [
        {
          "output_type": "execute_result",
          "data": {
            "text/plain": [
              "date              object\n",
              "price            float64\n",
              "bedrooms           int64\n",
              "bathrooms        float64\n",
              "sqft_living        int64\n",
              "sqft_lot           int64\n",
              "floors           float64\n",
              "waterfront         int64\n",
              "view               int64\n",
              "condition          int64\n",
              "grade              int64\n",
              "sqft_above         int64\n",
              "sqft_basement      int64\n",
              "yr_built           int64\n",
              "yr_renovated       int64\n",
              "zipcode            int64\n",
              "lat              float64\n",
              "long             float64\n",
              "sqft_living15      int64\n",
              "sqft_lot15         int64\n",
              "dtype: object"
            ]
          },
          "metadata": {},
          "execution_count": 82
        }
      ],
      "source": [
        "df.dtypes"
      ]
    },
    {
      "cell_type": "code",
      "execution_count": null,
      "id": "0eb3f8e1-dc8a-4df2-8bc1-6536833d7d7b",
      "metadata": {
        "colab": {
          "base_uri": "https://localhost:8080/",
          "height": 238
        },
        "id": "0eb3f8e1-dc8a-4df2-8bc1-6536833d7d7b",
        "outputId": "0f7d25a9-9f0c-44f7-a62b-be286e053988"
      },
      "outputs": [
        {
          "output_type": "execute_result",
          "data": {
            "text/html": [
              "\n",
              "  <div id=\"df-1ae831d3-2007-4ba8-9f81-4dd51e5d6c38\">\n",
              "    <div class=\"colab-df-container\">\n",
              "      <div>\n",
              "<style scoped>\n",
              "    .dataframe tbody tr th:only-of-type {\n",
              "        vertical-align: middle;\n",
              "    }\n",
              "\n",
              "    .dataframe tbody tr th {\n",
              "        vertical-align: top;\n",
              "    }\n",
              "\n",
              "    .dataframe thead th {\n",
              "        text-align: right;\n",
              "    }\n",
              "</style>\n",
              "<table border=\"1\" class=\"dataframe\">\n",
              "  <thead>\n",
              "    <tr style=\"text-align: right;\">\n",
              "      <th></th>\n",
              "      <th>date</th>\n",
              "      <th>price</th>\n",
              "      <th>bedrooms</th>\n",
              "      <th>bathrooms</th>\n",
              "      <th>sqft_living</th>\n",
              "      <th>sqft_lot</th>\n",
              "      <th>floors</th>\n",
              "      <th>waterfront</th>\n",
              "      <th>view</th>\n",
              "      <th>condition</th>\n",
              "      <th>grade</th>\n",
              "      <th>sqft_above</th>\n",
              "      <th>sqft_basement</th>\n",
              "      <th>yr_built</th>\n",
              "      <th>yr_renovated</th>\n",
              "      <th>zipcode</th>\n",
              "      <th>lat</th>\n",
              "      <th>long</th>\n",
              "      <th>sqft_living15</th>\n",
              "      <th>sqft_lot15</th>\n",
              "    </tr>\n",
              "  </thead>\n",
              "  <tbody>\n",
              "    <tr>\n",
              "      <th>0</th>\n",
              "      <td>20140623T000000</td>\n",
              "      <td>350000.0</td>\n",
              "      <td>3.0</td>\n",
              "      <td>2.5</td>\n",
              "      <td>1300.0</td>\n",
              "      <td>5000.0</td>\n",
              "      <td>1.0</td>\n",
              "      <td>0.0</td>\n",
              "      <td>0.0</td>\n",
              "      <td>3.0</td>\n",
              "      <td>7.0</td>\n",
              "      <td>1300.0</td>\n",
              "      <td>0.0</td>\n",
              "      <td>2014.0</td>\n",
              "      <td>0.0</td>\n",
              "      <td>98103.0</td>\n",
              "      <td>47.5322</td>\n",
              "      <td>-122.29</td>\n",
              "      <td>1540.0</td>\n",
              "      <td>5000.0</td>\n",
              "    </tr>\n",
              "    <tr>\n",
              "      <th>1</th>\n",
              "      <td>NaN</td>\n",
              "      <td>450000.0</td>\n",
              "      <td>NaN</td>\n",
              "      <td>NaN</td>\n",
              "      <td>NaN</td>\n",
              "      <td>NaN</td>\n",
              "      <td>NaN</td>\n",
              "      <td>NaN</td>\n",
              "      <td>NaN</td>\n",
              "      <td>NaN</td>\n",
              "      <td>NaN</td>\n",
              "      <td>NaN</td>\n",
              "      <td>NaN</td>\n",
              "      <td>NaN</td>\n",
              "      <td>NaN</td>\n",
              "      <td>NaN</td>\n",
              "      <td>47.5491</td>\n",
              "      <td>NaN</td>\n",
              "      <td>NaN</td>\n",
              "      <td>NaN</td>\n",
              "    </tr>\n",
              "    <tr>\n",
              "      <th>2</th>\n",
              "      <td>NaN</td>\n",
              "      <td>NaN</td>\n",
              "      <td>NaN</td>\n",
              "      <td>NaN</td>\n",
              "      <td>NaN</td>\n",
              "      <td>NaN</td>\n",
              "      <td>NaN</td>\n",
              "      <td>NaN</td>\n",
              "      <td>NaN</td>\n",
              "      <td>NaN</td>\n",
              "      <td>NaN</td>\n",
              "      <td>NaN</td>\n",
              "      <td>NaN</td>\n",
              "      <td>NaN</td>\n",
              "      <td>NaN</td>\n",
              "      <td>NaN</td>\n",
              "      <td>47.6624</td>\n",
              "      <td>NaN</td>\n",
              "      <td>NaN</td>\n",
              "      <td>NaN</td>\n",
              "    </tr>\n",
              "    <tr>\n",
              "      <th>3</th>\n",
              "      <td>NaN</td>\n",
              "      <td>NaN</td>\n",
              "      <td>NaN</td>\n",
              "      <td>NaN</td>\n",
              "      <td>NaN</td>\n",
              "      <td>NaN</td>\n",
              "      <td>NaN</td>\n",
              "      <td>NaN</td>\n",
              "      <td>NaN</td>\n",
              "      <td>NaN</td>\n",
              "      <td>NaN</td>\n",
              "      <td>NaN</td>\n",
              "      <td>NaN</td>\n",
              "      <td>NaN</td>\n",
              "      <td>NaN</td>\n",
              "      <td>NaN</td>\n",
              "      <td>47.6846</td>\n",
              "      <td>NaN</td>\n",
              "      <td>NaN</td>\n",
              "      <td>NaN</td>\n",
              "    </tr>\n",
              "  </tbody>\n",
              "</table>\n",
              "</div>\n",
              "      <button class=\"colab-df-convert\" onclick=\"convertToInteractive('df-1ae831d3-2007-4ba8-9f81-4dd51e5d6c38')\"\n",
              "              title=\"Convert this dataframe to an interactive table.\"\n",
              "              style=\"display:none;\">\n",
              "        \n",
              "  <svg xmlns=\"http://www.w3.org/2000/svg\" height=\"24px\"viewBox=\"0 0 24 24\"\n",
              "       width=\"24px\">\n",
              "    <path d=\"M0 0h24v24H0V0z\" fill=\"none\"/>\n",
              "    <path d=\"M18.56 5.44l.94 2.06.94-2.06 2.06-.94-2.06-.94-.94-2.06-.94 2.06-2.06.94zm-11 1L8.5 8.5l.94-2.06 2.06-.94-2.06-.94L8.5 2.5l-.94 2.06-2.06.94zm10 10l.94 2.06.94-2.06 2.06-.94-2.06-.94-.94-2.06-.94 2.06-2.06.94z\"/><path d=\"M17.41 7.96l-1.37-1.37c-.4-.4-.92-.59-1.43-.59-.52 0-1.04.2-1.43.59L10.3 9.45l-7.72 7.72c-.78.78-.78 2.05 0 2.83L4 21.41c.39.39.9.59 1.41.59.51 0 1.02-.2 1.41-.59l7.78-7.78 2.81-2.81c.8-.78.8-2.07 0-2.86zM5.41 20L4 18.59l7.72-7.72 1.47 1.35L5.41 20z\"/>\n",
              "  </svg>\n",
              "      </button>\n",
              "      \n",
              "  <style>\n",
              "    .colab-df-container {\n",
              "      display:flex;\n",
              "      flex-wrap:wrap;\n",
              "      gap: 12px;\n",
              "    }\n",
              "\n",
              "    .colab-df-convert {\n",
              "      background-color: #E8F0FE;\n",
              "      border: none;\n",
              "      border-radius: 50%;\n",
              "      cursor: pointer;\n",
              "      display: none;\n",
              "      fill: #1967D2;\n",
              "      height: 32px;\n",
              "      padding: 0 0 0 0;\n",
              "      width: 32px;\n",
              "    }\n",
              "\n",
              "    .colab-df-convert:hover {\n",
              "      background-color: #E2EBFA;\n",
              "      box-shadow: 0px 1px 2px rgba(60, 64, 67, 0.3), 0px 1px 3px 1px rgba(60, 64, 67, 0.15);\n",
              "      fill: #174EA6;\n",
              "    }\n",
              "\n",
              "    [theme=dark] .colab-df-convert {\n",
              "      background-color: #3B4455;\n",
              "      fill: #D2E3FC;\n",
              "    }\n",
              "\n",
              "    [theme=dark] .colab-df-convert:hover {\n",
              "      background-color: #434B5C;\n",
              "      box-shadow: 0px 1px 3px 1px rgba(0, 0, 0, 0.15);\n",
              "      filter: drop-shadow(0px 1px 2px rgba(0, 0, 0, 0.3));\n",
              "      fill: #FFFFFF;\n",
              "    }\n",
              "  </style>\n",
              "\n",
              "      <script>\n",
              "        const buttonEl =\n",
              "          document.querySelector('#df-1ae831d3-2007-4ba8-9f81-4dd51e5d6c38 button.colab-df-convert');\n",
              "        buttonEl.style.display =\n",
              "          google.colab.kernel.accessAllowed ? 'block' : 'none';\n",
              "\n",
              "        async function convertToInteractive(key) {\n",
              "          const element = document.querySelector('#df-1ae831d3-2007-4ba8-9f81-4dd51e5d6c38');\n",
              "          const dataTable =\n",
              "            await google.colab.kernel.invokeFunction('convertToInteractive',\n",
              "                                                     [key], {});\n",
              "          if (!dataTable) return;\n",
              "\n",
              "          const docLinkHtml = 'Like what you see? Visit the ' +\n",
              "            '<a target=\"_blank\" href=https://colab.research.google.com/notebooks/data_table.ipynb>data table notebook</a>'\n",
              "            + ' to learn more about interactive tables.';\n",
              "          element.innerHTML = '';\n",
              "          dataTable['output_type'] = 'display_data';\n",
              "          await google.colab.output.renderOutput(dataTable, element);\n",
              "          const docLink = document.createElement('div');\n",
              "          docLink.innerHTML = docLinkHtml;\n",
              "          element.appendChild(docLink);\n",
              "        }\n",
              "      </script>\n",
              "    </div>\n",
              "  </div>\n",
              "  "
            ],
            "text/plain": [
              "              date     price  bedrooms  ...    long  sqft_living15  sqft_lot15\n",
              "0  20140623T000000  350000.0       3.0  ... -122.29         1540.0      5000.0\n",
              "1              NaN  450000.0       NaN  ...     NaN            NaN         NaN\n",
              "2              NaN       NaN       NaN  ...     NaN            NaN         NaN\n",
              "3              NaN       NaN       NaN  ...     NaN            NaN         NaN\n",
              "\n",
              "[4 rows x 20 columns]"
            ]
          },
          "metadata": {},
          "execution_count": 83
        }
      ],
      "source": [
        "df.mode()"
      ]
    },
    {
      "cell_type": "markdown",
      "id": "5c895d40-a9c0-498d-87b0-7231744c4517",
      "metadata": {
        "id": "5c895d40-a9c0-498d-87b0-7231744c4517"
      },
      "source": [
        "## 1.b"
      ]
    },
    {
      "cell_type": "code",
      "execution_count": null,
      "id": "511b79f4-8052-48e1-a236-34f9f681e148",
      "metadata": {
        "colab": {
          "base_uri": "https://localhost:8080/"
        },
        "id": "511b79f4-8052-48e1-a236-34f9f681e148",
        "outputId": "f9db8863-a6fe-4f4b-aad9-7f1a725fd83f"
      },
      "outputs": [
        {
          "output_type": "execute_result",
          "data": {
            "text/plain": [
              "price             4.024069\n",
              "bedrooms          1.974300\n",
              "bathrooms         0.511108\n",
              "sqft_living       1.471555\n",
              "sqft_lot         13.060019\n",
              "floors            0.616177\n",
              "waterfront       11.385108\n",
              "view              3.395750\n",
              "condition         1.032805\n",
              "grade             0.771103\n",
              "sqft_above        1.446664\n",
              "sqft_basement     1.577965\n",
              "yr_built         -0.469805\n",
              "yr_renovated      4.549493\n",
              "zipcode           0.405661\n",
              "lat              -0.485270\n",
              "long              0.885053\n",
              "sqft_living15     1.108181\n",
              "sqft_lot15        9.506743\n",
              "dtype: float64"
            ]
          },
          "metadata": {},
          "execution_count": 84
        }
      ],
      "source": [
        "skew = df.skew(axis = 0, skipna = True)\n",
        "skew"
      ]
    },
    {
      "cell_type": "code",
      "execution_count": null,
      "id": "01d061a4-c57c-4e6a-8a9c-59cfd6d5b5e2",
      "metadata": {
        "colab": {
          "base_uri": "https://localhost:8080/",
          "height": 401
        },
        "id": "01d061a4-c57c-4e6a-8a9c-59cfd6d5b5e2",
        "outputId": "35bdab50-b69d-4ac8-bf42-47de81b4be92"
      },
      "outputs": [
        {
          "output_type": "execute_result",
          "data": {
            "text/plain": [
              "<matplotlib.axes._subplots.AxesSubplot at 0x7fa7d07ad350>"
            ]
          },
          "metadata": {},
          "execution_count": 85
        },
        {
          "output_type": "display_data",
          "data": {
            "image/png": "[encoded data removed]",
            "text/plain": [
              "<Figure size 720x360 with 1 Axes>"
            ]
          },
          "metadata": {
            "needs_background": "light"
          }
        }
      ],
      "source": [
        "skew.plot.bar(figsize=(10, 5), ylabel='feature skewness')"
      ]
    },
    {
      "cell_type": "markdown",
      "id": "8185e852-d485-4701-9c18-475b898fe47e",
      "metadata": {
        "id": "8185e852-d485-4701-9c18-475b898fe47e"
      },
      "source": [
        "## 1.c"
      ]
    },
    {
      "cell_type": "code",
      "execution_count": 3,
      "id": "9c0b55fa-6112-4da6-afcd-822c6f0c2672",
      "metadata": {
        "colab": {
          "base_uri": "https://localhost:8080/"
        },
        "id": "9c0b55fa-6112-4da6-afcd-822c6f0c2672",
        "outputId": "499e569e-18b6-4445-da91-2a1c8bba4068"
      },
      "outputs": [
        {
          "output_type": "stream",
          "name": "stdout",
          "text": [
            "date   => has NO missing value!\n",
            "price   => has NO missing value!\n",
            "bedrooms   => has NO missing value!\n",
            "bathrooms   => has NO missing value!\n",
            "sqft_living   => has NO missing value!\n",
            "sqft_lot   => has NO missing value!\n",
            "floors   => has NO missing value!\n",
            "waterfront   => has NO missing value!\n",
            "view   => has NO missing value!\n",
            "condition   => has NO missing value!\n",
            "grade   => has NO missing value!\n",
            "sqft_above   => has NO missing value!\n",
            "sqft_basement   => has NO missing value!\n",
            "yr_built   => has NO missing value!\n",
            "yr_renovated   => has NO missing value!\n",
            "zipcode   => has NO missing value!\n",
            "lat   => has NO missing value!\n",
            "long   => has NO missing value!\n",
            "sqft_living15   => has NO missing value!\n",
            "sqft_lot15   => has NO missing value!\n"
          ]
        }
      ],
      "source": [
        "# check for missing values\n",
        "\n",
        "for col in df.columns:\n",
        "    miss = df[col].isnull().sum()\n",
        "    if miss > 0:\n",
        "        print(\"{}   => has {} missing value(s)\".format(col, miss))\n",
        "    else:\n",
        "        print(\"{}   => has NO missing value!\".format(col))"
      ]
    },
    {
      "cell_type": "markdown",
      "id": "adcba250-d583-4185-9eb1-d49d4c7f568c",
      "metadata": {
        "id": "adcba250-d583-4185-9eb1-d49d4c7f568c"
      },
      "source": [
        "## 1.d"
      ]
    },
    {
      "cell_type": "code",
      "execution_count": null,
      "id": "4006be9d-d647-4fc9-95cf-bf0b0d28637b",
      "metadata": {
        "colab": {
          "base_uri": "https://localhost:8080/",
          "height": 1000
        },
        "id": "4006be9d-d647-4fc9-95cf-bf0b0d28637b",
        "outputId": "1880ba2e-d5a3-4a49-d7dc-b3b5073191b0"
      },
      "outputs": [
        {
          "output_type": "execute_result",
          "data": {
            "text/plain": [
              "array([<matplotlib.axes._subplots.AxesSubplot object at 0x7fa7d08a3990>,\n",
              "       <matplotlib.axes._subplots.AxesSubplot object at 0x7fa7d07d3990>,\n",
              "       <matplotlib.axes._subplots.AxesSubplot object at 0x7fa7d0743f50>,\n",
              "       <matplotlib.axes._subplots.AxesSubplot object at 0x7fa7d0782550>,\n",
              "       <matplotlib.axes._subplots.AxesSubplot object at 0x7fa7d0733b10>,\n",
              "       <matplotlib.axes._subplots.AxesSubplot object at 0x7fa7d06f1110>,\n",
              "       <matplotlib.axes._subplots.AxesSubplot object at 0x7fa7c62c56d0>,\n",
              "       <matplotlib.axes._subplots.AxesSubplot object at 0x7fa7c6279d50>,\n",
              "       <matplotlib.axes._subplots.AxesSubplot object at 0x7fa7c623d2d0>,\n",
              "       <matplotlib.axes._subplots.AxesSubplot object at 0x7fa7c61f28d0>,\n",
              "       <matplotlib.axes._subplots.AxesSubplot object at 0x7fa7c61a9f10>,\n",
              "       <matplotlib.axes._subplots.AxesSubplot object at 0x7fa7c616e510>,\n",
              "       <matplotlib.axes._subplots.AxesSubplot object at 0x7fa7d076dc90>,\n",
              "       <matplotlib.axes._subplots.AxesSubplot object at 0x7fa7c61b8990>,\n",
              "       <matplotlib.axes._subplots.AxesSubplot object at 0x7fa7c60fddd0>,\n",
              "       <matplotlib.axes._subplots.AxesSubplot object at 0x7fa7c60b7f90>,\n",
              "       <matplotlib.axes._subplots.AxesSubplot object at 0x7fa7c607a590>,\n",
              "       <matplotlib.axes._subplots.AxesSubplot object at 0x7fa7c602fb50>],\n",
              "      dtype=object)"
            ]
          },
          "metadata": {},
          "execution_count": 87
        },
        {
          "output_type": "display_data",
          "data": {
            "image/png": "[encoded data removed]",
            "text/plain": [
              "<Figure size 1080x1728 with 18 Axes>"
            ]
          },
          "metadata": {
            "needs_background": "light"
          }
        }
      ],
      "source": [
        "fig, ax = plt.subplots(6, 3, figsize=(15, 24))\n",
        "df.hist(column=df.columns[2:], ax=ax)"
      ]
    },
    {
      "cell_type": "code",
      "execution_count": null,
      "id": "808f0429-b14e-43cb-bfec-a5e3a844098c",
      "metadata": {
        "colab": {
          "base_uri": "https://localhost:8080/",
          "height": 331
        },
        "id": "808f0429-b14e-43cb-bfec-a5e3a844098c",
        "outputId": "dfd0419b-35ec-4309-d27d-b51fffc610ba"
      },
      "outputs": [
        {
          "output_type": "execute_result",
          "data": {
            "text/plain": [
              "array([[<matplotlib.axes._subplots.AxesSubplot object at 0x7fa7d0821d90>]],\n",
              "      dtype=object)"
            ]
          },
          "metadata": {},
          "execution_count": 88
        },
        {
          "output_type": "display_data",
          "data": {
            "image/png": "[encoded data removed]",
            "text/plain": [
              "<Figure size 360x288 with 1 Axes>"
            ]
          },
          "metadata": {
            "needs_background": "light"
          }
        }
      ],
      "source": [
        "df.hist(column=df.columns[1], figsize=(5, 4))"
      ]
    },
    {
      "cell_type": "markdown",
      "id": "e14809b4-c64e-49bc-9121-ec2dfc1f4210",
      "metadata": {
        "id": "e14809b4-c64e-49bc-9121-ec2dfc1f4210"
      },
      "source": [
        "## 1.e"
      ]
    },
    {
      "cell_type": "code",
      "execution_count": null,
      "id": "c766d7bc-0cc8-4418-a25f-e7437197389b",
      "metadata": {
        "id": "c766d7bc-0cc8-4418-a25f-e7437197389b",
        "outputId": "a6b0bdff-a2f3-4e6f-c8a1-d8292c1387bc",
        "colab": {
          "base_uri": "https://localhost:8080/",
          "height": 1000
        }
      },
      "outputs": [
        {
          "output_type": "display_data",
          "data": {
            "image/png": "[encoded data removed]",
            "text/plain": [
              "<Figure size 432x288 with 1 Axes>"
            ]
          },
          "metadata": {
            "needs_background": "light"
          }
        },
        {
          "output_type": "display_data",
          "data": {
            "image/png": "[encoded data removed]",
            "text/plain": [
              "<Figure size 432x288 with 1 Axes>"
            ]
          },
          "metadata": {
            "needs_background": "light"
          }
        },
        {
          "output_type": "display_data",
          "data": {
            "image/png": "[encoded data removed]",
            "text/plain": [
              "<Figure size 432x288 with 1 Axes>"
            ]
          },
          "metadata": {
            "needs_background": "light"
          }
        },
        {
          "output_type": "display_data",
          "data": {
            "image/png": "[encoded data removed]",
            "text/plain": [
              "<Figure size 432x288 with 1 Axes>"
            ]
          },
          "metadata": {
            "needs_background": "light"
          }
        },
        {
          "output_type": "display_data",
          "data": {
            "image/png": "[encoded data removed]",
            "text/plain": [
              "<Figure size 432x288 with 1 Axes>"
            ]
          },
          "metadata": {
            "needs_background": "light"
          }
        },
        {
          "output_type": "display_data",
          "data": {
            "image/png": "[encoded data removed]",
            "text/plain": [
              "<Figure size 432x288 with 1 Axes>"
            ]
          },
          "metadata": {
            "needs_background": "light"
          }
        },
        {
          "output_type": "display_data",
          "data": {
            "image/png": "[encoded data removed]",
            "text/plain": [
              "<Figure size 432x288 with 1 Axes>"
            ]
          },
          "metadata": {
            "needs_background": "light"
          }
        },
        {
          "output_type": "display_data",
          "data": {
            "image/png": "[encoded data removed]",
            "text/plain": [
              "<Figure size 432x288 with 1 Axes>"
            ]
          },
          "metadata": {
            "needs_background": "light"
          }
        },
        {
          "output_type": "display_data",
          "data": {
            "image/png": "[encoded data removed]",
            "text/plain": [
              "<Figure size 432x288 with 1 Axes>"
            ]
          },
          "metadata": {
            "needs_background": "light"
          }
        },
        {
          "output_type": "display_data",
          "data": {
            "image/png": "[encoded data removed]",
            "text/plain": [
              "<Figure size 432x288 with 1 Axes>"
            ]
          },
          "metadata": {
            "needs_background": "light"
          }
        },
        {
          "output_type": "display_data",
          "data": {
            "image/png": "[encoded data removed]",
            "text/plain": [
              "<Figure size 432x288 with 1 Axes>"
            ]
          },
          "metadata": {
            "needs_background": "light"
          }
        },
        {
          "output_type": "display_data",
          "data": {
            "image/png": "[encoded data removed]",
            "text/plain": [
              "<Figure size 432x288 with 1 Axes>"
            ]
          },
          "metadata": {
            "needs_background": "light"
          }
        },
        {
          "output_type": "display_data",
          "data": {
            "image/png": "[encoded data removed]",
            "text/plain": [
              "<Figure size 432x288 with 1 Axes>"
            ]
          },
          "metadata": {
            "needs_background": "light"
          }
        },
        {
          "output_type": "display_data",
          "data": {
            "image/png": "[encoded data removed]",
            "text/plain": [
              "<Figure size 432x288 with 1 Axes>"
            ]
          },
          "metadata": {
            "needs_background": "light"
          }
        },
        {
          "output_type": "display_data",
          "data": {
            "image/png": "[encoded data removed]",
            "text/plain": [
              "<Figure size 432x288 with 1 Axes>"
            ]
          },
          "metadata": {
            "needs_background": "light"
          }
        },
        {
          "output_type": "display_data",
          "data": {
            "image/png": "[encoded data removed]",
            "text/plain": [
              "<Figure size 432x288 with 1 Axes>"
            ]
          },
          "metadata": {
            "needs_background": "light"
          }
        },
        {
          "output_type": "display_data",
          "data": {
            "image/png": "[encoded data removed]",
            "text/plain": [
              "<Figure size 432x288 with 1 Axes>"
            ]
          },
          "metadata": {
            "needs_background": "light"
          }
        },
        {
          "output_type": "display_data",
          "data": {
            "image/png": "[encoded data removed]",
            "text/plain": [
              "<Figure size 432x288 with 1 Axes>"
            ]
          },
          "metadata": {
            "needs_background": "light"
          }
        },
        {
          "output_type": "display_data",
          "data": {
            "image/png": "[encoded data removed]",
            "text/plain": [
              "<Figure size 432x288 with 1 Axes>"
            ]
          },
          "metadata": {
            "needs_background": "light"
          }
        }
      ],
      "source": [
        "for col in df.columns[1:]:\n",
        "    plt.figure()\n",
        "    df.boxplot([col])"
      ]
    },
    {
      "cell_type": "markdown",
      "id": "213cca94-f566-4fbe-9eda-c9c77073887f",
      "metadata": {
        "id": "213cca94-f566-4fbe-9eda-c9c77073887f"
      },
      "source": [
        "## 1.f"
      ]
    },
    {
      "cell_type": "code",
      "execution_count": 4,
      "id": "b092634c-9ba9-4843-9980-60c2d48cc7ef",
      "metadata": {
        "colab": {
          "base_uri": "https://localhost:8080/",
          "height": 437
        },
        "id": "b092634c-9ba9-4843-9980-60c2d48cc7ef",
        "outputId": "415407af-e58e-45c4-c137-0c762e6c4b5c"
      },
      "outputs": [
        {
          "output_type": "execute_result",
          "data": {
            "text/html": [
              "\n",
              "  <div id=\"df-919cdd2b-91dd-49bc-b42f-59530e2e36d0\">\n",
              "    <div class=\"colab-df-container\">\n",
              "      <div>\n",
              "<style scoped>\n",
              "    .dataframe tbody tr th:only-of-type {\n",
              "        vertical-align: middle;\n",
              "    }\n",
              "\n",
              "    .dataframe tbody tr th {\n",
              "        vertical-align: top;\n",
              "    }\n",
              "\n",
              "    .dataframe thead th {\n",
              "        text-align: right;\n",
              "    }\n",
              "</style>\n",
              "<table border=\"1\" class=\"dataframe\">\n",
              "  <thead>\n",
              "    <tr style=\"text-align: right;\">\n",
              "      <th>id</th>\n",
              "      <th>7129300520</th>\n",
              "      <th>6414100192</th>\n",
              "      <th>5631500400</th>\n",
              "      <th>2487200875</th>\n",
              "      <th>1954400510</th>\n",
              "      <th>7237550310</th>\n",
              "      <th>1321400060</th>\n",
              "      <th>2008000270</th>\n",
              "      <th>2414600126</th>\n",
              "      <th>3793500160</th>\n",
              "    </tr>\n",
              "    <tr>\n",
              "      <th>id</th>\n",
              "      <th></th>\n",
              "      <th></th>\n",
              "      <th></th>\n",
              "      <th></th>\n",
              "      <th></th>\n",
              "      <th></th>\n",
              "      <th></th>\n",
              "      <th></th>\n",
              "      <th></th>\n",
              "      <th></th>\n",
              "    </tr>\n",
              "  </thead>\n",
              "  <tbody>\n",
              "    <tr>\n",
              "      <th>7129300520</th>\n",
              "      <td>0.000000e+00</td>\n",
              "      <td>0.000003</td>\n",
              "      <td>2.368433e-05</td>\n",
              "      <td>0.000003</td>\n",
              "      <td>0.000003</td>\n",
              "      <td>9.878305e-07</td>\n",
              "      <td>0.000028</td>\n",
              "      <td>0.000014</td>\n",
              "      <td>1.210369e-04</td>\n",
              "      <td>0.000010</td>\n",
              "    </tr>\n",
              "    <tr>\n",
              "      <th>6414100192</th>\n",
              "      <td>3.163330e-06</td>\n",
              "      <td>0.000000</td>\n",
              "      <td>2.793090e-06</td>\n",
              "      <td>0.000015</td>\n",
              "      <td>0.000036</td>\n",
              "      <td>1.428786e-06</td>\n",
              "      <td>0.000004</td>\n",
              "      <td>0.000004</td>\n",
              "      <td>3.241374e-06</td>\n",
              "      <td>0.000005</td>\n",
              "    </tr>\n",
              "    <tr>\n",
              "      <th>5631500400</th>\n",
              "      <td>2.368433e-05</td>\n",
              "      <td>0.000003</td>\n",
              "      <td>0.000000e+00</td>\n",
              "      <td>0.000002</td>\n",
              "      <td>0.000003</td>\n",
              "      <td>9.494457e-07</td>\n",
              "      <td>0.000013</td>\n",
              "      <td>0.000009</td>\n",
              "      <td>2.016489e-05</td>\n",
              "      <td>0.000007</td>\n",
              "    </tr>\n",
              "    <tr>\n",
              "      <th>2487200875</th>\n",
              "      <td>2.617088e-06</td>\n",
              "      <td>0.000015</td>\n",
              "      <td>2.358232e-06</td>\n",
              "      <td>0.000000</td>\n",
              "      <td>0.000011</td>\n",
              "      <td>1.572387e-06</td>\n",
              "      <td>0.000003</td>\n",
              "      <td>0.000003</td>\n",
              "      <td>2.670067e-06</td>\n",
              "      <td>0.000004</td>\n",
              "    </tr>\n",
              "    <tr>\n",
              "      <th>1954400510</th>\n",
              "      <td>3.470795e-06</td>\n",
              "      <td>0.000036</td>\n",
              "      <td>3.030203e-06</td>\n",
              "      <td>0.000011</td>\n",
              "      <td>0.000000</td>\n",
              "      <td>1.374928e-06</td>\n",
              "      <td>0.000004</td>\n",
              "      <td>0.000005</td>\n",
              "      <td>3.565011e-06</td>\n",
              "      <td>0.000005</td>\n",
              "    </tr>\n",
              "    <tr>\n",
              "      <th>7237550310</th>\n",
              "      <td>9.878305e-07</td>\n",
              "      <td>0.000001</td>\n",
              "      <td>9.494457e-07</td>\n",
              "      <td>0.000002</td>\n",
              "      <td>0.000001</td>\n",
              "      <td>0.000000e+00</td>\n",
              "      <td>0.000001</td>\n",
              "      <td>0.000001</td>\n",
              "      <td>9.956400e-07</td>\n",
              "      <td>0.000001</td>\n",
              "    </tr>\n",
              "    <tr>\n",
              "      <th>1321400060</th>\n",
              "      <td>2.804329e-05</td>\n",
              "      <td>0.000004</td>\n",
              "      <td>1.288838e-05</td>\n",
              "      <td>0.000003</td>\n",
              "      <td>0.000004</td>\n",
              "      <td>1.023730e-06</td>\n",
              "      <td>0.000000</td>\n",
              "      <td>0.000029</td>\n",
              "      <td>3.563788e-05</td>\n",
              "      <td>0.000015</td>\n",
              "    </tr>\n",
              "    <tr>\n",
              "      <th>2008000270</th>\n",
              "      <td>1.424760e-05</td>\n",
              "      <td>0.000004</td>\n",
              "      <td>8.938985e-06</td>\n",
              "      <td>0.000003</td>\n",
              "      <td>0.000005</td>\n",
              "      <td>1.061299e-06</td>\n",
              "      <td>0.000029</td>\n",
              "      <td>0.000000</td>\n",
              "      <td>1.602043e-05</td>\n",
              "      <td>0.000032</td>\n",
              "    </tr>\n",
              "    <tr>\n",
              "      <th>2414600126</th>\n",
              "      <td>1.210369e-04</td>\n",
              "      <td>0.000003</td>\n",
              "      <td>2.016489e-05</td>\n",
              "      <td>0.000003</td>\n",
              "      <td>0.000004</td>\n",
              "      <td>9.956400e-07</td>\n",
              "      <td>0.000036</td>\n",
              "      <td>0.000016</td>\n",
              "      <td>0.000000e+00</td>\n",
              "      <td>0.000011</td>\n",
              "    </tr>\n",
              "    <tr>\n",
              "      <th>3793500160</th>\n",
              "      <td>9.887884e-06</td>\n",
              "      <td>0.000005</td>\n",
              "      <td>6.990446e-06</td>\n",
              "      <td>0.000004</td>\n",
              "      <td>0.000005</td>\n",
              "      <td>1.096567e-06</td>\n",
              "      <td>0.000015</td>\n",
              "      <td>0.000032</td>\n",
              "      <td>1.069339e-05</td>\n",
              "      <td>0.000000</td>\n",
              "    </tr>\n",
              "  </tbody>\n",
              "</table>\n",
              "</div>\n",
              "      <button class=\"colab-df-convert\" onclick=\"convertToInteractive('df-919cdd2b-91dd-49bc-b42f-59530e2e36d0')\"\n",
              "              title=\"Convert this dataframe to an interactive table.\"\n",
              "              style=\"display:none;\">\n",
              "        \n",
              "  <svg xmlns=\"http://www.w3.org/2000/svg\" height=\"24px\"viewBox=\"0 0 24 24\"\n",
              "       width=\"24px\">\n",
              "    <path d=\"M0 0h24v24H0V0z\" fill=\"none\"/>\n",
              "    <path d=\"M18.56 5.44l.94 2.06.94-2.06 2.06-.94-2.06-.94-.94-2.06-.94 2.06-2.06.94zm-11 1L8.5 8.5l.94-2.06 2.06-.94-2.06-.94L8.5 2.5l-.94 2.06-2.06.94zm10 10l.94 2.06.94-2.06 2.06-.94-2.06-.94-.94-2.06-.94 2.06-2.06.94z\"/><path d=\"M17.41 7.96l-1.37-1.37c-.4-.4-.92-.59-1.43-.59-.52 0-1.04.2-1.43.59L10.3 9.45l-7.72 7.72c-.78.78-.78 2.05 0 2.83L4 21.41c.39.39.9.59 1.41.59.51 0 1.02-.2 1.41-.59l7.78-7.78 2.81-2.81c.8-.78.8-2.07 0-2.86zM5.41 20L4 18.59l7.72-7.72 1.47 1.35L5.41 20z\"/>\n",
              "  </svg>\n",
              "      </button>\n",
              "      \n",
              "  <style>\n",
              "    .colab-df-container {\n",
              "      display:flex;\n",
              "      flex-wrap:wrap;\n",
              "      gap: 12px;\n",
              "    }\n",
              "\n",
              "    .colab-df-convert {\n",
              "      background-color: #E8F0FE;\n",
              "      border: none;\n",
              "      border-radius: 50%;\n",
              "      cursor: pointer;\n",
              "      display: none;\n",
              "      fill: #1967D2;\n",
              "      height: 32px;\n",
              "      padding: 0 0 0 0;\n",
              "      width: 32px;\n",
              "    }\n",
              "\n",
              "    .colab-df-convert:hover {\n",
              "      background-color: #E2EBFA;\n",
              "      box-shadow: 0px 1px 2px rgba(60, 64, 67, 0.3), 0px 1px 3px 1px rgba(60, 64, 67, 0.15);\n",
              "      fill: #174EA6;\n",
              "    }\n",
              "\n",
              "    [theme=dark] .colab-df-convert {\n",
              "      background-color: #3B4455;\n",
              "      fill: #D2E3FC;\n",
              "    }\n",
              "\n",
              "    [theme=dark] .colab-df-convert:hover {\n",
              "      background-color: #434B5C;\n",
              "      box-shadow: 0px 1px 3px 1px rgba(0, 0, 0, 0.15);\n",
              "      filter: drop-shadow(0px 1px 2px rgba(0, 0, 0, 0.3));\n",
              "      fill: #FFFFFF;\n",
              "    }\n",
              "  </style>\n",
              "\n",
              "      <script>\n",
              "        const buttonEl =\n",
              "          document.querySelector('#df-919cdd2b-91dd-49bc-b42f-59530e2e36d0 button.colab-df-convert');\n",
              "        buttonEl.style.display =\n",
              "          google.colab.kernel.accessAllowed ? 'block' : 'none';\n",
              "\n",
              "        async function convertToInteractive(key) {\n",
              "          const element = document.querySelector('#df-919cdd2b-91dd-49bc-b42f-59530e2e36d0');\n",
              "          const dataTable =\n",
              "            await google.colab.kernel.invokeFunction('convertToInteractive',\n",
              "                                                     [key], {});\n",
              "          if (!dataTable) return;\n",
              "\n",
              "          const docLinkHtml = 'Like what you see? Visit the ' +\n",
              "            '<a target=\"_blank\" href=https://colab.research.google.com/notebooks/data_table.ipynb>data table notebook</a>'\n",
              "            + ' to learn more about interactive tables.';\n",
              "          element.innerHTML = '';\n",
              "          dataTable['output_type'] = 'display_data';\n",
              "          await google.colab.output.renderOutput(dataTable, element);\n",
              "          const docLink = document.createElement('div');\n",
              "          docLink.innerHTML = docLinkHtml;\n",
              "          element.appendChild(docLink);\n",
              "        }\n",
              "      </script>\n",
              "    </div>\n",
              "  </div>\n",
              "  "
            ],
            "text/plain": [
              "id            7129300520  6414100192  ...    2414600126  3793500160\n",
              "id                                    ...                          \n",
              "7129300520  0.000000e+00    0.000003  ...  1.210369e-04    0.000010\n",
              "6414100192  3.163330e-06    0.000000  ...  3.241374e-06    0.000005\n",
              "5631500400  2.368433e-05    0.000003  ...  2.016489e-05    0.000007\n",
              "2487200875  2.617088e-06    0.000015  ...  2.670067e-06    0.000004\n",
              "1954400510  3.470795e-06    0.000036  ...  3.565011e-06    0.000005\n",
              "7237550310  9.878305e-07    0.000001  ...  9.956400e-07    0.000001\n",
              "1321400060  2.804329e-05    0.000004  ...  3.563788e-05    0.000015\n",
              "2008000270  1.424760e-05    0.000004  ...  1.602043e-05    0.000032\n",
              "2414600126  1.210369e-04    0.000003  ...  0.000000e+00    0.000011\n",
              "3793500160  9.887884e-06    0.000005  ...  1.069339e-05    0.000000\n",
              "\n",
              "[10 rows x 10 columns]"
            ]
          },
          "metadata": {},
          "execution_count": 4
        }
      ],
      "source": [
        "from scipy.spatial.distance import euclidean, pdist, squareform\n",
        "\n",
        "def similarity_func(u, v):\n",
        "    return 1/(1+euclidean(u,v))\n",
        "df_num = df[:10].drop(['date'], axis=1)\n",
        "dists = pdist(df_num, similarity_func)\n",
        "df_dist = pd.DataFrame(squareform(dists), columns=df_num.index, \n",
        "                       index=df_num.index)\n",
        "df_dist"
      ]
    },
    {
      "cell_type": "markdown",
      "id": "adcf56b0-a208-461e-8133-154569aebca1",
      "metadata": {
        "id": "adcf56b0-a208-461e-8133-154569aebca1"
      },
      "source": [
        "## 1.g"
      ]
    },
    {
      "cell_type": "code",
      "execution_count": null,
      "id": "b8165157-d7f4-4ccd-945a-5a7edcd0a9c0",
      "metadata": {
        "colab": {
          "base_uri": "https://localhost:8080/",
          "height": 708
        },
        "id": "b8165157-d7f4-4ccd-945a-5a7edcd0a9c0",
        "outputId": "4cd47dcd-8b4e-4b8b-b5a9-45826355c663"
      },
      "outputs": [
        {
          "output_type": "execute_result",
          "data": {
            "text/html": [
              "\n",
              "  <div id=\"df-4d773b82-dc87-4d51-8ccf-c3940d595260\">\n",
              "    <div class=\"colab-df-container\">\n",
              "      <div>\n",
              "<style scoped>\n",
              "    .dataframe tbody tr th:only-of-type {\n",
              "        vertical-align: middle;\n",
              "    }\n",
              "\n",
              "    .dataframe tbody tr th {\n",
              "        vertical-align: top;\n",
              "    }\n",
              "\n",
              "    .dataframe thead th {\n",
              "        text-align: right;\n",
              "    }\n",
              "</style>\n",
              "<table border=\"1\" class=\"dataframe\">\n",
              "  <thead>\n",
              "    <tr style=\"text-align: right;\">\n",
              "      <th></th>\n",
              "      <th>price</th>\n",
              "      <th>bedrooms</th>\n",
              "      <th>bathrooms</th>\n",
              "      <th>sqft_living</th>\n",
              "      <th>sqft_lot</th>\n",
              "      <th>floors</th>\n",
              "      <th>waterfront</th>\n",
              "      <th>view</th>\n",
              "      <th>condition</th>\n",
              "      <th>grade</th>\n",
              "      <th>sqft_above</th>\n",
              "      <th>sqft_basement</th>\n",
              "      <th>yr_built</th>\n",
              "      <th>yr_renovated</th>\n",
              "      <th>zipcode</th>\n",
              "      <th>lat</th>\n",
              "      <th>long</th>\n",
              "      <th>sqft_living15</th>\n",
              "      <th>sqft_lot15</th>\n",
              "    </tr>\n",
              "  </thead>\n",
              "  <tbody>\n",
              "    <tr>\n",
              "      <th>price</th>\n",
              "      <td>1.000000</td>\n",
              "      <td>0.308350</td>\n",
              "      <td>0.525138</td>\n",
              "      <td>0.702035</td>\n",
              "      <td>0.089661</td>\n",
              "      <td>0.256794</td>\n",
              "      <td>0.266369</td>\n",
              "      <td>0.397293</td>\n",
              "      <td>0.036362</td>\n",
              "      <td>0.667434</td>\n",
              "      <td>0.605567</td>\n",
              "      <td>0.323816</td>\n",
              "      <td>0.054012</td>\n",
              "      <td>0.126434</td>\n",
              "      <td>-0.053203</td>\n",
              "      <td>0.307003</td>\n",
              "      <td>0.021626</td>\n",
              "      <td>0.585379</td>\n",
              "      <td>0.082447</td>\n",
              "    </tr>\n",
              "    <tr>\n",
              "      <th>bedrooms</th>\n",
              "      <td>0.308350</td>\n",
              "      <td>1.000000</td>\n",
              "      <td>0.515884</td>\n",
              "      <td>0.576671</td>\n",
              "      <td>0.031703</td>\n",
              "      <td>0.175429</td>\n",
              "      <td>-0.006582</td>\n",
              "      <td>0.079532</td>\n",
              "      <td>0.028472</td>\n",
              "      <td>0.356967</td>\n",
              "      <td>0.477600</td>\n",
              "      <td>0.303093</td>\n",
              "      <td>0.154178</td>\n",
              "      <td>0.018841</td>\n",
              "      <td>-0.152668</td>\n",
              "      <td>-0.008931</td>\n",
              "      <td>0.129473</td>\n",
              "      <td>0.391638</td>\n",
              "      <td>0.029244</td>\n",
              "    </tr>\n",
              "    <tr>\n",
              "      <th>bathrooms</th>\n",
              "      <td>0.525138</td>\n",
              "      <td>0.515884</td>\n",
              "      <td>1.000000</td>\n",
              "      <td>0.754665</td>\n",
              "      <td>0.087740</td>\n",
              "      <td>0.500653</td>\n",
              "      <td>0.063744</td>\n",
              "      <td>0.187737</td>\n",
              "      <td>-0.124982</td>\n",
              "      <td>0.664983</td>\n",
              "      <td>0.685342</td>\n",
              "      <td>0.283770</td>\n",
              "      <td>0.506019</td>\n",
              "      <td>0.050739</td>\n",
              "      <td>-0.203866</td>\n",
              "      <td>0.024573</td>\n",
              "      <td>0.223042</td>\n",
              "      <td>0.568634</td>\n",
              "      <td>0.087175</td>\n",
              "    </tr>\n",
              "    <tr>\n",
              "      <th>sqft_living</th>\n",
              "      <td>0.702035</td>\n",
              "      <td>0.576671</td>\n",
              "      <td>0.754665</td>\n",
              "      <td>1.000000</td>\n",
              "      <td>0.172826</td>\n",
              "      <td>0.353949</td>\n",
              "      <td>0.103818</td>\n",
              "      <td>0.284611</td>\n",
              "      <td>-0.058753</td>\n",
              "      <td>0.762704</td>\n",
              "      <td>0.876597</td>\n",
              "      <td>0.435043</td>\n",
              "      <td>0.318049</td>\n",
              "      <td>0.055363</td>\n",
              "      <td>-0.199430</td>\n",
              "      <td>0.052529</td>\n",
              "      <td>0.240223</td>\n",
              "      <td>0.756420</td>\n",
              "      <td>0.183286</td>\n",
              "    </tr>\n",
              "    <tr>\n",
              "      <th>sqft_lot</th>\n",
              "      <td>0.089661</td>\n",
              "      <td>0.031703</td>\n",
              "      <td>0.087740</td>\n",
              "      <td>0.172826</td>\n",
              "      <td>1.000000</td>\n",
              "      <td>-0.005201</td>\n",
              "      <td>0.021604</td>\n",
              "      <td>0.074710</td>\n",
              "      <td>-0.008958</td>\n",
              "      <td>0.113621</td>\n",
              "      <td>0.183512</td>\n",
              "      <td>0.015286</td>\n",
              "      <td>0.053080</td>\n",
              "      <td>0.007644</td>\n",
              "      <td>-0.129574</td>\n",
              "      <td>-0.085683</td>\n",
              "      <td>0.229521</td>\n",
              "      <td>0.144608</td>\n",
              "      <td>0.718557</td>\n",
              "    </tr>\n",
              "    <tr>\n",
              "      <th>floors</th>\n",
              "      <td>0.256794</td>\n",
              "      <td>0.175429</td>\n",
              "      <td>0.500653</td>\n",
              "      <td>0.353949</td>\n",
              "      <td>-0.005201</td>\n",
              "      <td>1.000000</td>\n",
              "      <td>0.023698</td>\n",
              "      <td>0.029444</td>\n",
              "      <td>-0.263768</td>\n",
              "      <td>0.458183</td>\n",
              "      <td>0.523885</td>\n",
              "      <td>-0.245705</td>\n",
              "      <td>0.489319</td>\n",
              "      <td>0.006338</td>\n",
              "      <td>-0.059121</td>\n",
              "      <td>0.049614</td>\n",
              "      <td>0.125419</td>\n",
              "      <td>0.279885</td>\n",
              "      <td>-0.011269</td>\n",
              "    </tr>\n",
              "    <tr>\n",
              "      <th>waterfront</th>\n",
              "      <td>0.266369</td>\n",
              "      <td>-0.006582</td>\n",
              "      <td>0.063744</td>\n",
              "      <td>0.103818</td>\n",
              "      <td>0.021604</td>\n",
              "      <td>0.023698</td>\n",
              "      <td>1.000000</td>\n",
              "      <td>0.401857</td>\n",
              "      <td>0.016653</td>\n",
              "      <td>0.082775</td>\n",
              "      <td>0.072075</td>\n",
              "      <td>0.080588</td>\n",
              "      <td>-0.026161</td>\n",
              "      <td>0.092885</td>\n",
              "      <td>0.030285</td>\n",
              "      <td>-0.014274</td>\n",
              "      <td>-0.041910</td>\n",
              "      <td>0.086463</td>\n",
              "      <td>0.030703</td>\n",
              "    </tr>\n",
              "    <tr>\n",
              "      <th>view</th>\n",
              "      <td>0.397293</td>\n",
              "      <td>0.079532</td>\n",
              "      <td>0.187737</td>\n",
              "      <td>0.284611</td>\n",
              "      <td>0.074710</td>\n",
              "      <td>0.029444</td>\n",
              "      <td>0.401857</td>\n",
              "      <td>1.000000</td>\n",
              "      <td>0.045990</td>\n",
              "      <td>0.251321</td>\n",
              "      <td>0.167649</td>\n",
              "      <td>0.276947</td>\n",
              "      <td>-0.053440</td>\n",
              "      <td>0.103917</td>\n",
              "      <td>0.084827</td>\n",
              "      <td>0.006157</td>\n",
              "      <td>-0.078400</td>\n",
              "      <td>0.280439</td>\n",
              "      <td>0.072575</td>\n",
              "    </tr>\n",
              "    <tr>\n",
              "      <th>condition</th>\n",
              "      <td>0.036362</td>\n",
              "      <td>0.028472</td>\n",
              "      <td>-0.124982</td>\n",
              "      <td>-0.058753</td>\n",
              "      <td>-0.008958</td>\n",
              "      <td>-0.263768</td>\n",
              "      <td>0.016653</td>\n",
              "      <td>0.045990</td>\n",
              "      <td>1.000000</td>\n",
              "      <td>-0.144674</td>\n",
              "      <td>-0.158214</td>\n",
              "      <td>0.174105</td>\n",
              "      <td>-0.361417</td>\n",
              "      <td>-0.060618</td>\n",
              "      <td>0.003026</td>\n",
              "      <td>-0.014941</td>\n",
              "      <td>-0.106500</td>\n",
              "      <td>-0.092824</td>\n",
              "      <td>-0.003406</td>\n",
              "    </tr>\n",
              "    <tr>\n",
              "      <th>grade</th>\n",
              "      <td>0.667434</td>\n",
              "      <td>0.356967</td>\n",
              "      <td>0.664983</td>\n",
              "      <td>0.762704</td>\n",
              "      <td>0.113621</td>\n",
              "      <td>0.458183</td>\n",
              "      <td>0.082775</td>\n",
              "      <td>0.251321</td>\n",
              "      <td>-0.144674</td>\n",
              "      <td>1.000000</td>\n",
              "      <td>0.755923</td>\n",
              "      <td>0.168392</td>\n",
              "      <td>0.446963</td>\n",
              "      <td>0.014414</td>\n",
              "      <td>-0.184862</td>\n",
              "      <td>0.114084</td>\n",
              "      <td>0.198372</td>\n",
              "      <td>0.713202</td>\n",
              "      <td>0.119248</td>\n",
              "    </tr>\n",
              "    <tr>\n",
              "      <th>sqft_above</th>\n",
              "      <td>0.605567</td>\n",
              "      <td>0.477600</td>\n",
              "      <td>0.685342</td>\n",
              "      <td>0.876597</td>\n",
              "      <td>0.183512</td>\n",
              "      <td>0.523885</td>\n",
              "      <td>0.072075</td>\n",
              "      <td>0.167649</td>\n",
              "      <td>-0.158214</td>\n",
              "      <td>0.755923</td>\n",
              "      <td>1.000000</td>\n",
              "      <td>-0.051943</td>\n",
              "      <td>0.423898</td>\n",
              "      <td>0.023285</td>\n",
              "      <td>-0.261190</td>\n",
              "      <td>-0.000816</td>\n",
              "      <td>0.343803</td>\n",
              "      <td>0.731870</td>\n",
              "      <td>0.194050</td>\n",
              "    </tr>\n",
              "    <tr>\n",
              "      <th>sqft_basement</th>\n",
              "      <td>0.323816</td>\n",
              "      <td>0.303093</td>\n",
              "      <td>0.283770</td>\n",
              "      <td>0.435043</td>\n",
              "      <td>0.015286</td>\n",
              "      <td>-0.245705</td>\n",
              "      <td>0.080588</td>\n",
              "      <td>0.276947</td>\n",
              "      <td>0.174105</td>\n",
              "      <td>0.168392</td>\n",
              "      <td>-0.051943</td>\n",
              "      <td>1.000000</td>\n",
              "      <td>-0.133124</td>\n",
              "      <td>0.071323</td>\n",
              "      <td>0.074845</td>\n",
              "      <td>0.110538</td>\n",
              "      <td>-0.144765</td>\n",
              "      <td>0.200355</td>\n",
              "      <td>0.017276</td>\n",
              "    </tr>\n",
              "    <tr>\n",
              "      <th>yr_built</th>\n",
              "      <td>0.054012</td>\n",
              "      <td>0.154178</td>\n",
              "      <td>0.506019</td>\n",
              "      <td>0.318049</td>\n",
              "      <td>0.053080</td>\n",
              "      <td>0.489319</td>\n",
              "      <td>-0.026161</td>\n",
              "      <td>-0.053440</td>\n",
              "      <td>-0.361417</td>\n",
              "      <td>0.446963</td>\n",
              "      <td>0.423898</td>\n",
              "      <td>-0.133124</td>\n",
              "      <td>1.000000</td>\n",
              "      <td>-0.224874</td>\n",
              "      <td>-0.346869</td>\n",
              "      <td>-0.148122</td>\n",
              "      <td>0.409356</td>\n",
              "      <td>0.326229</td>\n",
              "      <td>0.070958</td>\n",
              "    </tr>\n",
              "    <tr>\n",
              "      <th>yr_renovated</th>\n",
              "      <td>0.126434</td>\n",
              "      <td>0.018841</td>\n",
              "      <td>0.050739</td>\n",
              "      <td>0.055363</td>\n",
              "      <td>0.007644</td>\n",
              "      <td>0.006338</td>\n",
              "      <td>0.092885</td>\n",
              "      <td>0.103917</td>\n",
              "      <td>-0.060618</td>\n",
              "      <td>0.014414</td>\n",
              "      <td>0.023285</td>\n",
              "      <td>0.071323</td>\n",
              "      <td>-0.224874</td>\n",
              "      <td>1.000000</td>\n",
              "      <td>0.064357</td>\n",
              "      <td>0.029398</td>\n",
              "      <td>-0.068372</td>\n",
              "      <td>-0.002673</td>\n",
              "      <td>0.007854</td>\n",
              "    </tr>\n",
              "    <tr>\n",
              "      <th>zipcode</th>\n",
              "      <td>-0.053203</td>\n",
              "      <td>-0.152668</td>\n",
              "      <td>-0.203866</td>\n",
              "      <td>-0.199430</td>\n",
              "      <td>-0.129574</td>\n",
              "      <td>-0.059121</td>\n",
              "      <td>0.030285</td>\n",
              "      <td>0.084827</td>\n",
              "      <td>0.003026</td>\n",
              "      <td>-0.184862</td>\n",
              "      <td>-0.261190</td>\n",
              "      <td>0.074845</td>\n",
              "      <td>-0.346869</td>\n",
              "      <td>0.064357</td>\n",
              "      <td>1.000000</td>\n",
              "      <td>0.267048</td>\n",
              "      <td>-0.564072</td>\n",
              "      <td>-0.279033</td>\n",
              "      <td>-0.147221</td>\n",
              "    </tr>\n",
              "    <tr>\n",
              "      <th>lat</th>\n",
              "      <td>0.307003</td>\n",
              "      <td>-0.008931</td>\n",
              "      <td>0.024573</td>\n",
              "      <td>0.052529</td>\n",
              "      <td>-0.085683</td>\n",
              "      <td>0.049614</td>\n",
              "      <td>-0.014274</td>\n",
              "      <td>0.006157</td>\n",
              "      <td>-0.014941</td>\n",
              "      <td>0.114084</td>\n",
              "      <td>-0.000816</td>\n",
              "      <td>0.110538</td>\n",
              "      <td>-0.148122</td>\n",
              "      <td>0.029398</td>\n",
              "      <td>0.267048</td>\n",
              "      <td>1.000000</td>\n",
              "      <td>-0.135512</td>\n",
              "      <td>0.048858</td>\n",
              "      <td>-0.086419</td>\n",
              "    </tr>\n",
              "    <tr>\n",
              "      <th>long</th>\n",
              "      <td>0.021626</td>\n",
              "      <td>0.129473</td>\n",
              "      <td>0.223042</td>\n",
              "      <td>0.240223</td>\n",
              "      <td>0.229521</td>\n",
              "      <td>0.125419</td>\n",
              "      <td>-0.041910</td>\n",
              "      <td>-0.078400</td>\n",
              "      <td>-0.106500</td>\n",
              "      <td>0.198372</td>\n",
              "      <td>0.343803</td>\n",
              "      <td>-0.144765</td>\n",
              "      <td>0.409356</td>\n",
              "      <td>-0.068372</td>\n",
              "      <td>-0.564072</td>\n",
              "      <td>-0.135512</td>\n",
              "      <td>1.000000</td>\n",
              "      <td>0.334605</td>\n",
              "      <td>0.254451</td>\n",
              "    </tr>\n",
              "    <tr>\n",
              "      <th>sqft_living15</th>\n",
              "      <td>0.585379</td>\n",
              "      <td>0.391638</td>\n",
              "      <td>0.568634</td>\n",
              "      <td>0.756420</td>\n",
              "      <td>0.144608</td>\n",
              "      <td>0.279885</td>\n",
              "      <td>0.086463</td>\n",
              "      <td>0.280439</td>\n",
              "      <td>-0.092824</td>\n",
              "      <td>0.713202</td>\n",
              "      <td>0.731870</td>\n",
              "      <td>0.200355</td>\n",
              "      <td>0.326229</td>\n",
              "      <td>-0.002673</td>\n",
              "      <td>-0.279033</td>\n",
              "      <td>0.048858</td>\n",
              "      <td>0.334605</td>\n",
              "      <td>1.000000</td>\n",
              "      <td>0.183192</td>\n",
              "    </tr>\n",
              "    <tr>\n",
              "      <th>sqft_lot15</th>\n",
              "      <td>0.082447</td>\n",
              "      <td>0.029244</td>\n",
              "      <td>0.087175</td>\n",
              "      <td>0.183286</td>\n",
              "      <td>0.718557</td>\n",
              "      <td>-0.011269</td>\n",
              "      <td>0.030703</td>\n",
              "      <td>0.072575</td>\n",
              "      <td>-0.003406</td>\n",
              "      <td>0.119248</td>\n",
              "      <td>0.194050</td>\n",
              "      <td>0.017276</td>\n",
              "      <td>0.070958</td>\n",
              "      <td>0.007854</td>\n",
              "      <td>-0.147221</td>\n",
              "      <td>-0.086419</td>\n",
              "      <td>0.254451</td>\n",
              "      <td>0.183192</td>\n",
              "      <td>1.000000</td>\n",
              "    </tr>\n",
              "  </tbody>\n",
              "</table>\n",
              "</div>\n",
              "      <button class=\"colab-df-convert\" onclick=\"convertToInteractive('df-4d773b82-dc87-4d51-8ccf-c3940d595260')\"\n",
              "              title=\"Convert this dataframe to an interactive table.\"\n",
              "              style=\"display:none;\">\n",
              "        \n",
              "  <svg xmlns=\"http://www.w3.org/2000/svg\" height=\"24px\"viewBox=\"0 0 24 24\"\n",
              "       width=\"24px\">\n",
              "    <path d=\"M0 0h24v24H0V0z\" fill=\"none\"/>\n",
              "    <path d=\"M18.56 5.44l.94 2.06.94-2.06 2.06-.94-2.06-.94-.94-2.06-.94 2.06-2.06.94zm-11 1L8.5 8.5l.94-2.06 2.06-.94-2.06-.94L8.5 2.5l-.94 2.06-2.06.94zm10 10l.94 2.06.94-2.06 2.06-.94-2.06-.94-.94-2.06-.94 2.06-2.06.94z\"/><path d=\"M17.41 7.96l-1.37-1.37c-.4-.4-.92-.59-1.43-.59-.52 0-1.04.2-1.43.59L10.3 9.45l-7.72 7.72c-.78.78-.78 2.05 0 2.83L4 21.41c.39.39.9.59 1.41.59.51 0 1.02-.2 1.41-.59l7.78-7.78 2.81-2.81c.8-.78.8-2.07 0-2.86zM5.41 20L4 18.59l7.72-7.72 1.47 1.35L5.41 20z\"/>\n",
              "  </svg>\n",
              "      </button>\n",
              "      \n",
              "  <style>\n",
              "    .colab-df-container {\n",
              "      display:flex;\n",
              "      flex-wrap:wrap;\n",
              "      gap: 12px;\n",
              "    }\n",
              "\n",
              "    .colab-df-convert {\n",
              "      background-color: #E8F0FE;\n",
              "      border: none;\n",
              "      border-radius: 50%;\n",
              "      cursor: pointer;\n",
              "      display: none;\n",
              "      fill: #1967D2;\n",
              "      height: 32px;\n",
              "      padding: 0 0 0 0;\n",
              "      width: 32px;\n",
              "    }\n",
              "\n",
              "    .colab-df-convert:hover {\n",
              "      background-color: #E2EBFA;\n",
              "      box-shadow: 0px 1px 2px rgba(60, 64, 67, 0.3), 0px 1px 3px 1px rgba(60, 64, 67, 0.15);\n",
              "      fill: #174EA6;\n",
              "    }\n",
              "\n",
              "    [theme=dark] .colab-df-convert {\n",
              "      background-color: #3B4455;\n",
              "      fill: #D2E3FC;\n",
              "    }\n",
              "\n",
              "    [theme=dark] .colab-df-convert:hover {\n",
              "      background-color: #434B5C;\n",
              "      box-shadow: 0px 1px 3px 1px rgba(0, 0, 0, 0.15);\n",
              "      filter: drop-shadow(0px 1px 2px rgba(0, 0, 0, 0.3));\n",
              "      fill: #FFFFFF;\n",
              "    }\n",
              "  </style>\n",
              "\n",
              "      <script>\n",
              "        const buttonEl =\n",
              "          document.querySelector('#df-4d773b82-dc87-4d51-8ccf-c3940d595260 button.colab-df-convert');\n",
              "        buttonEl.style.display =\n",
              "          google.colab.kernel.accessAllowed ? 'block' : 'none';\n",
              "\n",
              "        async function convertToInteractive(key) {\n",
              "          const element = document.querySelector('#df-4d773b82-dc87-4d51-8ccf-c3940d595260');\n",
              "          const dataTable =\n",
              "            await google.colab.kernel.invokeFunction('convertToInteractive',\n",
              "                                                     [key], {});\n",
              "          if (!dataTable) return;\n",
              "\n",
              "          const docLinkHtml = 'Like what you see? Visit the ' +\n",
              "            '<a target=\"_blank\" href=https://colab.research.google.com/notebooks/data_table.ipynb>data table notebook</a>'\n",
              "            + ' to learn more about interactive tables.';\n",
              "          element.innerHTML = '';\n",
              "          dataTable['output_type'] = 'display_data';\n",
              "          await google.colab.output.renderOutput(dataTable, element);\n",
              "          const docLink = document.createElement('div');\n",
              "          docLink.innerHTML = docLinkHtml;\n",
              "          element.appendChild(docLink);\n",
              "        }\n",
              "      </script>\n",
              "    </div>\n",
              "  </div>\n",
              "  "
            ],
            "text/plain": [
              "                  price  bedrooms  ...  sqft_living15  sqft_lot15\n",
              "price          1.000000  0.308350  ...       0.585379    0.082447\n",
              "bedrooms       0.308350  1.000000  ...       0.391638    0.029244\n",
              "bathrooms      0.525138  0.515884  ...       0.568634    0.087175\n",
              "sqft_living    0.702035  0.576671  ...       0.756420    0.183286\n",
              "sqft_lot       0.089661  0.031703  ...       0.144608    0.718557\n",
              "floors         0.256794  0.175429  ...       0.279885   -0.011269\n",
              "waterfront     0.266369 -0.006582  ...       0.086463    0.030703\n",
              "view           0.397293  0.079532  ...       0.280439    0.072575\n",
              "condition      0.036362  0.028472  ...      -0.092824   -0.003406\n",
              "grade          0.667434  0.356967  ...       0.713202    0.119248\n",
              "sqft_above     0.605567  0.477600  ...       0.731870    0.194050\n",
              "sqft_basement  0.323816  0.303093  ...       0.200355    0.017276\n",
              "yr_built       0.054012  0.154178  ...       0.326229    0.070958\n",
              "yr_renovated   0.126434  0.018841  ...      -0.002673    0.007854\n",
              "zipcode       -0.053203 -0.152668  ...      -0.279033   -0.147221\n",
              "lat            0.307003 -0.008931  ...       0.048858   -0.086419\n",
              "long           0.021626  0.129473  ...       0.334605    0.254451\n",
              "sqft_living15  0.585379  0.391638  ...       1.000000    0.183192\n",
              "sqft_lot15     0.082447  0.029244  ...       0.183192    1.000000\n",
              "\n",
              "[19 rows x 19 columns]"
            ]
          },
          "metadata": {},
          "execution_count": 5
        }
      ],
      "source": [
        "corr = df.corr()\n",
        "corr"
      ]
    },
    {
      "cell_type": "code",
      "execution_count": null,
      "id": "1201c949-e53d-48a3-99ae-cd4f5e59b585",
      "metadata": {
        "colab": {
          "base_uri": "https://localhost:8080/",
          "height": 570
        },
        "id": "1201c949-e53d-48a3-99ae-cd4f5e59b585",
        "outputId": "51bc6555-f350-41c9-b08b-eb0ee387a8fc"
      },
      "outputs": [
        {
          "output_type": "execute_result",
          "data": {
            "text/plain": [
              "<matplotlib.axes._subplots.AxesSubplot at 0x7f200d37ea90>"
            ]
          },
          "metadata": {},
          "execution_count": 9
        },
        {
          "output_type": "display_data",
          "data": {
            "image/png": "[encoded data removed]",
            "text/plain": [
              "<Figure size 720x576 with 2 Axes>"
            ]
          },
          "metadata": {
            "needs_background": "light"
          }
        }
      ],
      "source": [
        "fig, ax = plt.subplots(figsize=(10, 8))\n",
        "sns.heatmap(corr, ax=ax, cmap=sns.diverging_palette(220, 10, as_cmap=True))"
      ]
    },
    {
      "cell_type": "markdown",
      "id": "3e27f15f-cac8-44c2-9b5e-5e12de6091ab",
      "metadata": {
        "id": "3e27f15f-cac8-44c2-9b5e-5e12de6091ab"
      },
      "source": [
        "## 1.h"
      ]
    },
    {
      "cell_type": "code",
      "execution_count": 5,
      "id": "538fdf76-891a-4086-be1b-25bba1a9c9cf",
      "metadata": {
        "colab": {
          "base_uri": "https://localhost:8080/",
          "height": 245
        },
        "id": "538fdf76-891a-4086-be1b-25bba1a9c9cf",
        "outputId": "44645ead-8054-4774-f112-a284d2f56ed6"
      },
      "outputs": [
        {
          "output_type": "error",
          "ename": "NameError",
          "evalue": "ignored",
          "traceback": [
            "\u001b[0;31m---------------------------------------------------------------------------\u001b[0m",
            "\u001b[0;31mNameError\u001b[0m                                 Traceback (most recent call last)",
            "\u001b[0;32m<ipython-input-5-259c71403df0>\u001b[0m in \u001b[0;36m<module>\u001b[0;34m()\u001b[0m\n\u001b[0;32m----> 1\u001b[0;31m \u001b[0mcorr_abs\u001b[0m \u001b[0;34m=\u001b[0m \u001b[0mcorr\u001b[0m\u001b[0;34m.\u001b[0m\u001b[0mabs\u001b[0m\u001b[0;34m(\u001b[0m\u001b[0;34m)\u001b[0m\u001b[0;34m\u001b[0m\u001b[0;34m\u001b[0m\u001b[0m\n\u001b[0m\u001b[1;32m      2\u001b[0m \u001b[0mup_tri\u001b[0m \u001b[0;34m=\u001b[0m \u001b[0mcorr_abs\u001b[0m\u001b[0;34m.\u001b[0m\u001b[0mwhere\u001b[0m\u001b[0;34m(\u001b[0m\u001b[0mnp\u001b[0m\u001b[0;34m.\u001b[0m\u001b[0mtriu\u001b[0m\u001b[0;34m(\u001b[0m\u001b[0mnp\u001b[0m\u001b[0;34m.\u001b[0m\u001b[0mones\u001b[0m\u001b[0;34m(\u001b[0m\u001b[0mcorr_abs\u001b[0m\u001b[0;34m.\u001b[0m\u001b[0mshape\u001b[0m\u001b[0;34m)\u001b[0m\u001b[0;34m,\u001b[0m\u001b[0mk\u001b[0m\u001b[0;34m=\u001b[0m\u001b[0;36m1\u001b[0m\u001b[0;34m)\u001b[0m\u001b[0;34m.\u001b[0m\u001b[0mastype\u001b[0m\u001b[0;34m(\u001b[0m\u001b[0mnp\u001b[0m\u001b[0;34m.\u001b[0m\u001b[0mbool\u001b[0m\u001b[0;34m)\u001b[0m\u001b[0;34m)\u001b[0m\u001b[0;34m\u001b[0m\u001b[0;34m\u001b[0m\u001b[0m\n\u001b[1;32m      3\u001b[0m \u001b[0mcol_corr\u001b[0m \u001b[0;34m=\u001b[0m \u001b[0;34m[\u001b[0m\u001b[0mcolumn\u001b[0m \u001b[0;32mfor\u001b[0m \u001b[0mcolumn\u001b[0m \u001b[0;32min\u001b[0m \u001b[0mup_tri\u001b[0m\u001b[0;34m.\u001b[0m\u001b[0mcolumns\u001b[0m \u001b[0;32mif\u001b[0m \u001b[0many\u001b[0m\u001b[0;34m(\u001b[0m\u001b[0mup_tri\u001b[0m\u001b[0;34m[\u001b[0m\u001b[0mcolumn\u001b[0m\u001b[0;34m]\u001b[0m \u001b[0;34m>\u001b[0m \u001b[0;36m0.8\u001b[0m\u001b[0;34m)\u001b[0m\u001b[0;34m]\u001b[0m\u001b[0;34m\u001b[0m\u001b[0;34m\u001b[0m\u001b[0m\n\u001b[1;32m      4\u001b[0m \u001b[0;32mfor\u001b[0m \u001b[0mcol\u001b[0m \u001b[0;32min\u001b[0m \u001b[0mcol_corr\u001b[0m\u001b[0;34m:\u001b[0m\u001b[0;34m\u001b[0m\u001b[0;34m\u001b[0m\u001b[0m\n\u001b[1;32m      5\u001b[0m     \u001b[0;32mfor\u001b[0m \u001b[0mfeat\u001b[0m \u001b[0;32min\u001b[0m \u001b[0mcorr\u001b[0m\u001b[0;34m:\u001b[0m\u001b[0;34m\u001b[0m\u001b[0;34m\u001b[0m\u001b[0m\n",
            "\u001b[0;31mNameError\u001b[0m: name 'corr' is not defined"
          ]
        }
      ],
      "source": [
        "corr_abs = corr.abs()\n",
        "up_tri = corr_abs.where(np.triu(np.ones(corr_abs.shape),k=1).astype(np.bool))\n",
        "col_corr = [column for column in up_tri.columns if any(up_tri[column] > 0.8)]\n",
        "for col in col_corr:\n",
        "    for feat in corr:\n",
        "        if corr[col][feat] > 0.8 and corr[col][feat] < 1:\n",
        "            print(f'*{col}* and *{feat}* are correlated!')"
      ]
    },
    {
      "cell_type": "code",
      "execution_count": null,
      "id": "9758b9c3-5068-4fdb-9b8a-9186582ec89c",
      "metadata": {
        "colab": {
          "base_uri": "https://localhost:8080/",
          "height": 392
        },
        "id": "9758b9c3-5068-4fdb-9b8a-9186582ec89c",
        "outputId": "3afa40bd-8ef7-4168-cc3c-7dc55d6d9f92"
      },
      "outputs": [
        {
          "output_type": "execute_result",
          "data": {
            "text/plain": [
              "<seaborn.axisgrid.PairGrid at 0x7fa7c58706d0>"
            ]
          },
          "metadata": {},
          "execution_count": 93
        },
        {
          "output_type": "display_data",
          "data": {
            "image/png": "[encoded data removed]",
            "text/plain": [
              "<Figure size 540x360 with 1 Axes>"
            ]
          },
          "metadata": {
            "needs_background": "light"
          }
        }
      ],
      "source": [
        "sns.pairplot(df, height=5, aspect=1.5, y_vars=['sqft_above'], \n",
        "             x_vars=['sqft_living'])"
      ]
    },
    {
      "cell_type": "markdown",
      "id": "8634f23d-8381-4d82-894b-52a431d29d89",
      "metadata": {
        "id": "8634f23d-8381-4d82-894b-52a431d29d89"
      },
      "source": [
        "## 2.a"
      ]
    },
    {
      "cell_type": "code",
      "execution_count": 6,
      "id": "e8536605-d224-409c-8f83-a3e45728615a",
      "metadata": {
        "colab": {
          "base_uri": "https://localhost:8080/"
        },
        "id": "e8536605-d224-409c-8f83-a3e45728615a",
        "outputId": "e9c0d2db-0143-44b4-a6cb-b682bfaeb7d0"
      },
      "outputs": [
        {
          "output_type": "execute_result",
          "data": {
            "text/plain": [
              "False    21613\n",
              "Name: date, dtype: int64"
            ]
          },
          "metadata": {},
          "execution_count": 6
        }
      ],
      "source": [
        "# fixing the date format\n",
        "df['date'] = pd.to_datetime(df['date'])\n",
        "\n",
        "# find out if there is an incorrect date\n",
        "pd.to_datetime(df['date'], errors='coerce').isnull().value_counts()"
      ]
    },
    {
      "cell_type": "code",
      "execution_count": null,
      "id": "3e388a42-9d7d-4e14-b359-11048e391601",
      "metadata": {
        "colab": {
          "base_uri": "https://localhost:8080/",
          "height": 387
        },
        "id": "3e388a42-9d7d-4e14-b359-11048e391601",
        "outputId": "8e81420a-6199-4089-96d1-fa79bf132e81"
      },
      "outputs": [
        {
          "output_type": "execute_result",
          "data": {
            "text/html": [
              "\n",
              "  <div id=\"df-8fbab112-2ef2-4562-b54d-e60771db48a6\">\n",
              "    <div class=\"colab-df-container\">\n",
              "      <div>\n",
              "<style scoped>\n",
              "    .dataframe tbody tr th:only-of-type {\n",
              "        vertical-align: middle;\n",
              "    }\n",
              "\n",
              "    .dataframe tbody tr th {\n",
              "        vertical-align: top;\n",
              "    }\n",
              "\n",
              "    .dataframe thead th {\n",
              "        text-align: right;\n",
              "    }\n",
              "</style>\n",
              "<table border=\"1\" class=\"dataframe\">\n",
              "  <thead>\n",
              "    <tr style=\"text-align: right;\">\n",
              "      <th></th>\n",
              "      <th>date</th>\n",
              "      <th>price</th>\n",
              "      <th>bedrooms</th>\n",
              "      <th>bathrooms</th>\n",
              "      <th>sqft_living</th>\n",
              "      <th>sqft_lot</th>\n",
              "      <th>floors</th>\n",
              "      <th>waterfront</th>\n",
              "      <th>view</th>\n",
              "      <th>condition</th>\n",
              "      <th>grade</th>\n",
              "      <th>sqft_above</th>\n",
              "      <th>sqft_basement</th>\n",
              "      <th>yr_built</th>\n",
              "      <th>yr_renovated</th>\n",
              "      <th>zipcode</th>\n",
              "      <th>lat</th>\n",
              "      <th>long</th>\n",
              "      <th>sqft_living15</th>\n",
              "      <th>sqft_lot15</th>\n",
              "    </tr>\n",
              "    <tr>\n",
              "      <th>id</th>\n",
              "      <th></th>\n",
              "      <th></th>\n",
              "      <th></th>\n",
              "      <th></th>\n",
              "      <th></th>\n",
              "      <th></th>\n",
              "      <th></th>\n",
              "      <th></th>\n",
              "      <th></th>\n",
              "      <th></th>\n",
              "      <th></th>\n",
              "      <th></th>\n",
              "      <th></th>\n",
              "      <th></th>\n",
              "      <th></th>\n",
              "      <th></th>\n",
              "      <th></th>\n",
              "      <th></th>\n",
              "      <th></th>\n",
              "      <th></th>\n",
              "    </tr>\n",
              "  </thead>\n",
              "  <tbody>\n",
              "    <tr>\n",
              "      <th>7129300520</th>\n",
              "      <td>2014-10-13</td>\n",
              "      <td>221900.0</td>\n",
              "      <td>3</td>\n",
              "      <td>1.00</td>\n",
              "      <td>1180</td>\n",
              "      <td>5650</td>\n",
              "      <td>1.0</td>\n",
              "      <td>0</td>\n",
              "      <td>0</td>\n",
              "      <td>3</td>\n",
              "      <td>7</td>\n",
              "      <td>1180</td>\n",
              "      <td>0</td>\n",
              "      <td>1955</td>\n",
              "      <td>0</td>\n",
              "      <td>98178</td>\n",
              "      <td>47.5112</td>\n",
              "      <td>-122.257</td>\n",
              "      <td>1340</td>\n",
              "      <td>5650</td>\n",
              "    </tr>\n",
              "    <tr>\n",
              "      <th>6414100192</th>\n",
              "      <td>2014-12-09</td>\n",
              "      <td>538000.0</td>\n",
              "      <td>3</td>\n",
              "      <td>2.25</td>\n",
              "      <td>2570</td>\n",
              "      <td>7242</td>\n",
              "      <td>2.0</td>\n",
              "      <td>0</td>\n",
              "      <td>0</td>\n",
              "      <td>3</td>\n",
              "      <td>7</td>\n",
              "      <td>2170</td>\n",
              "      <td>400</td>\n",
              "      <td>1951</td>\n",
              "      <td>1991</td>\n",
              "      <td>98125</td>\n",
              "      <td>47.7210</td>\n",
              "      <td>-122.319</td>\n",
              "      <td>1690</td>\n",
              "      <td>7639</td>\n",
              "    </tr>\n",
              "    <tr>\n",
              "      <th>5631500400</th>\n",
              "      <td>2015-02-25</td>\n",
              "      <td>180000.0</td>\n",
              "      <td>2</td>\n",
              "      <td>1.00</td>\n",
              "      <td>770</td>\n",
              "      <td>10000</td>\n",
              "      <td>1.0</td>\n",
              "      <td>0</td>\n",
              "      <td>0</td>\n",
              "      <td>3</td>\n",
              "      <td>6</td>\n",
              "      <td>770</td>\n",
              "      <td>0</td>\n",
              "      <td>1933</td>\n",
              "      <td>0</td>\n",
              "      <td>98028</td>\n",
              "      <td>47.7379</td>\n",
              "      <td>-122.233</td>\n",
              "      <td>2720</td>\n",
              "      <td>8062</td>\n",
              "    </tr>\n",
              "    <tr>\n",
              "      <th>2487200875</th>\n",
              "      <td>2014-12-09</td>\n",
              "      <td>604000.0</td>\n",
              "      <td>4</td>\n",
              "      <td>3.00</td>\n",
              "      <td>1960</td>\n",
              "      <td>5000</td>\n",
              "      <td>1.0</td>\n",
              "      <td>0</td>\n",
              "      <td>0</td>\n",
              "      <td>5</td>\n",
              "      <td>7</td>\n",
              "      <td>1050</td>\n",
              "      <td>910</td>\n",
              "      <td>1965</td>\n",
              "      <td>0</td>\n",
              "      <td>98136</td>\n",
              "      <td>47.5208</td>\n",
              "      <td>-122.393</td>\n",
              "      <td>1360</td>\n",
              "      <td>5000</td>\n",
              "    </tr>\n",
              "    <tr>\n",
              "      <th>1954400510</th>\n",
              "      <td>2015-02-18</td>\n",
              "      <td>510000.0</td>\n",
              "      <td>3</td>\n",
              "      <td>2.00</td>\n",
              "      <td>1680</td>\n",
              "      <td>8080</td>\n",
              "      <td>1.0</td>\n",
              "      <td>0</td>\n",
              "      <td>0</td>\n",
              "      <td>3</td>\n",
              "      <td>8</td>\n",
              "      <td>1680</td>\n",
              "      <td>0</td>\n",
              "      <td>1987</td>\n",
              "      <td>0</td>\n",
              "      <td>98074</td>\n",
              "      <td>47.6168</td>\n",
              "      <td>-122.045</td>\n",
              "      <td>1800</td>\n",
              "      <td>7503</td>\n",
              "    </tr>\n",
              "  </tbody>\n",
              "</table>\n",
              "</div>\n",
              "      <button class=\"colab-df-convert\" onclick=\"convertToInteractive('df-8fbab112-2ef2-4562-b54d-e60771db48a6')\"\n",
              "              title=\"Convert this dataframe to an interactive table.\"\n",
              "              style=\"display:none;\">\n",
              "        \n",
              "  <svg xmlns=\"http://www.w3.org/2000/svg\" height=\"24px\"viewBox=\"0 0 24 24\"\n",
              "       width=\"24px\">\n",
              "    <path d=\"M0 0h24v24H0V0z\" fill=\"none\"/>\n",
              "    <path d=\"M18.56 5.44l.94 2.06.94-2.06 2.06-.94-2.06-.94-.94-2.06-.94 2.06-2.06.94zm-11 1L8.5 8.5l.94-2.06 2.06-.94-2.06-.94L8.5 2.5l-.94 2.06-2.06.94zm10 10l.94 2.06.94-2.06 2.06-.94-2.06-.94-.94-2.06-.94 2.06-2.06.94z\"/><path d=\"M17.41 7.96l-1.37-1.37c-.4-.4-.92-.59-1.43-.59-.52 0-1.04.2-1.43.59L10.3 9.45l-7.72 7.72c-.78.78-.78 2.05 0 2.83L4 21.41c.39.39.9.59 1.41.59.51 0 1.02-.2 1.41-.59l7.78-7.78 2.81-2.81c.8-.78.8-2.07 0-2.86zM5.41 20L4 18.59l7.72-7.72 1.47 1.35L5.41 20z\"/>\n",
              "  </svg>\n",
              "      </button>\n",
              "      \n",
              "  <style>\n",
              "    .colab-df-container {\n",
              "      display:flex;\n",
              "      flex-wrap:wrap;\n",
              "      gap: 12px;\n",
              "    }\n",
              "\n",
              "    .colab-df-convert {\n",
              "      background-color: #E8F0FE;\n",
              "      border: none;\n",
              "      border-radius: 50%;\n",
              "      cursor: pointer;\n",
              "      display: none;\n",
              "      fill: #1967D2;\n",
              "      height: 32px;\n",
              "      padding: 0 0 0 0;\n",
              "      width: 32px;\n",
              "    }\n",
              "\n",
              "    .colab-df-convert:hover {\n",
              "      background-color: #E2EBFA;\n",
              "      box-shadow: 0px 1px 2px rgba(60, 64, 67, 0.3), 0px 1px 3px 1px rgba(60, 64, 67, 0.15);\n",
              "      fill: #174EA6;\n",
              "    }\n",
              "\n",
              "    [theme=dark] .colab-df-convert {\n",
              "      background-color: #3B4455;\n",
              "      fill: #D2E3FC;\n",
              "    }\n",
              "\n",
              "    [theme=dark] .colab-df-convert:hover {\n",
              "      background-color: #434B5C;\n",
              "      box-shadow: 0px 1px 3px 1px rgba(0, 0, 0, 0.15);\n",
              "      filter: drop-shadow(0px 1px 2px rgba(0, 0, 0, 0.3));\n",
              "      fill: #FFFFFF;\n",
              "    }\n",
              "  </style>\n",
              "\n",
              "      <script>\n",
              "        const buttonEl =\n",
              "          document.querySelector('#df-8fbab112-2ef2-4562-b54d-e60771db48a6 button.colab-df-convert');\n",
              "        buttonEl.style.display =\n",
              "          google.colab.kernel.accessAllowed ? 'block' : 'none';\n",
              "\n",
              "        async function convertToInteractive(key) {\n",
              "          const element = document.querySelector('#df-8fbab112-2ef2-4562-b54d-e60771db48a6');\n",
              "          const dataTable =\n",
              "            await google.colab.kernel.invokeFunction('convertToInteractive',\n",
              "                                                     [key], {});\n",
              "          if (!dataTable) return;\n",
              "\n",
              "          const docLinkHtml = 'Like what you see? Visit the ' +\n",
              "            '<a target=\"_blank\" href=https://colab.research.google.com/notebooks/data_table.ipynb>data table notebook</a>'\n",
              "            + ' to learn more about interactive tables.';\n",
              "          element.innerHTML = '';\n",
              "          dataTable['output_type'] = 'display_data';\n",
              "          await google.colab.output.renderOutput(dataTable, element);\n",
              "          const docLink = document.createElement('div');\n",
              "          docLink.innerHTML = docLinkHtml;\n",
              "          element.appendChild(docLink);\n",
              "        }\n",
              "      </script>\n",
              "    </div>\n",
              "  </div>\n",
              "  "
            ],
            "text/plain": [
              "                 date     price  bedrooms  ...     long  sqft_living15  sqft_lot15\n",
              "id                                         ...                                    \n",
              "7129300520 2014-10-13  221900.0         3  ... -122.257           1340        5650\n",
              "6414100192 2014-12-09  538000.0         3  ... -122.319           1690        7639\n",
              "5631500400 2015-02-25  180000.0         2  ... -122.233           2720        8062\n",
              "2487200875 2014-12-09  604000.0         4  ... -122.393           1360        5000\n",
              "1954400510 2015-02-18  510000.0         3  ... -122.045           1800        7503\n",
              "\n",
              "[5 rows x 20 columns]"
            ]
          },
          "metadata": {},
          "execution_count": 12
        }
      ],
      "source": [
        "df.head()"
      ]
    },
    {
      "cell_type": "code",
      "execution_count": null,
      "id": "5ae0ce64-1341-4367-8449-2dd1f8f073d2",
      "metadata": {
        "colab": {
          "base_uri": "https://localhost:8080/"
        },
        "id": "5ae0ce64-1341-4367-8449-2dd1f8f073d2",
        "outputId": "abac953a-9516-4a1b-e1d4-45bcbb19d7c1"
      },
      "outputs": [
        {
          "output_type": "execute_result",
          "data": {
            "text/plain": [
              "date             datetime64[ns]\n",
              "price                   float64\n",
              "bedrooms                  int64\n",
              "bathrooms               float64\n",
              "sqft_living               int64\n",
              "sqft_lot                  int64\n",
              "floors                  float64\n",
              "waterfront                int64\n",
              "view                      int64\n",
              "condition                 int64\n",
              "grade                     int64\n",
              "sqft_above                int64\n",
              "sqft_basement             int64\n",
              "yr_built                  int64\n",
              "yr_renovated              int64\n",
              "zipcode                   int64\n",
              "lat                     float64\n",
              "long                    float64\n",
              "sqft_living15             int64\n",
              "sqft_lot15                int64\n",
              "dtype: object"
            ]
          },
          "metadata": {},
          "execution_count": 96
        }
      ],
      "source": [
        "df.dtypes"
      ]
    },
    {
      "cell_type": "code",
      "execution_count": 7,
      "id": "42c28acf-a78a-4c99-ac28-e1cb6214e666",
      "metadata": {
        "colab": {
          "base_uri": "https://localhost:8080/"
        },
        "id": "42c28acf-a78a-4c99-ac28-e1cb6214e666",
        "outputId": "53a50b48-5864-4cd9-afc1-3e68b668d585"
      },
      "outputs": [
        {
          "output_type": "stream",
          "name": "stdout",
          "text": [
            "2194 outliers found!\n",
            "original data had 21613 rows\n",
            "cleaned data has 19419 rows\n"
          ]
        }
      ],
      "source": [
        "# remove outliers\n",
        "\n",
        "def remove_outlier(df):\n",
        "    Q1 = df.quantile(0.25)\n",
        "    Q3 = df.quantile(0.75)\n",
        "    IQR = Q3 - Q1\n",
        "    clean = ~((df < (Q1 - 1.5 * IQR)) |(df > (Q3 + 1.5 * IQR)))\n",
        "    return clean\n",
        "\n",
        "df_clean = df.copy()\n",
        "for col in df.columns:\n",
        "    if col != 'date':\n",
        "        df_clean = df[remove_outlier(df[col])]\n",
        "\n",
        "n_outliers = len(df) - len(df_clean)\n",
        "print(f'{n_outliers} outliers found!')\n",
        "print(f'original data had {len(df)} rows\\ncleaned data has {len(df_clean)} rows')"
      ]
    },
    {
      "cell_type": "code",
      "execution_count": null,
      "id": "cd9ccf7b-31be-4fb8-8830-85ed254af4c5",
      "metadata": {
        "colab": {
          "base_uri": "https://localhost:8080/"
        },
        "id": "cd9ccf7b-31be-4fb8-8830-85ed254af4c5",
        "outputId": "9d80ef70-2441-419c-bb54-45c02a3ebfa1"
      },
      "outputs": [
        {
          "output_type": "stream",
          "name": "stdout",
          "text": [
            "0 missing values in date\n",
            "0 missing values in price\n",
            "0 missing values in bedrooms\n",
            "0 missing values in bathrooms\n",
            "0 missing values in sqft_living\n",
            "0 missing values in sqft_lot\n",
            "0 missing values in floors\n",
            "0 missing values in waterfront\n",
            "0 missing values in view\n",
            "0 missing values in condition\n",
            "0 missing values in grade\n",
            "0 missing values in sqft_above\n",
            "0 missing values in sqft_basement\n",
            "0 missing values in yr_built\n",
            "0 missing values in yr_renovated\n",
            "0 missing values in zipcode\n",
            "0 missing values in lat\n",
            "0 missing values in long\n",
            "0 missing values in sqft_living15\n",
            "0 missing values in sqft_lot15\n"
          ]
        }
      ],
      "source": [
        "for col in df_clean.columns:\n",
        "    print(f'{df_clean[col].isnull().sum()} missing values in {col}')"
      ]
    },
    {
      "cell_type": "markdown",
      "id": "600585d5-8e5b-4eb7-92b3-ead5a4bda70a",
      "metadata": {
        "id": "600585d5-8e5b-4eb7-92b3-ead5a4bda70a"
      },
      "source": [
        "## 2.b"
      ]
    },
    {
      "cell_type": "code",
      "execution_count": null,
      "id": "39c6c112-8830-4ec6-aa68-8bc92e14da5d",
      "metadata": {
        "colab": {
          "base_uri": "https://localhost:8080/"
        },
        "id": "39c6c112-8830-4ec6-aa68-8bc92e14da5d",
        "outputId": "994e53fd-d044-4892-ea0b-23eff6f37947"
      },
      "outputs": [
        {
          "output_type": "stream",
          "name": "stdout",
          "text": [
            "0 redundant rows\n",
            "\n",
            "*sqft_living15* and *sqft_lot15* can be removed\n"
          ]
        }
      ],
      "source": [
        "# record redundancy\n",
        "print(f'{len(df_clean.drop_duplicates()) - len(df_clean)} redundant rows')\n",
        "\n",
        "# feature redundancy\n",
        "print('\\n*sqft_living15* and *sqft_lot15* can be removed')"
      ]
    },
    {
      "cell_type": "markdown",
      "id": "f6b3dec1-f783-4267-8a8b-9ec6cafb2e83",
      "metadata": {
        "id": "f6b3dec1-f783-4267-8a8b-9ec6cafb2e83"
      },
      "source": [
        "## 2.c"
      ]
    },
    {
      "cell_type": "code",
      "execution_count": null,
      "id": "5324daaa-3545-44e5-90ac-c00d0f292bd6",
      "metadata": {
        "colab": {
          "base_uri": "https://localhost:8080/"
        },
        "id": "5324daaa-3545-44e5-90ac-c00d0f292bd6",
        "outputId": "9633bd41-1e46-415b-ad15-8dfd179851d4"
      },
      "outputs": [
        {
          "output_type": "stream",
          "name": "stdout",
          "text": [
            "no need to reduce data since there are no duplicates\n"
          ]
        }
      ],
      "source": [
        "print('no need to reduce data since there are no duplicates')"
      ]
    },
    {
      "cell_type": "markdown",
      "id": "003907b0-189b-4650-887e-08164d6c2475",
      "metadata": {
        "id": "003907b0-189b-4650-887e-08164d6c2475"
      },
      "source": [
        "## 2.d"
      ]
    },
    {
      "cell_type": "code",
      "execution_count": null,
      "id": "74038649-893d-4b61-a717-16320b2102eb",
      "metadata": {
        "id": "74038649-893d-4b61-a717-16320b2102eb"
      },
      "outputs": [],
      "source": [
        "df_norm = df_clean.copy()\n",
        "for col in df_clean.columns:\n",
        "    if col != 'date':\n",
        "        df_norm[col] = (df_clean[col] - df_clean[col].mean()) / (df_clean[col].max() - df_clean[col].min())"
      ]
    },
    {
      "cell_type": "code",
      "execution_count": null,
      "id": "a3034fdf-25f0-4396-80e3-b11854e69199",
      "metadata": {
        "colab": {
          "base_uri": "https://localhost:8080/",
          "height": 387
        },
        "id": "a3034fdf-25f0-4396-80e3-b11854e69199",
        "outputId": "6bff5e12-9eec-4411-ba3c-8e3168d02c71"
      },
      "outputs": [
        {
          "output_type": "execute_result",
          "data": {
            "text/html": [
              "\n",
              "  <div id=\"df-f822a12c-26c2-4578-aedd-0ba6a15ab5b2\">\n",
              "    <div class=\"colab-df-container\">\n",
              "      <div>\n",
              "<style scoped>\n",
              "    .dataframe tbody tr th:only-of-type {\n",
              "        vertical-align: middle;\n",
              "    }\n",
              "\n",
              "    .dataframe tbody tr th {\n",
              "        vertical-align: top;\n",
              "    }\n",
              "\n",
              "    .dataframe thead th {\n",
              "        text-align: right;\n",
              "    }\n",
              "</style>\n",
              "<table border=\"1\" class=\"dataframe\">\n",
              "  <thead>\n",
              "    <tr style=\"text-align: right;\">\n",
              "      <th></th>\n",
              "      <th>date</th>\n",
              "      <th>price</th>\n",
              "      <th>bedrooms</th>\n",
              "      <th>bathrooms</th>\n",
              "      <th>sqft_living</th>\n",
              "      <th>sqft_lot</th>\n",
              "      <th>floors</th>\n",
              "      <th>waterfront</th>\n",
              "      <th>view</th>\n",
              "      <th>condition</th>\n",
              "      <th>grade</th>\n",
              "      <th>sqft_above</th>\n",
              "      <th>sqft_basement</th>\n",
              "      <th>yr_built</th>\n",
              "      <th>yr_renovated</th>\n",
              "      <th>zipcode</th>\n",
              "      <th>lat</th>\n",
              "      <th>long</th>\n",
              "      <th>sqft_living15</th>\n",
              "      <th>sqft_lot15</th>\n",
              "    </tr>\n",
              "    <tr>\n",
              "      <th>id</th>\n",
              "      <th></th>\n",
              "      <th></th>\n",
              "      <th></th>\n",
              "      <th></th>\n",
              "      <th></th>\n",
              "      <th></th>\n",
              "      <th></th>\n",
              "      <th></th>\n",
              "      <th></th>\n",
              "      <th></th>\n",
              "      <th></th>\n",
              "      <th></th>\n",
              "      <th></th>\n",
              "      <th></th>\n",
              "      <th></th>\n",
              "      <th></th>\n",
              "      <th></th>\n",
              "      <th></th>\n",
              "      <th></th>\n",
              "      <th></th>\n",
              "    </tr>\n",
              "  </thead>\n",
              "  <tbody>\n",
              "    <tr>\n",
              "      <th>7129300520</th>\n",
              "      <td>2014-10-13</td>\n",
              "      <td>-0.038870</td>\n",
              "      <td>-0.010705</td>\n",
              "      <td>-0.135125</td>\n",
              "      <td>-0.070291</td>\n",
              "      <td>-0.002245</td>\n",
              "      <td>-0.196076</td>\n",
              "      <td>-0.004635</td>\n",
              "      <td>-0.052462</td>\n",
              "      <td>-0.102297</td>\n",
              "      <td>-0.057459</td>\n",
              "      <td>-0.065052</td>\n",
              "      <td>-0.059662</td>\n",
              "      <td>-0.131822</td>\n",
              "      <td>-0.039537</td>\n",
              "      <td>0.490761</td>\n",
              "      <td>-0.082349</td>\n",
              "      <td>-0.024849</td>\n",
              "      <td>-0.112138</td>\n",
              "      <td>-0.094799</td>\n",
              "    </tr>\n",
              "    <tr>\n",
              "      <th>6414100192</th>\n",
              "      <td>2014-12-09</td>\n",
              "      <td>0.002602</td>\n",
              "      <td>-0.010705</td>\n",
              "      <td>0.021125</td>\n",
              "      <td>0.048716</td>\n",
              "      <td>-0.000878</td>\n",
              "      <td>0.203924</td>\n",
              "      <td>-0.004635</td>\n",
              "      <td>-0.052462</td>\n",
              "      <td>-0.102297</td>\n",
              "      <td>-0.057459</td>\n",
              "      <td>0.055680</td>\n",
              "      <td>0.023325</td>\n",
              "      <td>-0.166604</td>\n",
              "      <td>0.948552</td>\n",
              "      <td>0.223084</td>\n",
              "      <td>0.255113</td>\n",
              "      <td>-0.077038</td>\n",
              "      <td>-0.044440</td>\n",
              "      <td>0.022900</td>\n",
              "    </tr>\n",
              "    <tr>\n",
              "      <th>5631500400</th>\n",
              "      <td>2015-02-25</td>\n",
              "      <td>-0.044368</td>\n",
              "      <td>-0.041008</td>\n",
              "      <td>-0.135125</td>\n",
              "      <td>-0.105393</td>\n",
              "      <td>0.001491</td>\n",
              "      <td>-0.196076</td>\n",
              "      <td>-0.004635</td>\n",
              "      <td>-0.052462</td>\n",
              "      <td>-0.102297</td>\n",
              "      <td>-0.157459</td>\n",
              "      <td>-0.115052</td>\n",
              "      <td>-0.059662</td>\n",
              "      <td>-0.323126</td>\n",
              "      <td>-0.039537</td>\n",
              "      <td>-0.266815</td>\n",
              "      <td>0.282297</td>\n",
              "      <td>-0.004647</td>\n",
              "      <td>0.154786</td>\n",
              "      <td>0.047931</td>\n",
              "    </tr>\n",
              "    <tr>\n",
              "      <th>2487200875</th>\n",
              "      <td>2014-12-09</td>\n",
              "      <td>0.011261</td>\n",
              "      <td>0.019598</td>\n",
              "      <td>0.114875</td>\n",
              "      <td>-0.003510</td>\n",
              "      <td>-0.002804</td>\n",
              "      <td>-0.196076</td>\n",
              "      <td>-0.004635</td>\n",
              "      <td>-0.052462</td>\n",
              "      <td>0.397703</td>\n",
              "      <td>-0.057459</td>\n",
              "      <td>-0.080905</td>\n",
              "      <td>0.129134</td>\n",
              "      <td>-0.044865</td>\n",
              "      <td>-0.039537</td>\n",
              "      <td>0.278640</td>\n",
              "      <td>-0.066907</td>\n",
              "      <td>-0.139327</td>\n",
              "      <td>-0.108270</td>\n",
              "      <td>-0.133263</td>\n",
              "    </tr>\n",
              "    <tr>\n",
              "      <th>1954400510</th>\n",
              "      <td>2015-02-18</td>\n",
              "      <td>-0.001072</td>\n",
              "      <td>-0.010705</td>\n",
              "      <td>-0.010125</td>\n",
              "      <td>-0.027482</td>\n",
              "      <td>-0.000158</td>\n",
              "      <td>-0.196076</td>\n",
              "      <td>-0.004635</td>\n",
              "      <td>-0.052462</td>\n",
              "      <td>-0.102297</td>\n",
              "      <td>0.042541</td>\n",
              "      <td>-0.004076</td>\n",
              "      <td>-0.059662</td>\n",
              "      <td>0.146439</td>\n",
              "      <td>-0.039537</td>\n",
              "      <td>-0.034492</td>\n",
              "      <td>0.087508</td>\n",
              "      <td>0.153602</td>\n",
              "      <td>-0.023163</td>\n",
              "      <td>0.014852</td>\n",
              "    </tr>\n",
              "  </tbody>\n",
              "</table>\n",
              "</div>\n",
              "      <button class=\"colab-df-convert\" onclick=\"convertToInteractive('df-f822a12c-26c2-4578-aedd-0ba6a15ab5b2')\"\n",
              "              title=\"Convert this dataframe to an interactive table.\"\n",
              "              style=\"display:none;\">\n",
              "        \n",
              "  <svg xmlns=\"http://www.w3.org/2000/svg\" height=\"24px\"viewBox=\"0 0 24 24\"\n",
              "       width=\"24px\">\n",
              "    <path d=\"M0 0h24v24H0V0z\" fill=\"none\"/>\n",
              "    <path d=\"M18.56 5.44l.94 2.06.94-2.06 2.06-.94-2.06-.94-.94-2.06-.94 2.06-2.06.94zm-11 1L8.5 8.5l.94-2.06 2.06-.94-2.06-.94L8.5 2.5l-.94 2.06-2.06.94zm10 10l.94 2.06.94-2.06 2.06-.94-2.06-.94-.94-2.06-.94 2.06-2.06.94z\"/><path d=\"M17.41 7.96l-1.37-1.37c-.4-.4-.92-.59-1.43-.59-.52 0-1.04.2-1.43.59L10.3 9.45l-7.72 7.72c-.78.78-.78 2.05 0 2.83L4 21.41c.39.39.9.59 1.41.59.51 0 1.02-.2 1.41-.59l7.78-7.78 2.81-2.81c.8-.78.8-2.07 0-2.86zM5.41 20L4 18.59l7.72-7.72 1.47 1.35L5.41 20z\"/>\n",
              "  </svg>\n",
              "      </button>\n",
              "      \n",
              "  <style>\n",
              "    .colab-df-container {\n",
              "      display:flex;\n",
              "      flex-wrap:wrap;\n",
              "      gap: 12px;\n",
              "    }\n",
              "\n",
              "    .colab-df-convert {\n",
              "      background-color: #E8F0FE;\n",
              "      border: none;\n",
              "      border-radius: 50%;\n",
              "      cursor: pointer;\n",
              "      display: none;\n",
              "      fill: #1967D2;\n",
              "      height: 32px;\n",
              "      padding: 0 0 0 0;\n",
              "      width: 32px;\n",
              "    }\n",
              "\n",
              "    .colab-df-convert:hover {\n",
              "      background-color: #E2EBFA;\n",
              "      box-shadow: 0px 1px 2px rgba(60, 64, 67, 0.3), 0px 1px 3px 1px rgba(60, 64, 67, 0.15);\n",
              "      fill: #174EA6;\n",
              "    }\n",
              "\n",
              "    [theme=dark] .colab-df-convert {\n",
              "      background-color: #3B4455;\n",
              "      fill: #D2E3FC;\n",
              "    }\n",
              "\n",
              "    [theme=dark] .colab-df-convert:hover {\n",
              "      background-color: #434B5C;\n",
              "      box-shadow: 0px 1px 3px 1px rgba(0, 0, 0, 0.15);\n",
              "      filter: drop-shadow(0px 1px 2px rgba(0, 0, 0, 0.3));\n",
              "      fill: #FFFFFF;\n",
              "    }\n",
              "  </style>\n",
              "\n",
              "      <script>\n",
              "        const buttonEl =\n",
              "          document.querySelector('#df-f822a12c-26c2-4578-aedd-0ba6a15ab5b2 button.colab-df-convert');\n",
              "        buttonEl.style.display =\n",
              "          google.colab.kernel.accessAllowed ? 'block' : 'none';\n",
              "\n",
              "        async function convertToInteractive(key) {\n",
              "          const element = document.querySelector('#df-f822a12c-26c2-4578-aedd-0ba6a15ab5b2');\n",
              "          const dataTable =\n",
              "            await google.colab.kernel.invokeFunction('convertToInteractive',\n",
              "                                                     [key], {});\n",
              "          if (!dataTable) return;\n",
              "\n",
              "          const docLinkHtml = 'Like what you see? Visit the ' +\n",
              "            '<a target=\"_blank\" href=https://colab.research.google.com/notebooks/data_table.ipynb>data table notebook</a>'\n",
              "            + ' to learn more about interactive tables.';\n",
              "          element.innerHTML = '';\n",
              "          dataTable['output_type'] = 'display_data';\n",
              "          await google.colab.output.renderOutput(dataTable, element);\n",
              "          const docLink = document.createElement('div');\n",
              "          docLink.innerHTML = docLinkHtml;\n",
              "          element.appendChild(docLink);\n",
              "        }\n",
              "      </script>\n",
              "    </div>\n",
              "  </div>\n",
              "  "
            ],
            "text/plain": [
              "                 date     price  bedrooms  ...      long  sqft_living15  sqft_lot15\n",
              "id                                         ...                                     \n",
              "7129300520 2014-10-13 -0.038870 -0.010705  ... -0.024849      -0.112138   -0.094799\n",
              "6414100192 2014-12-09  0.002602 -0.010705  ... -0.077038      -0.044440    0.022900\n",
              "5631500400 2015-02-25 -0.044368 -0.041008  ... -0.004647       0.154786    0.047931\n",
              "2487200875 2014-12-09  0.011261  0.019598  ... -0.139327      -0.108270   -0.133263\n",
              "1954400510 2015-02-18 -0.001072 -0.010705  ...  0.153602      -0.023163    0.014852\n",
              "\n",
              "[5 rows x 20 columns]"
            ]
          },
          "metadata": {},
          "execution_count": 17
        }
      ],
      "source": [
        "df_norm.head()"
      ]
    },
    {
      "cell_type": "markdown",
      "id": "f23dd7f8-ac76-4aff-aea5-4efec944b3e9",
      "metadata": {
        "id": "f23dd7f8-ac76-4aff-aea5-4efec944b3e9"
      },
      "source": [
        "## 2.e"
      ]
    },
    {
      "cell_type": "code",
      "execution_count": 8,
      "id": "4a2a6182-9406-467e-b1d8-147e7d67b41b",
      "metadata": {
        "id": "4a2a6182-9406-467e-b1d8-147e7d67b41b"
      },
      "outputs": [],
      "source": [
        "from sklearn.preprocessing import StandardScaler\n",
        "from sklearn.decomposition import PCA\n",
        "\n",
        "scaler = StandardScaler()\n",
        "X = scaler.fit_transform(df_clean[[col for col in df.columns if col != 'date']])\n",
        "pca = PCA()\n",
        "X_r = pca.fit_transform(X)"
      ]
    },
    {
      "cell_type": "code",
      "execution_count": null,
      "id": "65d9ce6a-8d9d-413b-92f7-7695edb362ad",
      "metadata": {
        "id": "65d9ce6a-8d9d-413b-92f7-7695edb362ad",
        "outputId": "3bdb665c-fbdd-47e6-bbff-ecc2496b227b",
        "colab": {
          "base_uri": "https://localhost:8080/"
        }
      },
      "outputs": [
        {
          "output_type": "execute_result",
          "data": {
            "text/plain": [
              "array([2.93742549e-01, 1.28992902e-01, 1.02089272e-01, 6.58036537e-02,\n",
              "       5.52766859e-02, 5.30391753e-02, 4.82007239e-02, 4.34877115e-02,\n",
              "       3.81836769e-02, 3.53176432e-02, 2.77813015e-02, 2.42189186e-02,\n",
              "       2.18022221e-02, 1.50239834e-02, 1.44498759e-02, 1.28840840e-02,\n",
              "       1.04011002e-02, 9.30452018e-03, 3.85742484e-33])"
            ]
          },
          "metadata": {},
          "execution_count": 13
        }
      ],
      "source": [
        "pca.explained_variance_ratio_"
      ]
    },
    {
      "cell_type": "code",
      "execution_count": 9,
      "id": "de4df8f6-d45c-42fb-b4f9-5e44fe2fc6bf",
      "metadata": {
        "id": "de4df8f6-d45c-42fb-b4f9-5e44fe2fc6bf"
      },
      "outputs": [],
      "source": [
        "df=df.drop(['waterfront','view','yr_renovated','sqft_basement'],axis=1)"
      ]
    },
    {
      "cell_type": "code",
      "source": [
        "df.head()"
      ],
      "metadata": {
        "colab": {
          "base_uri": "https://localhost:8080/",
          "height": 301
        },
        "id": "E5wlFXxv8bZf",
        "outputId": "bb18cb92-f710-4bf1-8fd4-a4268d820b9d"
      },
      "id": "E5wlFXxv8bZf",
      "execution_count": null,
      "outputs": [
        {
          "output_type": "execute_result",
          "data": {
            "text/html": [
              "\n",
              "  <div id=\"df-be160824-fde7-4b18-8303-acfc405a195b\">\n",
              "    <div class=\"colab-df-container\">\n",
              "      <div>\n",
              "<style scoped>\n",
              "    .dataframe tbody tr th:only-of-type {\n",
              "        vertical-align: middle;\n",
              "    }\n",
              "\n",
              "    .dataframe tbody tr th {\n",
              "        vertical-align: top;\n",
              "    }\n",
              "\n",
              "    .dataframe thead th {\n",
              "        text-align: right;\n",
              "    }\n",
              "</style>\n",
              "<table border=\"1\" class=\"dataframe\">\n",
              "  <thead>\n",
              "    <tr style=\"text-align: right;\">\n",
              "      <th></th>\n",
              "      <th>date</th>\n",
              "      <th>price</th>\n",
              "      <th>bedrooms</th>\n",
              "      <th>bathrooms</th>\n",
              "      <th>sqft_living</th>\n",
              "      <th>sqft_lot</th>\n",
              "      <th>floors</th>\n",
              "      <th>condition</th>\n",
              "      <th>grade</th>\n",
              "      <th>sqft_above</th>\n",
              "      <th>yr_built</th>\n",
              "      <th>zipcode</th>\n",
              "      <th>lat</th>\n",
              "      <th>long</th>\n",
              "      <th>sqft_living15</th>\n",
              "      <th>sqft_lot15</th>\n",
              "    </tr>\n",
              "    <tr>\n",
              "      <th>id</th>\n",
              "      <th></th>\n",
              "      <th></th>\n",
              "      <th></th>\n",
              "      <th></th>\n",
              "      <th></th>\n",
              "      <th></th>\n",
              "      <th></th>\n",
              "      <th></th>\n",
              "      <th></th>\n",
              "      <th></th>\n",
              "      <th></th>\n",
              "      <th></th>\n",
              "      <th></th>\n",
              "      <th></th>\n",
              "      <th></th>\n",
              "      <th></th>\n",
              "    </tr>\n",
              "  </thead>\n",
              "  <tbody>\n",
              "    <tr>\n",
              "      <th>7129300520</th>\n",
              "      <td>20141013T000000</td>\n",
              "      <td>221900.0</td>\n",
              "      <td>3</td>\n",
              "      <td>1.00</td>\n",
              "      <td>1180</td>\n",
              "      <td>5650</td>\n",
              "      <td>1.0</td>\n",
              "      <td>3</td>\n",
              "      <td>7</td>\n",
              "      <td>1180</td>\n",
              "      <td>1955</td>\n",
              "      <td>98178</td>\n",
              "      <td>47.5112</td>\n",
              "      <td>-122.257</td>\n",
              "      <td>1340</td>\n",
              "      <td>5650</td>\n",
              "    </tr>\n",
              "    <tr>\n",
              "      <th>6414100192</th>\n",
              "      <td>20141209T000000</td>\n",
              "      <td>538000.0</td>\n",
              "      <td>3</td>\n",
              "      <td>2.25</td>\n",
              "      <td>2570</td>\n",
              "      <td>7242</td>\n",
              "      <td>2.0</td>\n",
              "      <td>3</td>\n",
              "      <td>7</td>\n",
              "      <td>2170</td>\n",
              "      <td>1951</td>\n",
              "      <td>98125</td>\n",
              "      <td>47.7210</td>\n",
              "      <td>-122.319</td>\n",
              "      <td>1690</td>\n",
              "      <td>7639</td>\n",
              "    </tr>\n",
              "    <tr>\n",
              "      <th>5631500400</th>\n",
              "      <td>20150225T000000</td>\n",
              "      <td>180000.0</td>\n",
              "      <td>2</td>\n",
              "      <td>1.00</td>\n",
              "      <td>770</td>\n",
              "      <td>10000</td>\n",
              "      <td>1.0</td>\n",
              "      <td>3</td>\n",
              "      <td>6</td>\n",
              "      <td>770</td>\n",
              "      <td>1933</td>\n",
              "      <td>98028</td>\n",
              "      <td>47.7379</td>\n",
              "      <td>-122.233</td>\n",
              "      <td>2720</td>\n",
              "      <td>8062</td>\n",
              "    </tr>\n",
              "    <tr>\n",
              "      <th>2487200875</th>\n",
              "      <td>20141209T000000</td>\n",
              "      <td>604000.0</td>\n",
              "      <td>4</td>\n",
              "      <td>3.00</td>\n",
              "      <td>1960</td>\n",
              "      <td>5000</td>\n",
              "      <td>1.0</td>\n",
              "      <td>5</td>\n",
              "      <td>7</td>\n",
              "      <td>1050</td>\n",
              "      <td>1965</td>\n",
              "      <td>98136</td>\n",
              "      <td>47.5208</td>\n",
              "      <td>-122.393</td>\n",
              "      <td>1360</td>\n",
              "      <td>5000</td>\n",
              "    </tr>\n",
              "    <tr>\n",
              "      <th>1954400510</th>\n",
              "      <td>20150218T000000</td>\n",
              "      <td>510000.0</td>\n",
              "      <td>3</td>\n",
              "      <td>2.00</td>\n",
              "      <td>1680</td>\n",
              "      <td>8080</td>\n",
              "      <td>1.0</td>\n",
              "      <td>3</td>\n",
              "      <td>8</td>\n",
              "      <td>1680</td>\n",
              "      <td>1987</td>\n",
              "      <td>98074</td>\n",
              "      <td>47.6168</td>\n",
              "      <td>-122.045</td>\n",
              "      <td>1800</td>\n",
              "      <td>7503</td>\n",
              "    </tr>\n",
              "  </tbody>\n",
              "</table>\n",
              "</div>\n",
              "      <button class=\"colab-df-convert\" onclick=\"convertToInteractive('df-be160824-fde7-4b18-8303-acfc405a195b')\"\n",
              "              title=\"Convert this dataframe to an interactive table.\"\n",
              "              style=\"display:none;\">\n",
              "        \n",
              "  <svg xmlns=\"http://www.w3.org/2000/svg\" height=\"24px\"viewBox=\"0 0 24 24\"\n",
              "       width=\"24px\">\n",
              "    <path d=\"M0 0h24v24H0V0z\" fill=\"none\"/>\n",
              "    <path d=\"M18.56 5.44l.94 2.06.94-2.06 2.06-.94-2.06-.94-.94-2.06-.94 2.06-2.06.94zm-11 1L8.5 8.5l.94-2.06 2.06-.94-2.06-.94L8.5 2.5l-.94 2.06-2.06.94zm10 10l.94 2.06.94-2.06 2.06-.94-2.06-.94-.94-2.06-.94 2.06-2.06.94z\"/><path d=\"M17.41 7.96l-1.37-1.37c-.4-.4-.92-.59-1.43-.59-.52 0-1.04.2-1.43.59L10.3 9.45l-7.72 7.72c-.78.78-.78 2.05 0 2.83L4 21.41c.39.39.9.59 1.41.59.51 0 1.02-.2 1.41-.59l7.78-7.78 2.81-2.81c.8-.78.8-2.07 0-2.86zM5.41 20L4 18.59l7.72-7.72 1.47 1.35L5.41 20z\"/>\n",
              "  </svg>\n",
              "      </button>\n",
              "      \n",
              "  <style>\n",
              "    .colab-df-container {\n",
              "      display:flex;\n",
              "      flex-wrap:wrap;\n",
              "      gap: 12px;\n",
              "    }\n",
              "\n",
              "    .colab-df-convert {\n",
              "      background-color: #E8F0FE;\n",
              "      border: none;\n",
              "      border-radius: 50%;\n",
              "      cursor: pointer;\n",
              "      display: none;\n",
              "      fill: #1967D2;\n",
              "      height: 32px;\n",
              "      padding: 0 0 0 0;\n",
              "      width: 32px;\n",
              "    }\n",
              "\n",
              "    .colab-df-convert:hover {\n",
              "      background-color: #E2EBFA;\n",
              "      box-shadow: 0px 1px 2px rgba(60, 64, 67, 0.3), 0px 1px 3px 1px rgba(60, 64, 67, 0.15);\n",
              "      fill: #174EA6;\n",
              "    }\n",
              "\n",
              "    [theme=dark] .colab-df-convert {\n",
              "      background-color: #3B4455;\n",
              "      fill: #D2E3FC;\n",
              "    }\n",
              "\n",
              "    [theme=dark] .colab-df-convert:hover {\n",
              "      background-color: #434B5C;\n",
              "      box-shadow: 0px 1px 3px 1px rgba(0, 0, 0, 0.15);\n",
              "      filter: drop-shadow(0px 1px 2px rgba(0, 0, 0, 0.3));\n",
              "      fill: #FFFFFF;\n",
              "    }\n",
              "  </style>\n",
              "\n",
              "      <script>\n",
              "        const buttonEl =\n",
              "          document.querySelector('#df-be160824-fde7-4b18-8303-acfc405a195b button.colab-df-convert');\n",
              "        buttonEl.style.display =\n",
              "          google.colab.kernel.accessAllowed ? 'block' : 'none';\n",
              "\n",
              "        async function convertToInteractive(key) {\n",
              "          const element = document.querySelector('#df-be160824-fde7-4b18-8303-acfc405a195b');\n",
              "          const dataTable =\n",
              "            await google.colab.kernel.invokeFunction('convertToInteractive',\n",
              "                                                     [key], {});\n",
              "          if (!dataTable) return;\n",
              "\n",
              "          const docLinkHtml = 'Like what you see? Visit the ' +\n",
              "            '<a target=\"_blank\" href=https://colab.research.google.com/notebooks/data_table.ipynb>data table notebook</a>'\n",
              "            + ' to learn more about interactive tables.';\n",
              "          element.innerHTML = '';\n",
              "          dataTable['output_type'] = 'display_data';\n",
              "          await google.colab.output.renderOutput(dataTable, element);\n",
              "          const docLink = document.createElement('div');\n",
              "          docLink.innerHTML = docLinkHtml;\n",
              "          element.appendChild(docLink);\n",
              "        }\n",
              "      </script>\n",
              "    </div>\n",
              "  </div>\n",
              "  "
            ],
            "text/plain": [
              "                       date     price  ...  sqft_living15  sqft_lot15\n",
              "id                                     ...                           \n",
              "7129300520  20141013T000000  221900.0  ...           1340        5650\n",
              "6414100192  20141209T000000  538000.0  ...           1690        7639\n",
              "5631500400  20150225T000000  180000.0  ...           2720        8062\n",
              "2487200875  20141209T000000  604000.0  ...           1360        5000\n",
              "1954400510  20150218T000000  510000.0  ...           1800        7503\n",
              "\n",
              "[5 rows x 16 columns]"
            ]
          },
          "metadata": {},
          "execution_count": 10
        }
      ]
    },
    {
      "cell_type": "markdown",
      "source": [
        "## k-means unsupervised"
      ],
      "metadata": {
        "id": "TDqn5o5C8rl-"
      },
      "id": "TDqn5o5C8rl-"
    },
    {
      "cell_type": "code",
      "source": [
        "from sklearn.cluster import KMeans\n",
        "import pandas as pd\n",
        "from sklearn.preprocessing import MinMaxScaler\n",
        "from matplotlib import pyplot as plt\n",
        "%matplotlib inline\n",
        "from sklearn.model_selection import cross_val_score\n",
        "from sklearn.model_selection import train_test_split\n",
        "print(\"done\")"
      ],
      "metadata": {
        "colab": {
          "base_uri": "https://localhost:8080/"
        },
        "id": "7389MHfG8vSn",
        "outputId": "1fa5221c-b12a-4b4b-8555-51db9f2a731f"
      },
      "id": "7389MHfG8vSn",
      "execution_count": 10,
      "outputs": [
        {
          "output_type": "stream",
          "name": "stdout",
          "text": [
            "done\n"
          ]
        }
      ]
    },
    {
      "cell_type": "code",
      "source": [
        "features =[\"bedrooms\", \"bathrooms\",\"sqft_living\" ,\"sqft_lot\" ,\"floors\" ,\"condition\",\"grade\",\"sqft_above\",\"yr_built\",\"zipcode\",\"lat\",\"long\",\"sqft_living15\", \"sqft_lot15\"]    \n",
        "X = df[features]\n",
        "Y = df['price']\n",
        "\n",
        "x_train, x_test, y_train, y_test = train_test_split(X, Y, test_size=0.15, random_state=1)\n",
        "\n",
        "\n",
        "print(\"number of test samples:\", x_test.shape[0])\n",
        "print(\"number of training samples:\",x_train.shape[0])"
      ],
      "metadata": {
        "colab": {
          "base_uri": "https://localhost:8080/"
        },
        "id": "PQ4H52w080d2",
        "outputId": "6c79b77c-56da-4118-9405-e7e7dcaf6118"
      },
      "id": "PQ4H52w080d2",
      "execution_count": 11,
      "outputs": [
        {
          "output_type": "stream",
          "name": "stdout",
          "text": [
            "number of test samples: 3242\n",
            "number of training samples: 18371\n"
          ]
        }
      ]
    },
    {
      "cell_type": "code",
      "source": [
        "y_train"
      ],
      "metadata": {
        "colab": {
          "base_uri": "https://localhost:8080/"
        },
        "id": "VmSqDhUpOlhc",
        "outputId": "aaea1d27-80f2-4dfc-da62-3cc87a50d005"
      },
      "id": "VmSqDhUpOlhc",
      "execution_count": null,
      "outputs": [
        {
          "output_type": "execute_result",
          "data": {
            "text/plain": [
              "id\n",
              "1931300850     427000.0\n",
              "9536600810     380000.0\n",
              "5470100270     225000.0\n",
              "1644510040     681716.0\n",
              "8079010220     440000.0\n",
              "                ...    \n",
              "3630110510     571000.0\n",
              "6813600605    1350000.0\n",
              "224069145      650000.0\n",
              "520700125      437000.0\n",
              "1762600320    1025000.0\n",
              "Name: price, Length: 18371, dtype: float64"
            ]
          },
          "metadata": {},
          "execution_count": 139
        }
      ]
    },
    {
      "cell_type": "code",
      "source": [
        "#k-means whit 2 clusters\n",
        "km = KMeans(n_clusters=2,init='k-means++', random_state=0)\n",
        "y_predicted = km.fit(df.drop(['date', 'price',],axis=1))\n",
        "y_predicted"
      ],
      "metadata": {
        "colab": {
          "base_uri": "https://localhost:8080/"
        },
        "id": "lpAQYKgb8_gG",
        "outputId": "bddd3029-25b4-4392-9f45-e2f01aa2acab"
      },
      "id": "lpAQYKgb8_gG",
      "execution_count": null,
      "outputs": [
        {
          "output_type": "execute_result",
          "data": {
            "text/plain": [
              "KMeans(n_clusters=2, random_state=0)"
            ]
          },
          "metadata": {},
          "execution_count": 33
        }
      ]
    },
    {
      "cell_type": "code",
      "source": [
        "km.cluster_centers_"
      ],
      "metadata": {
        "colab": {
          "base_uri": "https://localhost:8080/"
        },
        "id": "ulUdr1eA9Lgl",
        "outputId": "8cfacef8-2554-4923-90c6-c0a2c6152860"
      },
      "id": "ulUdr1eA9Lgl",
      "execution_count": null,
      "outputs": [
        {
          "output_type": "execute_result",
          "data": {
            "text/plain": [
              "array([[ 3.37022038e+00,  2.10808297e+00,  2.06564574e+03,\n",
              "         1.08526592e+04,  1.49272462e+00,  3.41170654e+00,\n",
              "         7.64579017e+00,  1.77390766e+03,  1.97078584e+03,\n",
              "         9.80785546e+04,  4.75614512e+01, -1.22217165e+02,\n",
              "         1.97906772e+03,  1.00530023e+04],\n",
              "       [ 3.40583554e+00,  2.49071618e+00,  2.88281167e+03,\n",
              "         2.54747533e+05,  1.58355438e+00,  3.28116711e+00,\n",
              "         8.28116711e+00,  2.60420424e+03,  1.98335809e+03,\n",
              "         9.80433103e+04,  4.74812637e+01, -1.22029756e+02,\n",
              "         2.40816180e+03,  1.65726992e+05]])"
            ]
          },
          "metadata": {},
          "execution_count": 34
        }
      ]
    },
    {
      "cell_type": "code",
      "source": [
        "km.labels_"
      ],
      "metadata": {
        "colab": {
          "base_uri": "https://localhost:8080/"
        },
        "id": "Fpp0gzO19MvW",
        "outputId": "961af82b-240d-4294-f3fa-4bdbfd0bf6d9"
      },
      "id": "Fpp0gzO19MvW",
      "execution_count": null,
      "outputs": [
        {
          "output_type": "execute_result",
          "data": {
            "text/plain": [
              "array([0, 0, 0, ..., 0, 0, 0], dtype=int32)"
            ]
          },
          "metadata": {},
          "execution_count": 35
        }
      ]
    },
    {
      "cell_type": "code",
      "source": [
        "plt.plot(km.cluster_centers_)"
      ],
      "metadata": {
        "colab": {
          "base_uri": "https://localhost:8080/",
          "height": 523
        },
        "id": "bRftyoRp9RBe",
        "outputId": "448076b4-e91b-48ca-86f9-327260e317f4"
      },
      "id": "bRftyoRp9RBe",
      "execution_count": null,
      "outputs": [
        {
          "output_type": "execute_result",
          "data": {
            "text/plain": [
              "[<matplotlib.lines.Line2D at 0x7fc17594fc10>,\n",
              " <matplotlib.lines.Line2D at 0x7fc17594fe50>,\n",
              " <matplotlib.lines.Line2D at 0x7fc17594ffd0>,\n",
              " <matplotlib.lines.Line2D at 0x7fc1758d7210>,\n",
              " <matplotlib.lines.Line2D at 0x7fc1758d73d0>,\n",
              " <matplotlib.lines.Line2D at 0x7fc1758d7590>,\n",
              " <matplotlib.lines.Line2D at 0x7fc1758d77d0>,\n",
              " <matplotlib.lines.Line2D at 0x7fc1758d7990>,\n",
              " <matplotlib.lines.Line2D at 0x7fc1758d7b50>,\n",
              " <matplotlib.lines.Line2D at 0x7fc1758d75d0>,\n",
              " <matplotlib.lines.Line2D at 0x7fc17594fcd0>,\n",
              " <matplotlib.lines.Line2D at 0x7fc1758d7fd0>,\n",
              " <matplotlib.lines.Line2D at 0x7fc1758d81d0>,\n",
              " <matplotlib.lines.Line2D at 0x7fc1758d8390>]"
            ]
          },
          "metadata": {},
          "execution_count": 36
        },
        {
          "output_type": "display_data",
          "data": {
            "image/png": "[encoded data removed]",
            "text/plain": [
              "<Figure size 432x288 with 1 Axes>"
            ]
          },
          "metadata": {
            "needs_background": "light"
          }
        }
      ]
    },
    {
      "cell_type": "code",
      "source": [
        "c=df.drop(['date', 'price',],axis=1)\n",
        "plt.scatter(c.iloc[:, 0], c.iloc[:, 1], s=50, c='black')\n",
        "plt.scatter(km.cluster_centers_[:, 0], km.cluster_centers_[:, 1], c='white', s=200, alpha=0.5)\n",
        "plt.savefig(\"clusterflop\")"
      ],
      "metadata": {
        "colab": {
          "base_uri": "https://localhost:8080/",
          "height": 264
        },
        "id": "fdeUeGRk9S1u",
        "outputId": "6fd95968-145a-402f-851e-2f25d1e492bf"
      },
      "id": "fdeUeGRk9S1u",
      "execution_count": null,
      "outputs": [
        {
          "output_type": "display_data",
          "data": {
            "image/png": "[encoded data removed]",
            "text/plain": [
              "<Figure size 432x288 with 1 Axes>"
            ]
          },
          "metadata": {
            "needs_background": "light"
          }
        }
      ]
    },
    {
      "cell_type": "code",
      "source": [
        "df['price'].mean()"
      ],
      "metadata": {
        "colab": {
          "base_uri": "https://localhost:8080/"
        },
        "id": "TSn7MyMu9dXG",
        "outputId": "3967320c-9db4-40d3-84a6-a9aca61619a2"
      },
      "id": "TSn7MyMu9dXG",
      "execution_count": null,
      "outputs": [
        {
          "output_type": "execute_result",
          "data": {
            "text/plain": [
              "540088.1417665294"
            ]
          },
          "metadata": {},
          "execution_count": 25
        }
      ]
    },
    {
      "cell_type": "code",
      "source": [
        "def cluster_vals (cost):\n",
        "    if cost > 540088.1417665294:\n",
        "        return 1\n",
        "    else:\n",
        "        return 0\n",
        "df['Cluster']=df['price'].apply(cluster_vals)"
      ],
      "metadata": {
        "id": "teFQhccX9fzm"
      },
      "id": "teFQhccX9fzm",
      "execution_count": 12,
      "outputs": []
    },
    {
      "cell_type": "code",
      "source": [
        "df.head(3)"
      ],
      "metadata": {
        "colab": {
          "base_uri": "https://localhost:8080/",
          "height": 291
        },
        "id": "GQOklxob9iqV",
        "outputId": "936530ec-570d-4dc7-f336-e7beed94b116"
      },
      "id": "GQOklxob9iqV",
      "execution_count": null,
      "outputs": [
        {
          "output_type": "execute_result",
          "data": {
            "text/html": [
              "\n",
              "  <div id=\"df-da49b4ec-74c2-4e59-b34a-614b3cce3da6\">\n",
              "    <div class=\"colab-df-container\">\n",
              "      <div>\n",
              "<style scoped>\n",
              "    .dataframe tbody tr th:only-of-type {\n",
              "        vertical-align: middle;\n",
              "    }\n",
              "\n",
              "    .dataframe tbody tr th {\n",
              "        vertical-align: top;\n",
              "    }\n",
              "\n",
              "    .dataframe thead th {\n",
              "        text-align: right;\n",
              "    }\n",
              "</style>\n",
              "<table border=\"1\" class=\"dataframe\">\n",
              "  <thead>\n",
              "    <tr style=\"text-align: right;\">\n",
              "      <th></th>\n",
              "      <th>date</th>\n",
              "      <th>price</th>\n",
              "      <th>bedrooms</th>\n",
              "      <th>bathrooms</th>\n",
              "      <th>sqft_living</th>\n",
              "      <th>sqft_lot</th>\n",
              "      <th>floors</th>\n",
              "      <th>waterfront</th>\n",
              "      <th>view</th>\n",
              "      <th>condition</th>\n",
              "      <th>grade</th>\n",
              "      <th>sqft_above</th>\n",
              "      <th>sqft_basement</th>\n",
              "      <th>yr_built</th>\n",
              "      <th>yr_renovated</th>\n",
              "      <th>zipcode</th>\n",
              "      <th>lat</th>\n",
              "      <th>long</th>\n",
              "      <th>sqft_living15</th>\n",
              "      <th>sqft_lot15</th>\n",
              "      <th>Cluster</th>\n",
              "    </tr>\n",
              "    <tr>\n",
              "      <th>id</th>\n",
              "      <th></th>\n",
              "      <th></th>\n",
              "      <th></th>\n",
              "      <th></th>\n",
              "      <th></th>\n",
              "      <th></th>\n",
              "      <th></th>\n",
              "      <th></th>\n",
              "      <th></th>\n",
              "      <th></th>\n",
              "      <th></th>\n",
              "      <th></th>\n",
              "      <th></th>\n",
              "      <th></th>\n",
              "      <th></th>\n",
              "      <th></th>\n",
              "      <th></th>\n",
              "      <th></th>\n",
              "      <th></th>\n",
              "      <th></th>\n",
              "      <th></th>\n",
              "    </tr>\n",
              "  </thead>\n",
              "  <tbody>\n",
              "    <tr>\n",
              "      <th>7129300520</th>\n",
              "      <td>2014-10-13</td>\n",
              "      <td>221900.0</td>\n",
              "      <td>3</td>\n",
              "      <td>1.00</td>\n",
              "      <td>1180</td>\n",
              "      <td>5650</td>\n",
              "      <td>1.0</td>\n",
              "      <td>0</td>\n",
              "      <td>0</td>\n",
              "      <td>3</td>\n",
              "      <td>7</td>\n",
              "      <td>1180</td>\n",
              "      <td>0</td>\n",
              "      <td>1955</td>\n",
              "      <td>0</td>\n",
              "      <td>98178</td>\n",
              "      <td>47.5112</td>\n",
              "      <td>-122.257</td>\n",
              "      <td>1340</td>\n",
              "      <td>5650</td>\n",
              "      <td>0</td>\n",
              "    </tr>\n",
              "    <tr>\n",
              "      <th>6414100192</th>\n",
              "      <td>2014-12-09</td>\n",
              "      <td>538000.0</td>\n",
              "      <td>3</td>\n",
              "      <td>2.25</td>\n",
              "      <td>2570</td>\n",
              "      <td>7242</td>\n",
              "      <td>2.0</td>\n",
              "      <td>0</td>\n",
              "      <td>0</td>\n",
              "      <td>3</td>\n",
              "      <td>7</td>\n",
              "      <td>2170</td>\n",
              "      <td>400</td>\n",
              "      <td>1951</td>\n",
              "      <td>1991</td>\n",
              "      <td>98125</td>\n",
              "      <td>47.7210</td>\n",
              "      <td>-122.319</td>\n",
              "      <td>1690</td>\n",
              "      <td>7639</td>\n",
              "      <td>0</td>\n",
              "    </tr>\n",
              "    <tr>\n",
              "      <th>5631500400</th>\n",
              "      <td>2015-02-25</td>\n",
              "      <td>180000.0</td>\n",
              "      <td>2</td>\n",
              "      <td>1.00</td>\n",
              "      <td>770</td>\n",
              "      <td>10000</td>\n",
              "      <td>1.0</td>\n",
              "      <td>0</td>\n",
              "      <td>0</td>\n",
              "      <td>3</td>\n",
              "      <td>6</td>\n",
              "      <td>770</td>\n",
              "      <td>0</td>\n",
              "      <td>1933</td>\n",
              "      <td>0</td>\n",
              "      <td>98028</td>\n",
              "      <td>47.7379</td>\n",
              "      <td>-122.233</td>\n",
              "      <td>2720</td>\n",
              "      <td>8062</td>\n",
              "      <td>0</td>\n",
              "    </tr>\n",
              "  </tbody>\n",
              "</table>\n",
              "</div>\n",
              "      <button class=\"colab-df-convert\" onclick=\"convertToInteractive('df-da49b4ec-74c2-4e59-b34a-614b3cce3da6')\"\n",
              "              title=\"Convert this dataframe to an interactive table.\"\n",
              "              style=\"display:none;\">\n",
              "        \n",
              "  <svg xmlns=\"http://www.w3.org/2000/svg\" height=\"24px\"viewBox=\"0 0 24 24\"\n",
              "       width=\"24px\">\n",
              "    <path d=\"M0 0h24v24H0V0z\" fill=\"none\"/>\n",
              "    <path d=\"M18.56 5.44l.94 2.06.94-2.06 2.06-.94-2.06-.94-.94-2.06-.94 2.06-2.06.94zm-11 1L8.5 8.5l.94-2.06 2.06-.94-2.06-.94L8.5 2.5l-.94 2.06-2.06.94zm10 10l.94 2.06.94-2.06 2.06-.94-2.06-.94-.94-2.06-.94 2.06-2.06.94z\"/><path d=\"M17.41 7.96l-1.37-1.37c-.4-.4-.92-.59-1.43-.59-.52 0-1.04.2-1.43.59L10.3 9.45l-7.72 7.72c-.78.78-.78 2.05 0 2.83L4 21.41c.39.39.9.59 1.41.59.51 0 1.02-.2 1.41-.59l7.78-7.78 2.81-2.81c.8-.78.8-2.07 0-2.86zM5.41 20L4 18.59l7.72-7.72 1.47 1.35L5.41 20z\"/>\n",
              "  </svg>\n",
              "      </button>\n",
              "      \n",
              "  <style>\n",
              "    .colab-df-container {\n",
              "      display:flex;\n",
              "      flex-wrap:wrap;\n",
              "      gap: 12px;\n",
              "    }\n",
              "\n",
              "    .colab-df-convert {\n",
              "      background-color: #E8F0FE;\n",
              "      border: none;\n",
              "      border-radius: 50%;\n",
              "      cursor: pointer;\n",
              "      display: none;\n",
              "      fill: #1967D2;\n",
              "      height: 32px;\n",
              "      padding: 0 0 0 0;\n",
              "      width: 32px;\n",
              "    }\n",
              "\n",
              "    .colab-df-convert:hover {\n",
              "      background-color: #E2EBFA;\n",
              "      box-shadow: 0px 1px 2px rgba(60, 64, 67, 0.3), 0px 1px 3px 1px rgba(60, 64, 67, 0.15);\n",
              "      fill: #174EA6;\n",
              "    }\n",
              "\n",
              "    [theme=dark] .colab-df-convert {\n",
              "      background-color: #3B4455;\n",
              "      fill: #D2E3FC;\n",
              "    }\n",
              "\n",
              "    [theme=dark] .colab-df-convert:hover {\n",
              "      background-color: #434B5C;\n",
              "      box-shadow: 0px 1px 3px 1px rgba(0, 0, 0, 0.15);\n",
              "      filter: drop-shadow(0px 1px 2px rgba(0, 0, 0, 0.3));\n",
              "      fill: #FFFFFF;\n",
              "    }\n",
              "  </style>\n",
              "\n",
              "      <script>\n",
              "        const buttonEl =\n",
              "          document.querySelector('#df-da49b4ec-74c2-4e59-b34a-614b3cce3da6 button.colab-df-convert');\n",
              "        buttonEl.style.display =\n",
              "          google.colab.kernel.accessAllowed ? 'block' : 'none';\n",
              "\n",
              "        async function convertToInteractive(key) {\n",
              "          const element = document.querySelector('#df-da49b4ec-74c2-4e59-b34a-614b3cce3da6');\n",
              "          const dataTable =\n",
              "            await google.colab.kernel.invokeFunction('convertToInteractive',\n",
              "                                                     [key], {});\n",
              "          if (!dataTable) return;\n",
              "\n",
              "          const docLinkHtml = 'Like what you see? Visit the ' +\n",
              "            '<a target=\"_blank\" href=https://colab.research.google.com/notebooks/data_table.ipynb>data table notebook</a>'\n",
              "            + ' to learn more about interactive tables.';\n",
              "          element.innerHTML = '';\n",
              "          dataTable['output_type'] = 'display_data';\n",
              "          await google.colab.output.renderOutput(dataTable, element);\n",
              "          const docLink = document.createElement('div');\n",
              "          docLink.innerHTML = docLinkHtml;\n",
              "          element.appendChild(docLink);\n",
              "        }\n",
              "      </script>\n",
              "    </div>\n",
              "  </div>\n",
              "  "
            ],
            "text/plain": [
              "                 date     price  bedrooms  ...  sqft_living15  sqft_lot15  Cluster\n",
              "id                                         ...                                    \n",
              "7129300520 2014-10-13  221900.0         3  ...           1340        5650        0\n",
              "6414100192 2014-12-09  538000.0         3  ...           1690        7639        0\n",
              "5631500400 2015-02-25  180000.0         2  ...           2720        8062        0\n",
              "\n",
              "[3 rows x 21 columns]"
            ]
          },
          "metadata": {},
          "execution_count": 27
        }
      ]
    },
    {
      "cell_type": "code",
      "source": [
        "from sklearn.metrics import confusion_matrix,classification_report\n",
        "print(\"CONFUSION MATRIX:\\n\\n \",confusion_matrix(df['Cluster'],km.labels_))\n",
        "print(\"\\nCLASSIFICATION REPORT:\\n\\n\",classification_report(df['Cluster'],km.labels_))"
      ],
      "metadata": {
        "colab": {
          "base_uri": "https://localhost:8080/"
        },
        "id": "QYV6KE569lnG",
        "outputId": "1a42cc6f-6dcf-4a9b-fe18-146dcc1ddb89"
      },
      "id": "QYV6KE569lnG",
      "execution_count": null,
      "outputs": [
        {
          "output_type": "stream",
          "name": "stdout",
          "text": [
            "CONFUSION MATRIX:\n",
            "\n",
            "  [[13533   161]\n",
            " [ 7703   216]]\n",
            "\n",
            "CLASSIFICATION REPORT:\n",
            "\n",
            "               precision    recall  f1-score   support\n",
            "\n",
            "           0       0.64      0.99      0.77     13694\n",
            "           1       0.57      0.03      0.05      7919\n",
            "\n",
            "    accuracy                           0.64     21613\n",
            "   macro avg       0.61      0.51      0.41     21613\n",
            "weighted avg       0.61      0.64      0.51     21613\n",
            "\n"
          ]
        }
      ]
    },
    {
      "cell_type": "code",
      "source": [
        "#k-means whit 4 clusters\n",
        "km = KMeans(n_clusters=4,init='k-means++', random_state=0)\n",
        "y_predicted = km.fit(df.drop(['date', 'price',],axis=1))\n",
        "y_predicted"
      ],
      "metadata": {
        "colab": {
          "base_uri": "https://localhost:8080/"
        },
        "id": "ez8YRrAb-lGG",
        "outputId": "8c1abcfb-49d5-4446-86b6-a3c96713ef2d"
      },
      "id": "ez8YRrAb-lGG",
      "execution_count": null,
      "outputs": [
        {
          "output_type": "execute_result",
          "data": {
            "text/plain": [
              "KMeans(n_clusters=4, random_state=0)"
            ]
          },
          "metadata": {},
          "execution_count": 69
        }
      ]
    },
    {
      "cell_type": "code",
      "source": [
        "km.cluster_centers_"
      ],
      "metadata": {
        "colab": {
          "base_uri": "https://localhost:8080/"
        },
        "id": "W0JN9iIR-qW9",
        "outputId": "69fb5e13-ecfb-4c10-c8b7-2d0c74cead05"
      },
      "id": "W0JN9iIR-qW9",
      "execution_count": null,
      "outputs": [
        {
          "output_type": "execute_result",
          "data": {
            "text/plain": [
              "array([[ 3.36186732e+00,  2.09074056e+00,  2.02647220e+03,\n",
              "         8.24346608e+03,  1.49046932e+00,  3.41198427e+00,\n",
              "         7.60349375e+00,  1.73527661e+03,  1.97028940e+03,\n",
              "         9.80801131e+04,  4.75620774e+01, -1.22225240e+02,\n",
              "         1.94399224e+03,  7.83800926e+03,  3.51415916e-01],\n",
              "       [ 3.41100324e+00,  2.49838188e+00,  2.88752751e+03,\n",
              "         2.44241155e+05,  1.58090615e+00,  3.26213592e+00,\n",
              "         8.26537217e+00,  2.60097411e+03,  1.98364401e+03,\n",
              "         9.80433463e+04,  4.74835178e+01, -1.22026055e+02,\n",
              "         2.42468285e+03,  1.67862175e+05,  5.66343042e-01],\n",
              "       [ 3.20000000e+00,  2.73333333e+00,  3.18426667e+03,\n",
              "         9.21718533e+05,  1.73333333e+00,  3.33333333e+00,\n",
              "         8.93333333e+00,  2.98826667e+03,  1.98206667e+03,\n",
              "         9.80378000e+04,  4.74788467e+01, -1.22025733e+02,\n",
              "         2.13133333e+03,  2.75858467e+05,  9.33333333e-01],\n",
              "       [ 3.51337793e+00,  2.41137124e+00,  2.75498077e+03,\n",
              "         5.98450092e+04,  1.53344482e+00,  3.40551839e+00,\n",
              "         8.38043478e+00,  2.45572742e+03,  1.97962542e+03,\n",
              "         9.80508696e+04,  4.75468271e+01, -1.22074215e+02,\n",
              "         2.58656020e+03,  5.22309557e+04,  5.59364548e-01]])"
            ]
          },
          "metadata": {},
          "execution_count": 64
        }
      ]
    },
    {
      "cell_type": "code",
      "source": [
        "km.labels_"
      ],
      "metadata": {
        "colab": {
          "base_uri": "https://localhost:8080/"
        },
        "id": "ao5L8JHi-slF",
        "outputId": "031c325e-2ec9-45e7-cdf1-5376035773c3"
      },
      "id": "ao5L8JHi-slF",
      "execution_count": null,
      "outputs": [
        {
          "output_type": "execute_result",
          "data": {
            "text/plain": [
              "array([0, 0, 0, ..., 0, 0, 0], dtype=int32)"
            ]
          },
          "metadata": {},
          "execution_count": 65
        }
      ]
    },
    {
      "cell_type": "code",
      "source": [
        "plt.plot(km.cluster_centers_)"
      ],
      "metadata": {
        "colab": {
          "base_uri": "https://localhost:8080/",
          "height": 542
        },
        "id": "JiiSVcyJ-wtV",
        "outputId": "67b673c7-e8fa-4114-c5d6-41eeeb901ad3"
      },
      "id": "JiiSVcyJ-wtV",
      "execution_count": null,
      "outputs": [
        {
          "output_type": "execute_result",
          "data": {
            "text/plain": [
              "[<matplotlib.lines.Line2D at 0x7fc1754f3250>,\n",
              " <matplotlib.lines.Line2D at 0x7fc1754f3490>,\n",
              " <matplotlib.lines.Line2D at 0x7fc1754f3650>,\n",
              " <matplotlib.lines.Line2D at 0x7fc1754f3810>,\n",
              " <matplotlib.lines.Line2D at 0x7fc1754f39d0>,\n",
              " <matplotlib.lines.Line2D at 0x7fc1754f3b90>,\n",
              " <matplotlib.lines.Line2D at 0x7fc1754f3dd0>,\n",
              " <matplotlib.lines.Line2D at 0x7fc1754f3f90>,\n",
              " <matplotlib.lines.Line2D at 0x7fc1754f3990>,\n",
              " <matplotlib.lines.Line2D at 0x7fc1754f3bd0>,\n",
              " <matplotlib.lines.Line2D at 0x7fc1754f3290>,\n",
              " <matplotlib.lines.Line2D at 0x7fc1754f8610>,\n",
              " <matplotlib.lines.Line2D at 0x7fc1754f87d0>,\n",
              " <matplotlib.lines.Line2D at 0x7fc1754f8990>,\n",
              " <matplotlib.lines.Line2D at 0x7fc1754f8b50>]"
            ]
          },
          "metadata": {},
          "execution_count": 66
        },
        {
          "output_type": "display_data",
          "data": {
            "image/png": "[encoded data removed]",
            "text/plain": [
              "<Figure size 432x288 with 1 Axes>"
            ]
          },
          "metadata": {
            "needs_background": "light"
          }
        }
      ]
    },
    {
      "cell_type": "code",
      "source": [
        "c=df.drop(['date', 'price',],axis=1)\n",
        "plt.scatter(c.iloc[:, 0], c.iloc[:, 1], s=50, c='black')\n",
        "plt.scatter(km.cluster_centers_[:, 0], km.cluster_centers_[:, 1], c='white', s=200, alpha=0.5)\n",
        "plt.savefig(\"clusterflop\")"
      ],
      "metadata": {
        "colab": {
          "base_uri": "https://localhost:8080/",
          "height": 264
        },
        "id": "fAUHEKio-3yl",
        "outputId": "9fcbef72-70fd-41df-876c-4b29465967bc"
      },
      "id": "fAUHEKio-3yl",
      "execution_count": null,
      "outputs": [
        {
          "output_type": "display_data",
          "data": {
            "image/png": "[encoded data removed]",
            "text/plain": [
              "<Figure size 432x288 with 1 Axes>"
            ]
          },
          "metadata": {
            "needs_background": "light"
          }
        }
      ]
    },
    {
      "cell_type": "code",
      "source": [
        "from sklearn.metrics import confusion_matrix,classification_report\n",
        "print(\"CONFUSION MATRIX:\\n\\n \",confusion_matrix(df['Cluster'],km.labels_))\n",
        "print(\"\\nCLASSIFICATION REPORT:\\n\\n\",classification_report(df['Cluster'],km.labels_))"
      ],
      "metadata": {
        "colab": {
          "base_uri": "https://localhost:8080/"
        },
        "id": "2njhCjKV_Aa9",
        "outputId": "b1a39096-da03-43c4-c1f0-4b576890231f"
      },
      "id": "2njhCjKV_Aa9",
      "execution_count": null,
      "outputs": [
        {
          "output_type": "stream",
          "name": "stdout",
          "text": [
            "CONFUSION MATRIX:\n",
            "\n",
            "  [[13031   134     1   528]\n",
            " [ 7061   175    14   669]\n",
            " [    0     0     0     0]\n",
            " [    0     0     0     0]]\n",
            "\n",
            "CLASSIFICATION REPORT:\n",
            "\n",
            "               precision    recall  f1-score   support\n",
            "\n",
            "           0       0.65      0.95      0.77     13694\n",
            "           1       0.57      0.02      0.04      7919\n",
            "           2       0.00      0.00      0.00         0\n",
            "           3       0.00      0.00      0.00         0\n",
            "\n",
            "    accuracy                           0.61     21613\n",
            "   macro avg       0.30      0.24      0.20     21613\n",
            "weighted avg       0.62      0.61      0.50     21613\n",
            "\n"
          ]
        }
      ]
    },
    {
      "cell_type": "markdown",
      "source": [
        "## k_means supervised"
      ],
      "metadata": {
        "id": "CbL6Ca_g7bpK"
      },
      "id": "CbL6Ca_g7bpK"
    },
    {
      "cell_type": "code",
      "source": [
        "features =[\"bedrooms\", \"bathrooms\",\"sqft_living\" ,\"sqft_lot\" ,\"floors\" ,\"condition\",\"grade\",\"sqft_above\",\"yr_built\",\"zipcode\",\"lat\",\"long\",\"sqft_living15\", \"sqft_lot15\"]    \n",
        "X = df[features]\n",
        "Y = df['Cluster']\n",
        "\n",
        "x_train, x_test, y_train, y_test = train_test_split(X, Y, test_size=0.15, random_state=1)\n",
        "\n",
        "\n",
        "print(\"number of test samples:\", x_test.shape[0])\n",
        "print(\"number of training samples:\",x_train.shape[0])"
      ],
      "metadata": {
        "colab": {
          "base_uri": "https://localhost:8080/"
        },
        "id": "tgdqflk_46OR",
        "outputId": "07155646-2403-4491-ae6e-bde8916eec2a"
      },
      "id": "tgdqflk_46OR",
      "execution_count": null,
      "outputs": [
        {
          "output_type": "stream",
          "name": "stdout",
          "text": [
            "number of test samples: 3242\n",
            "number of training samples: 18371\n"
          ]
        }
      ]
    },
    {
      "cell_type": "code",
      "source": [
        "#k-means whit 4 clusters\n",
        "km = KMeans(n_clusters=4,init='k-means++', random_state=0)\n",
        "y_predicted = km.fit(x_train,y_train)\n",
        "y_predicted"
      ],
      "metadata": {
        "colab": {
          "base_uri": "https://localhost:8080/"
        },
        "id": "RRpcF1aI36Zy",
        "outputId": "a2658694-3d18-4ef3-f598-7dad543092b3"
      },
      "id": "RRpcF1aI36Zy",
      "execution_count": null,
      "outputs": [
        {
          "output_type": "execute_result",
          "data": {
            "text/plain": [
              "KMeans(n_clusters=4, random_state=0)"
            ]
          },
          "metadata": {},
          "execution_count": 30
        }
      ]
    },
    {
      "cell_type": "code",
      "source": [
        "predictions = km.predict(x_test)"
      ],
      "metadata": {
        "id": "3No6TPpq4P1p"
      },
      "id": "3No6TPpq4P1p",
      "execution_count": null,
      "outputs": []
    },
    {
      "cell_type": "code",
      "source": [
        "from sklearn.metrics import classification_report\n",
        "from sklearn.metrics import confusion_matrix\n",
        "\n",
        "print(classification_report(y_test, predictions))"
      ],
      "metadata": {
        "colab": {
          "base_uri": "https://localhost:8080/"
        },
        "id": "-DTGEtel4dRL",
        "outputId": "59b1e1cd-3194-4483-9d5e-1e9afa8d1db5"
      },
      "id": "-DTGEtel4dRL",
      "execution_count": null,
      "outputs": [
        {
          "output_type": "stream",
          "name": "stdout",
          "text": [
            "              precision    recall  f1-score   support\n",
            "\n",
            "           0       0.43      0.04      0.06      2057\n",
            "           1       1.00      0.00      0.00      1185\n",
            "           2       0.00      0.00      0.00         0\n",
            "           3       0.00      0.00      0.00         0\n",
            "\n",
            "    accuracy                           0.02      3242\n",
            "   macro avg       0.36      0.01      0.02      3242\n",
            "weighted avg       0.64      0.02      0.04      3242\n",
            "\n"
          ]
        }
      ]
    },
    {
      "cell_type": "code",
      "source": [
        "#k-means whit 2 clusters\n",
        "km = KMeans(n_clusters=2,init='k-means++', random_state=0)\n",
        "y_predicted = km.fit(x_train,y_train)\n",
        "y_predicted"
      ],
      "metadata": {
        "colab": {
          "base_uri": "https://localhost:8080/"
        },
        "id": "biJFF67V5Icx",
        "outputId": "abfaa43f-dd04-4882-9b7b-e5974e992403"
      },
      "id": "biJFF67V5Icx",
      "execution_count": null,
      "outputs": [
        {
          "output_type": "execute_result",
          "data": {
            "text/plain": [
              "KMeans(n_clusters=2, random_state=0)"
            ]
          },
          "metadata": {},
          "execution_count": 34
        }
      ]
    },
    {
      "cell_type": "code",
      "source": [
        "predictions = km.predict(x_test)"
      ],
      "metadata": {
        "id": "9A0nWace5P9K"
      },
      "id": "9A0nWace5P9K",
      "execution_count": null,
      "outputs": []
    },
    {
      "cell_type": "code",
      "source": [
        "from sklearn.metrics import classification_report\n",
        "from sklearn.metrics import confusion_matrix\n",
        "\n",
        "print(classification_report(y_test, predictions))"
      ],
      "metadata": {
        "colab": {
          "base_uri": "https://localhost:8080/"
        },
        "id": "WdSZACOr5Smg",
        "outputId": "4b266462-7101-4c00-be83-3f4d176066f7"
      },
      "id": "WdSZACOr5Smg",
      "execution_count": null,
      "outputs": [
        {
          "output_type": "stream",
          "name": "stdout",
          "text": [
            "              precision    recall  f1-score   support\n",
            "\n",
            "           0       0.64      0.99      0.77      2057\n",
            "           1       0.53      0.03      0.05      1185\n",
            "\n",
            "    accuracy                           0.64      3242\n",
            "   macro avg       0.58      0.51      0.41      3242\n",
            "weighted avg       0.60      0.64      0.51      3242\n",
            "\n"
          ]
        }
      ]
    },
    {
      "cell_type": "markdown",
      "source": [
        "## DBSCAN"
      ],
      "metadata": {
        "id": "eD2XTU9G_O1w"
      },
      "id": "eD2XTU9G_O1w"
    },
    {
      "cell_type": "code",
      "source": [
        "from sklearn.cluster import DBSCAN\n",
        "\n",
        "epsilon =1\n",
        "min_samples = 60\n",
        "db = DBSCAN(eps=epsilon, min_samples=min_samples).fit(X_r)"
      ],
      "metadata": {
        "id": "GEDK0XrV_XW2"
      },
      "id": "GEDK0XrV_XW2",
      "execution_count": null,
      "outputs": []
    },
    {
      "cell_type": "code",
      "source": [
        "db.labels_ "
      ],
      "metadata": {
        "colab": {
          "base_uri": "https://localhost:8080/"
        },
        "id": "D26FuH_w_c4_",
        "outputId": "c050458f-5bad-494c-a9f5-374420eab4bf"
      },
      "id": "D26FuH_w_c4_",
      "execution_count": null,
      "outputs": [
        {
          "output_type": "execute_result",
          "data": {
            "text/plain": [
              "array([-1, -1, -1, ..., -1, -1, -1])"
            ]
          },
          "metadata": {},
          "execution_count": 39
        }
      ]
    },
    {
      "cell_type": "code",
      "source": [
        "cluster_labels = pd.Series(db.labels_)\n",
        "cluster_labels.value_counts()"
      ],
      "metadata": {
        "id": "aEgnXCZCn-NT",
        "colab": {
          "base_uri": "https://localhost:8080/"
        },
        "outputId": "7ea07bee-a5bf-46a5-a930-cad1315134a1"
      },
      "id": "aEgnXCZCn-NT",
      "execution_count": null,
      "outputs": [
        {
          "output_type": "execute_result",
          "data": {
            "text/plain": [
              "-1    18555\n",
              " 0      269\n",
              " 2      189\n",
              " 5      111\n",
              " 3       83\n",
              " 4       82\n",
              " 1       70\n",
              " 6       60\n",
              "dtype: int64"
            ]
          },
          "metadata": {},
          "execution_count": 40
        }
      ]
    },
    {
      "cell_type": "code",
      "source": [
        "from sklearn.cluster import DBSCAN\n",
        "\n",
        "epsilon =1\n",
        "min_samples = 60\n",
        "db = DBSCAN(eps=epsilon, min_samples=min_samples).fit(df.drop(['date', 'price',],axis=1))"
      ],
      "metadata": {
        "id": "1_VC3_B87Y7z"
      },
      "id": "1_VC3_B87Y7z",
      "execution_count": null,
      "outputs": []
    },
    {
      "cell_type": "code",
      "source": [
        "db.labels_ "
      ],
      "metadata": {
        "colab": {
          "base_uri": "https://localhost:8080/"
        },
        "id": "FNkrVHJZ7y3g",
        "outputId": "9f88f6f9-e23b-4a21-85c3-110b215345c7"
      },
      "id": "FNkrVHJZ7y3g",
      "execution_count": null,
      "outputs": [
        {
          "output_type": "execute_result",
          "data": {
            "text/plain": [
              "array([-1, -1, -1, ..., -1, -1, -1])"
            ]
          },
          "metadata": {},
          "execution_count": 44
        }
      ]
    },
    {
      "cell_type": "code",
      "source": [
        "from sklearn.metrics import confusion_matrix,classification_report\n",
        "print(\"CONFUSION MATRIX:\\n\\n \",confusion_matrix(df['Cluster'],db.labels_))\n",
        "print(\"\\nCLASSIFICATION REPORT:\\n\\n\",classification_report(df['Cluster'],db.labels_))"
      ],
      "metadata": {
        "colab": {
          "base_uri": "https://localhost:8080/"
        },
        "id": "Lv536cL_nf-M",
        "outputId": "b22e34b0-6f54-4e0a-f0f4-5d15366ab635"
      },
      "id": "Lv536cL_nf-M",
      "execution_count": null,
      "outputs": [
        {
          "output_type": "stream",
          "name": "stdout",
          "text": [
            "CONFUSION MATRIX:\n",
            "\n",
            "  [[    0     0     0]\n",
            " [13694     0     0]\n",
            " [ 7919     0     0]]\n",
            "\n",
            "CLASSIFICATION REPORT:\n",
            "\n",
            "               precision    recall  f1-score   support\n",
            "\n",
            "          -1       0.00      0.00      0.00       0.0\n",
            "           0       0.00      0.00      0.00   13694.0\n",
            "           1       0.00      0.00      0.00    7919.0\n",
            "\n",
            "    accuracy                           0.00   21613.0\n",
            "   macro avg       0.00      0.00      0.00   21613.0\n",
            "weighted avg       0.00      0.00      0.00   21613.0\n",
            "\n"
          ]
        }
      ]
    },
    {
      "cell_type": "code",
      "source": [
        "features =[\"bedrooms\", \"bathrooms\",\"sqft_living\" ,\"sqft_lot\" ,\"floors\" ,\"condition\",\"grade\",\"sqft_above\",\"yr_built\",\"zipcode\",\"lat\",\"long\",\"sqft_living15\", \"sqft_lot15\"]    \n",
        "X = df[features]\n",
        "Y = df['Cluster']\n",
        "\n",
        "x_train, x_test, y_train, y_test = train_test_split(X, Y, test_size=0.15, random_state=1)\n",
        "\n",
        "\n",
        "print(\"number of test samples:\", x_test.shape[0])\n",
        "print(\"number of training samples:\",x_train.shape[0])"
      ],
      "metadata": {
        "colab": {
          "base_uri": "https://localhost:8080/"
        },
        "id": "1yOcRNTX785J",
        "outputId": "af302adf-e1ff-4146-e928-ad4a9627eb83"
      },
      "id": "1yOcRNTX785J",
      "execution_count": null,
      "outputs": [
        {
          "output_type": "stream",
          "name": "stdout",
          "text": [
            "number of test samples: 3242\n",
            "number of training samples: 18371\n"
          ]
        }
      ]
    },
    {
      "cell_type": "code",
      "source": [
        "from sklearn.cluster import DBSCAN\n",
        "\n",
        "epsilon =1\n",
        "min_samples = 60\n",
        "db = DBSCAN(eps=epsilon, min_samples=min_samples).fit(x_train,y_train)"
      ],
      "metadata": {
        "id": "boRR9mxY71xt"
      },
      "id": "boRR9mxY71xt",
      "execution_count": null,
      "outputs": []
    },
    {
      "cell_type": "code",
      "source": [
        "db.labels_"
      ],
      "metadata": {
        "colab": {
          "base_uri": "https://localhost:8080/"
        },
        "id": "IeADpL5K8FHO",
        "outputId": "041a420f-ebc9-4d3f-d9f7-e47a2f965f1c"
      },
      "id": "IeADpL5K8FHO",
      "execution_count": null,
      "outputs": [
        {
          "output_type": "execute_result",
          "data": {
            "text/plain": [
              "array([-1, -1, -1, ..., -1, -1, -1])"
            ]
          },
          "metadata": {},
          "execution_count": 48
        }
      ]
    },
    {
      "cell_type": "code",
      "source": [
        "cluster_labels = pd.Series(db.labels_)\n",
        "cluster_labels.value_counts()"
      ],
      "metadata": {
        "colab": {
          "base_uri": "https://localhost:8080/"
        },
        "id": "S2Yz0B5o8IQu",
        "outputId": "45b5bc8b-b33f-4837-f0d3-d6622bce428f"
      },
      "id": "S2Yz0B5o8IQu",
      "execution_count": null,
      "outputs": [
        {
          "output_type": "execute_result",
          "data": {
            "text/plain": [
              "-1    18371\n",
              "dtype: int64"
            ]
          },
          "metadata": {},
          "execution_count": 49
        }
      ]
    },
    {
      "cell_type": "code",
      "source": [
        "db.labels_[:3242].shape"
      ],
      "metadata": {
        "colab": {
          "base_uri": "https://localhost:8080/"
        },
        "id": "7CIREWGT8gHP",
        "outputId": "16f558e7-99df-4e32-c166-3c33096f87f2"
      },
      "id": "7CIREWGT8gHP",
      "execution_count": null,
      "outputs": [
        {
          "output_type": "execute_result",
          "data": {
            "text/plain": [
              "(3242,)"
            ]
          },
          "metadata": {},
          "execution_count": 54
        }
      ]
    },
    {
      "cell_type": "code",
      "source": [
        "from sklearn.metrics import confusion_matrix,classification_report\n",
        "print(\"CONFUSION MATRIX:\\n\\n \",confusion_matrix(y_test,db.labels_[:3242]))\n",
        "print(\"\\nCLASSIFICATION REPORT:\\n\\n\",classification_report(y_test,db.labels_[:3242]))"
      ],
      "metadata": {
        "colab": {
          "base_uri": "https://localhost:8080/"
        },
        "id": "yVhB8wzL8UhX",
        "outputId": "24f14ca0-7bd7-4e50-fe79-eb7dff6e56fb"
      },
      "id": "yVhB8wzL8UhX",
      "execution_count": null,
      "outputs": [
        {
          "output_type": "stream",
          "name": "stdout",
          "text": [
            "CONFUSION MATRIX:\n",
            "\n",
            "  [[   0    0    0]\n",
            " [2057    0    0]\n",
            " [1185    0    0]]\n",
            "\n",
            "CLASSIFICATION REPORT:\n",
            "\n",
            "               precision    recall  f1-score   support\n",
            "\n",
            "          -1       0.00      0.00      0.00       0.0\n",
            "           0       0.00      0.00      0.00    2057.0\n",
            "           1       0.00      0.00      0.00    1185.0\n",
            "\n",
            "    accuracy                           0.00    3242.0\n",
            "   macro avg       0.00      0.00      0.00    3242.0\n",
            "weighted avg       0.00      0.00      0.00    3242.0\n",
            "\n"
          ]
        }
      ]
    },
    {
      "cell_type": "markdown",
      "source": [
        "## SVM"
      ],
      "metadata": {
        "id": "aUwQdLafAG3H"
      },
      "id": "aUwQdLafAG3H"
    },
    {
      "cell_type": "code",
      "source": [
        "features =[\"bedrooms\", \"bathrooms\",\"sqft_living\" ,\"sqft_lot\" ,\"floors\" ,\"condition\",\"grade\",\"sqft_above\",\"yr_built\",\"zipcode\",\"lat\",\"long\",\"sqft_living15\", \"sqft_lot15\"]\n",
        "X = df[features]\n",
        "y = df['Cluster']\n",
        "\n",
        "x_train, x_test, y_train, y_test = train_test_split(X, y, test_size=0.15, random_state=1)\n",
        "\n",
        "\n",
        "print(\"number of test samples:\", x_test.shape[0])\n",
        "print(\"number of training samples:\",x_train.shape[0])"
      ],
      "metadata": {
        "colab": {
          "base_uri": "https://localhost:8080/"
        },
        "id": "2WVi5DCVANI_",
        "outputId": "10b69abf-3856-4213-a7c0-d6e2c4219b71"
      },
      "id": "2WVi5DCVANI_",
      "execution_count": 13,
      "outputs": [
        {
          "output_type": "stream",
          "name": "stdout",
          "text": [
            "number of test samples: 3242\n",
            "number of training samples: 18371\n"
          ]
        }
      ]
    },
    {
      "cell_type": "code",
      "source": [
        "from sklearn.svm import SVC\n",
        "from sklearn.model_selection import GridSearchCV\n",
        "\n",
        "parameters = {'kernel':['rbf'], \n",
        "              'C':[1, 10, 100, 1000],\n",
        "              'gamma':[1e-3, 1e-4],'probability':[True]}\n",
        "clf = GridSearchCV(SVC(), parameters)\n",
        "clf.fit(x_train, y_train)"
      ],
      "metadata": {
        "id": "HOXaVtrlT6Sp",
        "colab": {
          "base_uri": "https://localhost:8080/"
        },
        "outputId": "3baaf75b-51f4-4bf0-b08b-a586e47491cd"
      },
      "id": "HOXaVtrlT6Sp",
      "execution_count": null,
      "outputs": [
        {
          "output_type": "execute_result",
          "data": {
            "text/plain": [
              "GridSearchCV(estimator=SVC(),\n",
              "             param_grid={'C': [1, 10, 100, 1000], 'gamma': [0.001, 0.0001],\n",
              "                         'kernel': ['rbf'], 'probability': [True]})"
            ]
          },
          "metadata": {},
          "execution_count": 10
        }
      ]
    },
    {
      "cell_type": "code",
      "source": [
        "svmclf = clf.best_estimator_\n",
        "svmclf.fit(x_train, y_train)"
      ],
      "metadata": {
        "colab": {
          "base_uri": "https://localhost:8080/"
        },
        "id": "4Pd1QziqTmMO",
        "outputId": "adcb9081-ff3c-483c-e937-ae13c91558a6"
      },
      "id": "4Pd1QziqTmMO",
      "execution_count": null,
      "outputs": [
        {
          "output_type": "execute_result",
          "data": {
            "text/plain": [
              "SVC(C=1, gamma=0.0001, probability=True)"
            ]
          },
          "metadata": {},
          "execution_count": 34
        }
      ]
    },
    {
      "cell_type": "code",
      "source": [
        "y_testSVM = svmclf.predict(x_test)\n",
        "\n",
        "from sklearn.metrics import confusion_matrix, classification_report, accuracy_score\n",
        "\n",
        "print(classification_report(y_test, y_testSVM))\n",
        "print(\"Accuracy: {0}\".format(accuracy_score(y_test, y_testSVM)))"
      ],
      "metadata": {
        "colab": {
          "base_uri": "https://localhost:8080/"
        },
        "id": "mJloiqKqT7JA",
        "outputId": "c5a1f96e-8fc6-4156-84cb-8962ed2c13ab"
      },
      "id": "mJloiqKqT7JA",
      "execution_count": null,
      "outputs": [
        {
          "output_type": "stream",
          "name": "stdout",
          "text": [
            "              precision    recall  f1-score   support\n",
            "\n",
            "           0       0.64      1.00      0.78      2057\n",
            "           1       0.60      0.01      0.01      1185\n",
            "\n",
            "    accuracy                           0.64      3242\n",
            "   macro avg       0.62      0.50      0.40      3242\n",
            "weighted avg       0.62      0.64      0.50      3242\n",
            "\n",
            "Accuracy: 0.6354102405922271\n"
          ]
        }
      ]
    },
    {
      "cell_type": "markdown",
      "source": [
        "## KNN"
      ],
      "metadata": {
        "id": "kpHxsYlYAfL1"
      },
      "id": "kpHxsYlYAfL1"
    },
    {
      "cell_type": "code",
      "source": [
        "from sklearn.neighbors import KNeighborsClassifier\n",
        "from sklearn.model_selection import GridSearchCV\n",
        "\n",
        "parameters = {\"n_neighbors\": [1, 5, 10, 30],\n",
        "              \"weights\": ['uniform', 'distance'],\n",
        "              \"metric\": ['minkowski','euclidean','manhattan'],\n",
        "              \"algorithm\": ['auto', 'ball_tree', 'kd_tree', 'brute']}\n",
        "kclf = KNeighborsClassifier()\n",
        "kgclf = GridSearchCV(kclf, param_grid=parameters)\n",
        "kgclf.fit(x_train, y_train)"
      ],
      "metadata": {
        "colab": {
          "base_uri": "https://localhost:8080/"
        },
        "id": "v9pOWfl5ExuN",
        "outputId": "9410da5a-af0c-4a29-d259-a38bff017b2b"
      },
      "id": "v9pOWfl5ExuN",
      "execution_count": null,
      "outputs": [
        {
          "output_type": "execute_result",
          "data": {
            "text/plain": [
              "GridSearchCV(estimator=KNeighborsClassifier(),\n",
              "             param_grid={'algorithm': ['auto', 'ball_tree', 'kd_tree', 'brute'],\n",
              "                         'metric': ['minkowski', 'euclidean', 'manhattan'],\n",
              "                         'n_neighbors': [1, 5, 10, 30],\n",
              "                         'weights': ['uniform', 'distance']})"
            ]
          },
          "metadata": {},
          "execution_count": 36
        }
      ]
    },
    {
      "cell_type": "code",
      "source": [
        "kclf = kgclf.best_estimator_\n",
        "kclf.fit(x_train, y_train)"
      ],
      "metadata": {
        "colab": {
          "base_uri": "https://localhost:8080/"
        },
        "id": "G0wau-ZTHbTz",
        "outputId": "30ccc7d1-d5ff-4fd6-df7c-0e0b6c39d598"
      },
      "id": "G0wau-ZTHbTz",
      "execution_count": null,
      "outputs": [
        {
          "output_type": "execute_result",
          "data": {
            "text/plain": [
              "KNeighborsClassifier(metric='manhattan', n_neighbors=30, weights='distance')"
            ]
          },
          "metadata": {},
          "execution_count": 37
        }
      ]
    },
    {
      "cell_type": "code",
      "source": [
        "y_testKNN = kclf.predict(x_test)\n",
        "\n",
        "from sklearn.metrics import confusion_matrix, classification_report, accuracy_score\n",
        "\n",
        "\n",
        "print(classification_report(y_test, y_testKNN))\n",
        "print(\"Accuracy: {0}\".format(accuracy_score(y_test, y_testKNN)))"
      ],
      "metadata": {
        "colab": {
          "base_uri": "https://localhost:8080/"
        },
        "id": "hQbDwdToHjf7",
        "outputId": "0bd2c485-6693-4cd8-9981-f456fd32cd8f"
      },
      "id": "hQbDwdToHjf7",
      "execution_count": null,
      "outputs": [
        {
          "output_type": "stream",
          "name": "stdout",
          "text": [
            "              precision    recall  f1-score   support\n",
            "\n",
            "           0       0.81      0.88      0.84      2057\n",
            "           1       0.76      0.63      0.69      1185\n",
            "\n",
            "    accuracy                           0.79      3242\n",
            "   macro avg       0.78      0.76      0.77      3242\n",
            "weighted avg       0.79      0.79      0.79      3242\n",
            "\n",
            "Accuracy: 0.7930289944478717\n"
          ]
        }
      ]
    },
    {
      "cell_type": "markdown",
      "source": [
        "## NB"
      ],
      "metadata": {
        "id": "2dN3Lu6XCY9I"
      },
      "id": "2dN3Lu6XCY9I"
    },
    {
      "cell_type": "code",
      "source": [
        "from sklearn.naive_bayes import GaussianNB\n",
        "\n",
        "model = GaussianNB()\n",
        "model.fit(x_train, y_train)"
      ],
      "metadata": {
        "colab": {
          "base_uri": "https://localhost:8080/"
        },
        "id": "nz3bFendCPjN",
        "outputId": "b7ee0b33-799f-479f-bc14-2c51c331dae7"
      },
      "id": "nz3bFendCPjN",
      "execution_count": null,
      "outputs": [
        {
          "output_type": "execute_result",
          "data": {
            "text/plain": [
              "GaussianNB()"
            ]
          },
          "metadata": {},
          "execution_count": 166
        }
      ]
    },
    {
      "cell_type": "code",
      "source": [
        "y_pred = model.predict(x_test)"
      ],
      "metadata": {
        "id": "3qyUGw9IC9yo"
      },
      "id": "3qyUGw9IC9yo",
      "execution_count": null,
      "outputs": []
    },
    {
      "cell_type": "code",
      "source": [
        "from sklearn.metrics import classification_report, confusion_matrix\n",
        "print(confusion_matrix(y_test, y_pred))\n",
        "print(classification_report(y_test, y_pred))"
      ],
      "metadata": {
        "colab": {
          "base_uri": "https://localhost:8080/"
        },
        "id": "SzGSwJ74DL61",
        "outputId": "3c286b77-7820-4cc1-c4dc-604844798554"
      },
      "id": "SzGSwJ74DL61",
      "execution_count": null,
      "outputs": [
        {
          "output_type": "stream",
          "name": "stdout",
          "text": [
            "[[1843  214]\n",
            " [ 539  646]]\n",
            "              precision    recall  f1-score   support\n",
            "\n",
            "           0       0.77      0.90      0.83      2057\n",
            "           1       0.75      0.55      0.63      1185\n",
            "\n",
            "    accuracy                           0.77      3242\n",
            "   macro avg       0.76      0.72      0.73      3242\n",
            "weighted avg       0.77      0.77      0.76      3242\n",
            "\n"
          ]
        }
      ]
    },
    {
      "cell_type": "code",
      "source": [
        "model.score(x_test,y_test)"
      ],
      "metadata": {
        "colab": {
          "base_uri": "https://localhost:8080/"
        },
        "id": "8YaheZaVafbS",
        "outputId": "26021e48-53ef-4546-cda8-a21ba4876893"
      },
      "id": "8YaheZaVafbS",
      "execution_count": null,
      "outputs": [
        {
          "output_type": "execute_result",
          "data": {
            "text/plain": [
              "0.7677359654534238"
            ]
          },
          "metadata": {},
          "execution_count": 170
        }
      ]
    },
    {
      "cell_type": "code",
      "source": [
        "from sklearn.naive_bayes import GaussianNB\n",
        "\n",
        "model = GaussianNB(priors=None,var_smoothing=1)\n",
        "model.fit(x_train, y_train )"
      ],
      "metadata": {
        "colab": {
          "base_uri": "https://localhost:8080/"
        },
        "id": "5YFsrIZjhQe2",
        "outputId": "154d4252-e51a-44b5-dbd0-3ffc793db292"
      },
      "id": "5YFsrIZjhQe2",
      "execution_count": null,
      "outputs": [
        {
          "output_type": "execute_result",
          "data": {
            "text/plain": [
              "GaussianNB(var_smoothing=1)"
            ]
          },
          "metadata": {},
          "execution_count": 88
        }
      ]
    },
    {
      "cell_type": "code",
      "source": [
        "y_pred = model.predict(x_test)"
      ],
      "metadata": {
        "id": "_gXhasVtiJsY"
      },
      "id": "_gXhasVtiJsY",
      "execution_count": null,
      "outputs": []
    },
    {
      "cell_type": "code",
      "source": [
        "from sklearn.metrics import classification_report, confusion_matrix\n",
        "print(confusion_matrix(y_test, y_pred))\n",
        "print(classification_report(y_test, y_pred))"
      ],
      "metadata": {
        "colab": {
          "base_uri": "https://localhost:8080/"
        },
        "id": "-fFJJgH6iL8d",
        "outputId": "828ba32d-6fa4-4bce-b4d1-c014c3a0b10f"
      },
      "id": "-fFJJgH6iL8d",
      "execution_count": null,
      "outputs": [
        {
          "output_type": "stream",
          "name": "stdout",
          "text": [
            "[[2019   38]\n",
            " [1144   41]]\n",
            "              precision    recall  f1-score   support\n",
            "\n",
            "           0       0.64      0.98      0.77      2057\n",
            "           1       0.52      0.03      0.06      1185\n",
            "\n",
            "    accuracy                           0.64      3242\n",
            "   macro avg       0.58      0.51      0.42      3242\n",
            "weighted avg       0.59      0.64      0.51      3242\n",
            "\n"
          ]
        }
      ]
    },
    {
      "cell_type": "markdown",
      "source": [
        "## DT"
      ],
      "metadata": {
        "id": "u6QcyUSXDQil"
      },
      "id": "u6QcyUSXDQil"
    },
    {
      "cell_type": "code",
      "source": [
        "from sklearn.tree import DecisionTreeClassifier\n",
        "clf = DecisionTreeClassifier()\n",
        "\n",
        "clf = clf.fit(x_train,y_train)\n"
      ],
      "metadata": {
        "id": "1-Q_pUWfDiB1"
      },
      "id": "1-Q_pUWfDiB1",
      "execution_count": null,
      "outputs": []
    },
    {
      "cell_type": "code",
      "source": [
        "y_pred = clf.predict(x_test)"
      ],
      "metadata": {
        "id": "J7ZxzFPADt0V"
      },
      "id": "J7ZxzFPADt0V",
      "execution_count": null,
      "outputs": []
    },
    {
      "cell_type": "code",
      "source": [
        "from sklearn.metrics import classification_report, confusion_matrix\n",
        "print(confusion_matrix(y_test, y_pred))\n",
        "print(classification_report(y_test, y_pred))"
      ],
      "metadata": {
        "colab": {
          "base_uri": "https://localhost:8080/"
        },
        "id": "-iMgRX21D529",
        "outputId": "9b09078c-3bff-47de-c90e-3b115a59488d"
      },
      "id": "-iMgRX21D529",
      "execution_count": null,
      "outputs": [
        {
          "output_type": "stream",
          "name": "stdout",
          "text": [
            "[[1835  222]\n",
            " [ 203  982]]\n",
            "              precision    recall  f1-score   support\n",
            "\n",
            "           0       0.90      0.89      0.90      2057\n",
            "           1       0.82      0.83      0.82      1185\n",
            "\n",
            "    accuracy                           0.87      3242\n",
            "   macro avg       0.86      0.86      0.86      3242\n",
            "weighted avg       0.87      0.87      0.87      3242\n",
            "\n"
          ]
        }
      ]
    },
    {
      "cell_type": "code",
      "source": [
        "from sklearn.tree import DecisionTreeClassifier\n",
        "clf = DecisionTreeClassifier(criterion='entropy', max_depth=3, random_state=0,splitter='best')\n",
        "\n",
        "clf = clf.fit(x_train,y_train)"
      ],
      "metadata": {
        "id": "YaAKxwvMRDuH"
      },
      "id": "YaAKxwvMRDuH",
      "execution_count": null,
      "outputs": []
    },
    {
      "cell_type": "code",
      "source": [
        "y_pred = clf.predict(x_test)"
      ],
      "metadata": {
        "id": "3c_4EbraRbc3"
      },
      "id": "3c_4EbraRbc3",
      "execution_count": null,
      "outputs": []
    },
    {
      "cell_type": "code",
      "source": [
        "from sklearn.metrics import classification_report, confusion_matrix\n",
        "print(confusion_matrix(y_test, y_pred))\n",
        "print(classification_report(y_test, y_pred))"
      ],
      "metadata": {
        "colab": {
          "base_uri": "https://localhost:8080/"
        },
        "id": "VB32iQ2_RhJH",
        "outputId": "26290332-813a-4f2a-8c3b-ace5ba46202a"
      },
      "id": "VB32iQ2_RhJH",
      "execution_count": null,
      "outputs": [
        {
          "output_type": "stream",
          "name": "stdout",
          "text": [
            "[[1786  271]\n",
            " [ 240  945]]\n",
            "              precision    recall  f1-score   support\n",
            "\n",
            "           0       0.88      0.87      0.87      2057\n",
            "           1       0.78      0.80      0.79      1185\n",
            "\n",
            "    accuracy                           0.84      3242\n",
            "   macro avg       0.83      0.83      0.83      3242\n",
            "weighted avg       0.84      0.84      0.84      3242\n",
            "\n"
          ]
        }
      ]
    },
    {
      "cell_type": "code",
      "source": [
        "from sklearn.tree import DecisionTreeClassifier\n",
        "clf = DecisionTreeClassifier(criterion='entropy', max_depth=3, random_state=0,splitter='random')\n",
        "\n",
        "clf = clf.fit(x_train,y_train)"
      ],
      "metadata": {
        "id": "NxAshkSgRvIu"
      },
      "id": "NxAshkSgRvIu",
      "execution_count": null,
      "outputs": []
    },
    {
      "cell_type": "code",
      "source": [
        "y_pred = clf.predict(x_test)"
      ],
      "metadata": {
        "id": "rBkqIvdmR3M_"
      },
      "id": "rBkqIvdmR3M_",
      "execution_count": null,
      "outputs": []
    },
    {
      "cell_type": "code",
      "source": [
        "from sklearn.metrics import classification_report, confusion_matrix\n",
        "print(confusion_matrix(y_test, y_pred))\n",
        "print(classification_report(y_test, y_pred))"
      ],
      "metadata": {
        "colab": {
          "base_uri": "https://localhost:8080/"
        },
        "id": "rFwaQ9S7R5yn",
        "outputId": "597c1f7a-a027-4f16-8c78-044cc7ad208e"
      },
      "id": "rFwaQ9S7R5yn",
      "execution_count": null,
      "outputs": [
        {
          "output_type": "stream",
          "name": "stdout",
          "text": [
            "[[1628  429]\n",
            " [ 363  822]]\n",
            "              precision    recall  f1-score   support\n",
            "\n",
            "           0       0.82      0.79      0.80      2057\n",
            "           1       0.66      0.69      0.67      1185\n",
            "\n",
            "    accuracy                           0.76      3242\n",
            "   macro avg       0.74      0.74      0.74      3242\n",
            "weighted avg       0.76      0.76      0.76      3242\n",
            "\n"
          ]
        }
      ]
    },
    {
      "cell_type": "markdown",
      "source": [
        "## ensemble"
      ],
      "metadata": {
        "id": "C5IPj14SEKIt"
      },
      "id": "C5IPj14SEKIt"
    },
    {
      "cell_type": "code",
      "source": [
        "from sklearn import ensemble\n",
        "clf = ensemble.GradientBoostingRegressor(n_estimators = 400, max_depth = 5, min_samples_split = 2,\n",
        "          learning_rate = 0.1, loss = 'ls')\n",
        "\n",
        "clf= clf.fit(x_train, y_train)"
      ],
      "metadata": {
        "id": "IqPQ5JtmFK8-"
      },
      "id": "IqPQ5JtmFK8-",
      "execution_count": 16,
      "outputs": []
    },
    {
      "cell_type": "code",
      "source": [
        "y_pred = clf.predict(x_test)"
      ],
      "metadata": {
        "id": "QX1J1pnrFPsL"
      },
      "id": "QX1J1pnrFPsL",
      "execution_count": null,
      "outputs": []
    },
    {
      "cell_type": "code",
      "source": [
        "clf.score(x_test,y_test)"
      ],
      "metadata": {
        "colab": {
          "base_uri": "https://localhost:8080/"
        },
        "id": "wrQM5GN3F2EO",
        "outputId": "a408e914-8243-48d5-bfaa-e14ace17b030"
      },
      "id": "wrQM5GN3F2EO",
      "execution_count": null,
      "outputs": [
        {
          "output_type": "execute_result",
          "data": {
            "text/plain": [
              "0.7444181716639591"
            ]
          },
          "metadata": {},
          "execution_count": 34
        }
      ]
    },
    {
      "cell_type": "markdown",
      "source": [
        "## bagging"
      ],
      "metadata": {
        "id": "goiMERkgSAo_"
      },
      "id": "goiMERkgSAo_"
    },
    {
      "cell_type": "code",
      "source": [
        "from sklearn import model_selection\n",
        "from sklearn.ensemble import BaggingClassifier\n",
        "from sklearn.tree import DecisionTreeClassifier\n",
        "import pandas as pd"
      ],
      "metadata": {
        "id": "qypcJ168Ldlu"
      },
      "id": "qypcJ168Ldlu",
      "execution_count": 26,
      "outputs": []
    },
    {
      "cell_type": "code",
      "source": [
        "base_cls = DecisionTreeClassifier()\n",
        "# no. of base classifier\n",
        "num_trees = 500\n",
        "  \n",
        "# bagging classifier\n",
        "model = BaggingClassifier(base_estimator = base_cls,\n",
        "                          n_estimators = num_trees,\n",
        "                          ).fit(x_train,y_train)\n",
        "  \n",
        "results = model_selection.cross_val_score(model, x_test,y_test)\n",
        "print(\"accuracy :\")\n",
        "print(results.mean())"
      ],
      "metadata": {
        "colab": {
          "base_uri": "https://localhost:8080/"
        },
        "id": "J5S36KEPKoNP",
        "outputId": "74ed9829-53f9-4c5d-da77-d569ebde9d01"
      },
      "id": "J5S36KEPKoNP",
      "execution_count": 29,
      "outputs": [
        {
          "output_type": "stream",
          "name": "stdout",
          "text": [
            "accuracy :\n",
            "0.9046881241796496\n"
          ]
        }
      ]
    },
    {
      "cell_type": "markdown",
      "source": [
        "## MLP"
      ],
      "metadata": {
        "id": "AgsEoS31GUqP"
      },
      "id": "AgsEoS31GUqP"
    },
    {
      "cell_type": "code",
      "source": [
        "from sklearn.neural_network import MLPClassifier\n",
        "\n",
        "clf = MLPClassifier(hidden_layer_sizes=(2,),\n",
        "                    random_state=5,\n",
        "                    verbose=True,\n",
        "                    learning_rate_init=0.01)"
      ],
      "metadata": {
        "id": "0QhzRyJ1GXut"
      },
      "id": "0QhzRyJ1GXut",
      "execution_count": null,
      "outputs": []
    },
    {
      "cell_type": "code",
      "source": [
        "clf.fit(x_train,y_train)"
      ],
      "metadata": {
        "colab": {
          "base_uri": "https://localhost:8080/"
        },
        "id": "DCLGWPK4cCy3",
        "outputId": "dd874b3c-d35e-4fac-f1fc-b2cf1250d96b"
      },
      "id": "DCLGWPK4cCy3",
      "execution_count": null,
      "outputs": [
        {
          "output_type": "stream",
          "name": "stdout",
          "text": [
            "Iteration 1, loss = 2.81171933\n",
            "Iteration 2, loss = 0.69970890\n",
            "Iteration 3, loss = 0.66705122\n",
            "Iteration 4, loss = 0.65907255\n",
            "Iteration 5, loss = 0.65706344\n",
            "Iteration 6, loss = 0.65701755\n",
            "Iteration 7, loss = 0.65703631\n",
            "Iteration 8, loss = 0.65703417\n",
            "Iteration 9, loss = 0.65706129\n",
            "Iteration 10, loss = 0.65705054\n",
            "Iteration 11, loss = 0.65711018\n",
            "Iteration 12, loss = 0.65703775\n",
            "Iteration 13, loss = 0.65707936\n",
            "Iteration 14, loss = 0.65710225\n",
            "Iteration 15, loss = 0.65702881\n",
            "Iteration 16, loss = 0.65709041\n",
            "Training loss did not improve more than tol=0.000100 for 10 consecutive epochs. Stopping.\n"
          ]
        },
        {
          "output_type": "execute_result",
          "data": {
            "text/plain": [
              "MLPClassifier(hidden_layer_sizes=(2,), learning_rate_init=0.01, random_state=5,\n",
              "              verbose=True)"
            ]
          },
          "metadata": {},
          "execution_count": 27
        }
      ]
    },
    {
      "cell_type": "code",
      "source": [
        "ypred=clf.predict(x_test)"
      ],
      "metadata": {
        "id": "kRcW18yLdJq5"
      },
      "id": "kRcW18yLdJq5",
      "execution_count": null,
      "outputs": []
    },
    {
      "cell_type": "code",
      "source": [
        "from sklearn.metrics import accuracy_score\n",
        "\n",
        "# Calcuate accuracy\n",
        "accuracy_score(y_test,ypred)"
      ],
      "metadata": {
        "colab": {
          "base_uri": "https://localhost:8080/"
        },
        "id": "lU68Jrt-dbq4",
        "outputId": "98c4c064-9d92-4395-b5f7-6ef69ab8c419"
      },
      "id": "lU68Jrt-dbq4",
      "execution_count": null,
      "outputs": [
        {
          "output_type": "execute_result",
          "data": {
            "text/plain": [
              "0.634484885872918"
            ]
          },
          "metadata": {},
          "execution_count": 29
        }
      ]
    },
    {
      "cell_type": "code",
      "source": [
        "from sklearn.metrics import classification_report, confusion_matrix\n",
        "print(confusion_matrix(y_test, ypred))\n",
        "print(classification_report(y_test, ypred))"
      ],
      "metadata": {
        "colab": {
          "base_uri": "https://localhost:8080/"
        },
        "id": "eYbP5PwptD_9",
        "outputId": "6f66cb8d-265d-4a8c-ddd7-0238206c307a"
      },
      "id": "eYbP5PwptD_9",
      "execution_count": null,
      "outputs": [
        {
          "output_type": "stream",
          "name": "stdout",
          "text": [
            "[[2057    0]\n",
            " [1185    0]]\n",
            "              precision    recall  f1-score   support\n",
            "\n",
            "           0       0.63      1.00      0.78      2057\n",
            "           1       0.00      0.00      0.00      1185\n",
            "\n",
            "    accuracy                           0.63      3242\n",
            "   macro avg       0.32      0.50      0.39      3242\n",
            "weighted avg       0.40      0.63      0.49      3242\n",
            "\n"
          ]
        }
      ]
    },
    {
      "cell_type": "markdown",
      "source": [
        "## MLP+KNN"
      ],
      "metadata": {
        "id": "XyRihorzdjiu"
      },
      "id": "XyRihorzdjiu"
    },
    {
      "cell_type": "code",
      "source": [
        "import tensorflow\n",
        "from tensorflow.keras.datasets import mnist\n",
        "from tensorflow.keras.models import Sequential\n",
        "from tensorflow.keras.layers import Dense\n",
        "from tensorflow.keras.utils import to_categorical"
      ],
      "metadata": {
        "id": "VQsW6kWDdh1v"
      },
      "id": "VQsW6kWDdh1v",
      "execution_count": null,
      "outputs": []
    },
    {
      "cell_type": "code",
      "source": [
        "from sklearn.preprocessing import MinMaxScaler\n",
        "scaler = MinMaxScaler()\n",
        "x_train = scaler.fit_transform(x_train)\n",
        "x_test = scaler.transform(x_test)"
      ],
      "metadata": {
        "id": "FlOOqAek2LPk"
      },
      "id": "FlOOqAek2LPk",
      "execution_count": null,
      "outputs": []
    },
    {
      "cell_type": "code",
      "source": [
        "model = Sequential()\n",
        "\n",
        "model.add(Dense(19, activation='relu'))\n",
        "model.add(Dense(19,activation='relu'))\n",
        "model.add(Dense(1))\n",
        "\n",
        "model.compile(optimizer='adam', loss='categorical_crossentropy')"
      ],
      "metadata": {
        "id": "B_lQfCPg3OvD"
      },
      "id": "B_lQfCPg3OvD",
      "execution_count": null,
      "outputs": []
    },
    {
      "cell_type": "code",
      "source": [
        "model.fit(x=x_train, y=y_train, validation_data=(x_test, y_test), epochs=200)"
      ],
      "metadata": {
        "colab": {
          "base_uri": "https://localhost:8080/"
        },
        "id": "v6yX1MU43S1r",
        "outputId": "5390ddd4-243b-418e-a010-9d48d48345f8"
      },
      "id": "v6yX1MU43S1r",
      "execution_count": null,
      "outputs": [
        {
          "output_type": "stream",
          "name": "stdout",
          "text": [
            "Epoch 1/200\n",
            "575/575 [==============================] - 2s 2ms/step - loss: 4.3697e-08 - val_loss: 4.3573e-08\n",
            "Epoch 2/200\n",
            "575/575 [==============================] - 1s 2ms/step - loss: 4.3697e-08 - val_loss: 4.3573e-08\n",
            "Epoch 3/200\n",
            "575/575 [==============================] - 1s 2ms/step - loss: 4.3697e-08 - val_loss: 4.3573e-08\n",
            "Epoch 4/200\n",
            "575/575 [==============================] - 1s 2ms/step - loss: 4.3697e-08 - val_loss: 4.3573e-08\n",
            "Epoch 5/200\n",
            "575/575 [==============================] - 1s 2ms/step - loss: 4.3697e-08 - val_loss: 4.3573e-08\n",
            "Epoch 6/200\n",
            "575/575 [==============================] - 1s 2ms/step - loss: 4.3697e-08 - val_loss: 4.3573e-08\n",
            "Epoch 7/200\n",
            "575/575 [==============================] - 1s 2ms/step - loss: 4.3697e-08 - val_loss: 4.3573e-08\n",
            "Epoch 8/200\n",
            "575/575 [==============================] - 1s 2ms/step - loss: 4.3697e-08 - val_loss: 4.3573e-08\n",
            "Epoch 9/200\n",
            "575/575 [==============================] - 1s 2ms/step - loss: 4.3697e-08 - val_loss: 4.3573e-08\n",
            "Epoch 10/200\n",
            "575/575 [==============================] - 1s 2ms/step - loss: 4.3697e-08 - val_loss: 4.3573e-08\n",
            "Epoch 11/200\n",
            "575/575 [==============================] - 1s 2ms/step - loss: 4.3697e-08 - val_loss: 4.3573e-08\n",
            "Epoch 12/200\n",
            "575/575 [==============================] - 1s 2ms/step - loss: 4.3697e-08 - val_loss: 4.3573e-08\n",
            "Epoch 13/200\n",
            "575/575 [==============================] - 1s 2ms/step - loss: 4.3697e-08 - val_loss: 4.3573e-08\n",
            "Epoch 14/200\n",
            "575/575 [==============================] - 1s 2ms/step - loss: 4.3697e-08 - val_loss: 4.3573e-08\n",
            "Epoch 15/200\n",
            "575/575 [==============================] - 1s 2ms/step - loss: 4.3697e-08 - val_loss: 4.3573e-08\n",
            "Epoch 16/200\n",
            "575/575 [==============================] - 1s 2ms/step - loss: 4.3697e-08 - val_loss: 4.3573e-08\n",
            "Epoch 17/200\n",
            "575/575 [==============================] - 1s 2ms/step - loss: 4.3697e-08 - val_loss: 4.3573e-08\n",
            "Epoch 18/200\n",
            "575/575 [==============================] - 1s 2ms/step - loss: 4.3697e-08 - val_loss: 4.3573e-08\n",
            "Epoch 19/200\n",
            "575/575 [==============================] - 1s 2ms/step - loss: 4.3697e-08 - val_loss: 4.3573e-08\n",
            "Epoch 20/200\n",
            "575/575 [==============================] - 1s 2ms/step - loss: 4.3697e-08 - val_loss: 4.3573e-08\n",
            "Epoch 21/200\n",
            "575/575 [==============================] - 1s 2ms/step - loss: 4.3697e-08 - val_loss: 4.3573e-08\n",
            "Epoch 22/200\n",
            "575/575 [==============================] - 1s 2ms/step - loss: 4.3697e-08 - val_loss: 4.3573e-08\n",
            "Epoch 23/200\n",
            "575/575 [==============================] - 1s 2ms/step - loss: 4.3697e-08 - val_loss: 4.3573e-08\n",
            "Epoch 24/200\n",
            "575/575 [==============================] - 1s 2ms/step - loss: 4.3697e-08 - val_loss: 4.3573e-08\n",
            "Epoch 25/200\n",
            "575/575 [==============================] - 1s 2ms/step - loss: 4.3697e-08 - val_loss: 4.3573e-08\n",
            "Epoch 26/200\n",
            "575/575 [==============================] - 1s 2ms/step - loss: 4.3697e-08 - val_loss: 4.3573e-08\n",
            "Epoch 27/200\n",
            "575/575 [==============================] - 1s 2ms/step - loss: 4.3697e-08 - val_loss: 4.3573e-08\n",
            "Epoch 28/200\n",
            "575/575 [==============================] - 1s 2ms/step - loss: 4.3697e-08 - val_loss: 4.3573e-08\n",
            "Epoch 29/200\n",
            "575/575 [==============================] - 1s 2ms/step - loss: 4.3697e-08 - val_loss: 4.3573e-08\n",
            "Epoch 30/200\n",
            "575/575 [==============================] - 1s 2ms/step - loss: 4.3697e-08 - val_loss: 4.3573e-08\n",
            "Epoch 31/200\n",
            "575/575 [==============================] - 1s 2ms/step - loss: 4.3697e-08 - val_loss: 4.3573e-08\n",
            "Epoch 32/200\n",
            "575/575 [==============================] - 1s 2ms/step - loss: 4.3697e-08 - val_loss: 4.3573e-08\n",
            "Epoch 33/200\n",
            "575/575 [==============================] - 1s 2ms/step - loss: 4.3697e-08 - val_loss: 4.3573e-08\n",
            "Epoch 34/200\n",
            "575/575 [==============================] - 1s 2ms/step - loss: 4.3697e-08 - val_loss: 4.3573e-08\n",
            "Epoch 35/200\n",
            "575/575 [==============================] - 1s 2ms/step - loss: 4.3697e-08 - val_loss: 4.3573e-08\n",
            "Epoch 36/200\n",
            "575/575 [==============================] - 1s 2ms/step - loss: 4.3697e-08 - val_loss: 4.3573e-08\n",
            "Epoch 37/200\n",
            "575/575 [==============================] - 1s 2ms/step - loss: 4.3697e-08 - val_loss: 4.3573e-08\n",
            "Epoch 38/200\n",
            "575/575 [==============================] - 1s 2ms/step - loss: 4.3697e-08 - val_loss: 4.3573e-08\n",
            "Epoch 39/200\n",
            "575/575 [==============================] - 1s 2ms/step - loss: 4.3697e-08 - val_loss: 4.3573e-08\n",
            "Epoch 40/200\n",
            "575/575 [==============================] - 1s 2ms/step - loss: 4.3697e-08 - val_loss: 4.3573e-08\n",
            "Epoch 41/200\n",
            "575/575 [==============================] - 1s 2ms/step - loss: 4.3697e-08 - val_loss: 4.3573e-08\n",
            "Epoch 42/200\n",
            "575/575 [==============================] - 1s 2ms/step - loss: 4.3697e-08 - val_loss: 4.3573e-08\n",
            "Epoch 43/200\n",
            "575/575 [==============================] - 1s 2ms/step - loss: 4.3697e-08 - val_loss: 4.3573e-08\n",
            "Epoch 44/200\n",
            "575/575 [==============================] - 1s 2ms/step - loss: 4.3697e-08 - val_loss: 4.3573e-08\n",
            "Epoch 45/200\n",
            "575/575 [==============================] - 1s 2ms/step - loss: 4.3697e-08 - val_loss: 4.3573e-08\n",
            "Epoch 46/200\n",
            "575/575 [==============================] - 1s 2ms/step - loss: 4.3697e-08 - val_loss: 4.3573e-08\n",
            "Epoch 47/200\n",
            "575/575 [==============================] - 1s 2ms/step - loss: 4.3697e-08 - val_loss: 4.3573e-08\n",
            "Epoch 48/200\n",
            "575/575 [==============================] - 1s 2ms/step - loss: 4.3697e-08 - val_loss: 4.3573e-08\n",
            "Epoch 49/200\n",
            "575/575 [==============================] - 1s 2ms/step - loss: 4.3697e-08 - val_loss: 4.3573e-08\n",
            "Epoch 50/200\n",
            "575/575 [==============================] - 1s 2ms/step - loss: 4.3697e-08 - val_loss: 4.3573e-08\n",
            "Epoch 51/200\n",
            "575/575 [==============================] - 1s 2ms/step - loss: 4.3697e-08 - val_loss: 4.3573e-08\n",
            "Epoch 52/200\n",
            "575/575 [==============================] - 1s 2ms/step - loss: 4.3697e-08 - val_loss: 4.3573e-08\n",
            "Epoch 53/200\n",
            "575/575 [==============================] - 1s 2ms/step - loss: 4.3697e-08 - val_loss: 4.3573e-08\n",
            "Epoch 54/200\n",
            "575/575 [==============================] - 1s 2ms/step - loss: 4.3697e-08 - val_loss: 4.3573e-08\n",
            "Epoch 55/200\n",
            "575/575 [==============================] - 1s 2ms/step - loss: 4.3697e-08 - val_loss: 4.3573e-08\n",
            "Epoch 56/200\n",
            "575/575 [==============================] - 1s 2ms/step - loss: 4.3697e-08 - val_loss: 4.3573e-08\n",
            "Epoch 57/200\n",
            "575/575 [==============================] - 1s 2ms/step - loss: 4.3697e-08 - val_loss: 4.3573e-08\n",
            "Epoch 58/200\n",
            "575/575 [==============================] - 1s 2ms/step - loss: 4.3697e-08 - val_loss: 4.3573e-08\n",
            "Epoch 59/200\n",
            "575/575 [==============================] - 1s 2ms/step - loss: 4.3697e-08 - val_loss: 4.3573e-08\n",
            "Epoch 60/200\n",
            "575/575 [==============================] - 1s 2ms/step - loss: 4.3697e-08 - val_loss: 4.3573e-08\n",
            "Epoch 61/200\n",
            "575/575 [==============================] - 1s 2ms/step - loss: 4.3697e-08 - val_loss: 4.3573e-08\n",
            "Epoch 62/200\n",
            "575/575 [==============================] - 1s 2ms/step - loss: 4.3697e-08 - val_loss: 4.3573e-08\n",
            "Epoch 63/200\n",
            "575/575 [==============================] - 1s 2ms/step - loss: 4.3697e-08 - val_loss: 4.3573e-08\n",
            "Epoch 64/200\n",
            "575/575 [==============================] - 1s 2ms/step - loss: 4.3697e-08 - val_loss: 4.3573e-08\n",
            "Epoch 65/200\n",
            "575/575 [==============================] - 1s 2ms/step - loss: 4.3697e-08 - val_loss: 4.3573e-08\n",
            "Epoch 66/200\n",
            "575/575 [==============================] - 1s 2ms/step - loss: 4.3697e-08 - val_loss: 4.3573e-08\n",
            "Epoch 67/200\n",
            "575/575 [==============================] - 1s 2ms/step - loss: 4.3697e-08 - val_loss: 4.3573e-08\n",
            "Epoch 68/200\n",
            "575/575 [==============================] - 1s 2ms/step - loss: 4.3697e-08 - val_loss: 4.3573e-08\n",
            "Epoch 69/200\n",
            "575/575 [==============================] - 1s 2ms/step - loss: 4.3697e-08 - val_loss: 4.3573e-08\n",
            "Epoch 70/200\n",
            "575/575 [==============================] - 1s 2ms/step - loss: 4.3697e-08 - val_loss: 4.3573e-08\n",
            "Epoch 71/200\n",
            "575/575 [==============================] - 1s 2ms/step - loss: 4.3697e-08 - val_loss: 4.3573e-08\n",
            "Epoch 72/200\n",
            "575/575 [==============================] - 1s 2ms/step - loss: 4.3697e-08 - val_loss: 4.3573e-08\n",
            "Epoch 73/200\n",
            "575/575 [==============================] - 1s 2ms/step - loss: 4.3697e-08 - val_loss: 4.3573e-08\n",
            "Epoch 74/200\n",
            "575/575 [==============================] - 1s 2ms/step - loss: 4.3697e-08 - val_loss: 4.3573e-08\n",
            "Epoch 75/200\n",
            "575/575 [==============================] - 1s 2ms/step - loss: 4.3697e-08 - val_loss: 4.3573e-08\n",
            "Epoch 76/200\n",
            "575/575 [==============================] - 1s 2ms/step - loss: 4.3697e-08 - val_loss: 4.3573e-08\n",
            "Epoch 77/200\n",
            "575/575 [==============================] - 1s 2ms/step - loss: 4.3697e-08 - val_loss: 4.3573e-08\n",
            "Epoch 78/200\n",
            "575/575 [==============================] - 1s 2ms/step - loss: 4.3697e-08 - val_loss: 4.3573e-08\n",
            "Epoch 79/200\n",
            "575/575 [==============================] - 1s 2ms/step - loss: 4.3697e-08 - val_loss: 4.3573e-08\n",
            "Epoch 80/200\n",
            "575/575 [==============================] - 1s 2ms/step - loss: 4.3697e-08 - val_loss: 4.3573e-08\n",
            "Epoch 81/200\n",
            "575/575 [==============================] - 1s 2ms/step - loss: 4.3697e-08 - val_loss: 4.3573e-08\n",
            "Epoch 82/200\n",
            "575/575 [==============================] - 1s 2ms/step - loss: 4.3697e-08 - val_loss: 4.3573e-08\n",
            "Epoch 83/200\n",
            "575/575 [==============================] - 1s 2ms/step - loss: 4.3697e-08 - val_loss: 4.3573e-08\n",
            "Epoch 84/200\n",
            "575/575 [==============================] - 1s 2ms/step - loss: 4.3697e-08 - val_loss: 4.3573e-08\n",
            "Epoch 85/200\n",
            "575/575 [==============================] - 1s 2ms/step - loss: 4.3697e-08 - val_loss: 4.3573e-08\n",
            "Epoch 86/200\n",
            "575/575 [==============================] - 1s 2ms/step - loss: 4.3697e-08 - val_loss: 4.3573e-08\n",
            "Epoch 87/200\n",
            "575/575 [==============================] - 1s 2ms/step - loss: 4.3697e-08 - val_loss: 4.3573e-08\n",
            "Epoch 88/200\n",
            "575/575 [==============================] - 1s 2ms/step - loss: 4.3697e-08 - val_loss: 4.3573e-08\n",
            "Epoch 89/200\n",
            "575/575 [==============================] - 1s 2ms/step - loss: 4.3697e-08 - val_loss: 4.3573e-08\n",
            "Epoch 90/200\n",
            "575/575 [==============================] - 1s 2ms/step - loss: 4.3697e-08 - val_loss: 4.3573e-08\n",
            "Epoch 91/200\n",
            "575/575 [==============================] - 1s 2ms/step - loss: 4.3697e-08 - val_loss: 4.3573e-08\n",
            "Epoch 92/200\n",
            "575/575 [==============================] - 2s 4ms/step - loss: 4.3697e-08 - val_loss: 4.3573e-08\n",
            "Epoch 93/200\n",
            "575/575 [==============================] - 2s 4ms/step - loss: 4.3697e-08 - val_loss: 4.3573e-08\n",
            "Epoch 94/200\n",
            "575/575 [==============================] - 1s 2ms/step - loss: 4.3697e-08 - val_loss: 4.3573e-08\n",
            "Epoch 95/200\n",
            "575/575 [==============================] - 1s 2ms/step - loss: 4.3697e-08 - val_loss: 4.3573e-08\n",
            "Epoch 96/200\n",
            "575/575 [==============================] - 1s 2ms/step - loss: 4.3697e-08 - val_loss: 4.3573e-08\n",
            "Epoch 97/200\n",
            "575/575 [==============================] - 1s 2ms/step - loss: 4.3697e-08 - val_loss: 4.3573e-08\n",
            "Epoch 98/200\n",
            "575/575 [==============================] - 1s 2ms/step - loss: 4.3697e-08 - val_loss: 4.3573e-08\n",
            "Epoch 99/200\n",
            "575/575 [==============================] - 1s 2ms/step - loss: 4.3697e-08 - val_loss: 4.3573e-08\n",
            "Epoch 100/200\n",
            "575/575 [==============================] - 1s 2ms/step - loss: 4.3697e-08 - val_loss: 4.3573e-08\n",
            "Epoch 101/200\n",
            "575/575 [==============================] - 1s 2ms/step - loss: 4.3697e-08 - val_loss: 4.3573e-08\n",
            "Epoch 102/200\n",
            "575/575 [==============================] - 1s 2ms/step - loss: 4.3697e-08 - val_loss: 4.3573e-08\n",
            "Epoch 103/200\n",
            "575/575 [==============================] - 1s 2ms/step - loss: 4.3697e-08 - val_loss: 4.3573e-08\n",
            "Epoch 104/200\n",
            "575/575 [==============================] - 1s 2ms/step - loss: 4.3697e-08 - val_loss: 4.3573e-08\n",
            "Epoch 105/200\n",
            "575/575 [==============================] - 1s 2ms/step - loss: 4.3697e-08 - val_loss: 4.3573e-08\n",
            "Epoch 106/200\n",
            "575/575 [==============================] - 1s 2ms/step - loss: 4.3697e-08 - val_loss: 4.3573e-08\n",
            "Epoch 107/200\n",
            "575/575 [==============================] - 1s 2ms/step - loss: 4.3697e-08 - val_loss: 4.3573e-08\n",
            "Epoch 108/200\n",
            "575/575 [==============================] - 1s 2ms/step - loss: 4.3697e-08 - val_loss: 4.3573e-08\n",
            "Epoch 109/200\n",
            "575/575 [==============================] - 1s 2ms/step - loss: 4.3697e-08 - val_loss: 4.3573e-08\n",
            "Epoch 110/200\n",
            "575/575 [==============================] - 1s 2ms/step - loss: 4.3697e-08 - val_loss: 4.3573e-08\n",
            "Epoch 111/200\n",
            "575/575 [==============================] - 1s 2ms/step - loss: 4.3697e-08 - val_loss: 4.3573e-08\n",
            "Epoch 112/200\n",
            "575/575 [==============================] - 1s 2ms/step - loss: 4.3697e-08 - val_loss: 4.3573e-08\n",
            "Epoch 113/200\n",
            "575/575 [==============================] - 1s 2ms/step - loss: 4.3697e-08 - val_loss: 4.3573e-08\n",
            "Epoch 114/200\n",
            "575/575 [==============================] - 1s 2ms/step - loss: 4.3697e-08 - val_loss: 4.3573e-08\n",
            "Epoch 115/200\n",
            "575/575 [==============================] - 1s 2ms/step - loss: 4.3697e-08 - val_loss: 4.3573e-08\n",
            "Epoch 116/200\n",
            "575/575 [==============================] - 1s 2ms/step - loss: 4.3697e-08 - val_loss: 4.3573e-08\n",
            "Epoch 117/200\n",
            "575/575 [==============================] - 1s 2ms/step - loss: 4.3697e-08 - val_loss: 4.3573e-08\n",
            "Epoch 118/200\n",
            "575/575 [==============================] - 1s 2ms/step - loss: 4.3697e-08 - val_loss: 4.3573e-08\n",
            "Epoch 119/200\n",
            "575/575 [==============================] - 1s 2ms/step - loss: 4.3697e-08 - val_loss: 4.3573e-08\n",
            "Epoch 120/200\n",
            "575/575 [==============================] - 1s 2ms/step - loss: 4.3697e-08 - val_loss: 4.3573e-08\n",
            "Epoch 121/200\n",
            "575/575 [==============================] - 1s 2ms/step - loss: 4.3697e-08 - val_loss: 4.3573e-08\n",
            "Epoch 122/200\n",
            "575/575 [==============================] - 1s 2ms/step - loss: 4.3697e-08 - val_loss: 4.3573e-08\n",
            "Epoch 123/200\n",
            "575/575 [==============================] - 1s 2ms/step - loss: 4.3697e-08 - val_loss: 4.3573e-08\n",
            "Epoch 124/200\n",
            "575/575 [==============================] - 1s 2ms/step - loss: 4.3697e-08 - val_loss: 4.3573e-08\n",
            "Epoch 125/200\n",
            "575/575 [==============================] - 1s 2ms/step - loss: 4.3697e-08 - val_loss: 4.3573e-08\n",
            "Epoch 126/200\n",
            "575/575 [==============================] - 1s 2ms/step - loss: 4.3697e-08 - val_loss: 4.3573e-08\n",
            "Epoch 127/200\n",
            "575/575 [==============================] - 1s 2ms/step - loss: 4.3697e-08 - val_loss: 4.3573e-08\n",
            "Epoch 128/200\n",
            "575/575 [==============================] - 1s 2ms/step - loss: 4.3697e-08 - val_loss: 4.3573e-08\n",
            "Epoch 129/200\n",
            "575/575 [==============================] - 1s 2ms/step - loss: 4.3697e-08 - val_loss: 4.3573e-08\n",
            "Epoch 130/200\n",
            "575/575 [==============================] - 1s 2ms/step - loss: 4.3697e-08 - val_loss: 4.3573e-08\n",
            "Epoch 131/200\n",
            "575/575 [==============================] - 1s 2ms/step - loss: 4.3697e-08 - val_loss: 4.3573e-08\n",
            "Epoch 132/200\n",
            "575/575 [==============================] - 1s 2ms/step - loss: 4.3697e-08 - val_loss: 4.3573e-08\n",
            "Epoch 133/200\n",
            "575/575 [==============================] - 1s 2ms/step - loss: 4.3697e-08 - val_loss: 4.3573e-08\n",
            "Epoch 134/200\n",
            "575/575 [==============================] - 1s 2ms/step - loss: 4.3697e-08 - val_loss: 4.3573e-08\n",
            "Epoch 135/200\n",
            "575/575 [==============================] - 1s 2ms/step - loss: 4.3697e-08 - val_loss: 4.3573e-08\n",
            "Epoch 136/200\n",
            "575/575 [==============================] - 1s 2ms/step - loss: 4.3697e-08 - val_loss: 4.3573e-08\n",
            "Epoch 137/200\n",
            "575/575 [==============================] - 1s 2ms/step - loss: 4.3697e-08 - val_loss: 4.3573e-08\n",
            "Epoch 138/200\n",
            "575/575 [==============================] - 1s 2ms/step - loss: 4.3697e-08 - val_loss: 4.3573e-08\n",
            "Epoch 139/200\n",
            "575/575 [==============================] - 1s 2ms/step - loss: 4.3697e-08 - val_loss: 4.3573e-08\n",
            "Epoch 140/200\n",
            "575/575 [==============================] - 1s 2ms/step - loss: 4.3697e-08 - val_loss: 4.3573e-08\n",
            "Epoch 141/200\n",
            "575/575 [==============================] - 1s 2ms/step - loss: 4.3697e-08 - val_loss: 4.3573e-08\n",
            "Epoch 142/200\n",
            "575/575 [==============================] - 1s 2ms/step - loss: 4.3697e-08 - val_loss: 4.3573e-08\n",
            "Epoch 143/200\n",
            "575/575 [==============================] - 1s 2ms/step - loss: 4.3697e-08 - val_loss: 4.3573e-08\n",
            "Epoch 144/200\n",
            "575/575 [==============================] - 1s 2ms/step - loss: 4.3697e-08 - val_loss: 4.3573e-08\n",
            "Epoch 145/200\n",
            "575/575 [==============================] - 1s 2ms/step - loss: 4.3697e-08 - val_loss: 4.3573e-08\n",
            "Epoch 146/200\n",
            "575/575 [==============================] - 1s 2ms/step - loss: 4.3697e-08 - val_loss: 4.3573e-08\n",
            "Epoch 147/200\n",
            "575/575 [==============================] - 1s 2ms/step - loss: 4.3697e-08 - val_loss: 4.3573e-08\n",
            "Epoch 148/200\n",
            "575/575 [==============================] - 1s 2ms/step - loss: 4.3697e-08 - val_loss: 4.3573e-08\n",
            "Epoch 149/200\n",
            "575/575 [==============================] - 1s 2ms/step - loss: 4.3697e-08 - val_loss: 4.3573e-08\n",
            "Epoch 150/200\n",
            "575/575 [==============================] - 1s 2ms/step - loss: 4.3697e-08 - val_loss: 4.3573e-08\n",
            "Epoch 151/200\n",
            "575/575 [==============================] - 1s 2ms/step - loss: 4.3697e-08 - val_loss: 4.3573e-08\n",
            "Epoch 152/200\n",
            "575/575 [==============================] - 1s 2ms/step - loss: 4.3697e-08 - val_loss: 4.3573e-08\n",
            "Epoch 153/200\n",
            "575/575 [==============================] - 1s 2ms/step - loss: 4.3697e-08 - val_loss: 4.3573e-08\n",
            "Epoch 154/200\n",
            "575/575 [==============================] - 1s 2ms/step - loss: 4.3697e-08 - val_loss: 4.3573e-08\n",
            "Epoch 155/200\n",
            "575/575 [==============================] - 1s 2ms/step - loss: 4.3697e-08 - val_loss: 4.3573e-08\n",
            "Epoch 156/200\n",
            "575/575 [==============================] - 1s 2ms/step - loss: 4.3697e-08 - val_loss: 4.3573e-08\n",
            "Epoch 157/200\n",
            "575/575 [==============================] - 1s 2ms/step - loss: 4.3697e-08 - val_loss: 4.3573e-08\n",
            "Epoch 158/200\n",
            "575/575 [==============================] - 1s 2ms/step - loss: 4.3697e-08 - val_loss: 4.3573e-08\n",
            "Epoch 159/200\n",
            "575/575 [==============================] - 1s 2ms/step - loss: 4.3697e-08 - val_loss: 4.3573e-08\n",
            "Epoch 160/200\n",
            "575/575 [==============================] - 1s 2ms/step - loss: 4.3697e-08 - val_loss: 4.3573e-08\n",
            "Epoch 161/200\n",
            "575/575 [==============================] - 1s 2ms/step - loss: 4.3697e-08 - val_loss: 4.3573e-08\n",
            "Epoch 162/200\n",
            "575/575 [==============================] - 1s 2ms/step - loss: 4.3697e-08 - val_loss: 4.3573e-08\n",
            "Epoch 163/200\n",
            "575/575 [==============================] - 1s 2ms/step - loss: 4.3697e-08 - val_loss: 4.3573e-08\n",
            "Epoch 164/200\n",
            "575/575 [==============================] - 1s 2ms/step - loss: 4.3697e-08 - val_loss: 4.3573e-08\n",
            "Epoch 165/200\n",
            "575/575 [==============================] - 1s 2ms/step - loss: 4.3697e-08 - val_loss: 4.3573e-08\n",
            "Epoch 166/200\n",
            "575/575 [==============================] - 1s 2ms/step - loss: 4.3697e-08 - val_loss: 4.3573e-08\n",
            "Epoch 167/200\n",
            "575/575 [==============================] - 1s 2ms/step - loss: 4.3697e-08 - val_loss: 4.3573e-08\n",
            "Epoch 168/200\n",
            "575/575 [==============================] - 1s 2ms/step - loss: 4.3697e-08 - val_loss: 4.3573e-08\n",
            "Epoch 169/200\n",
            "575/575 [==============================] - 1s 2ms/step - loss: 4.3697e-08 - val_loss: 4.3573e-08\n",
            "Epoch 170/200\n",
            "575/575 [==============================] - 1s 2ms/step - loss: 4.3697e-08 - val_loss: 4.3573e-08\n",
            "Epoch 171/200\n",
            "575/575 [==============================] - 1s 2ms/step - loss: 4.3697e-08 - val_loss: 4.3573e-08\n",
            "Epoch 172/200\n",
            "575/575 [==============================] - 1s 2ms/step - loss: 4.3697e-08 - val_loss: 4.3573e-08\n",
            "Epoch 173/200\n",
            "575/575 [==============================] - 1s 2ms/step - loss: 4.3697e-08 - val_loss: 4.3573e-08\n",
            "Epoch 174/200\n",
            "575/575 [==============================] - 1s 2ms/step - loss: 4.3697e-08 - val_loss: 4.3573e-08\n",
            "Epoch 175/200\n",
            "575/575 [==============================] - 1s 2ms/step - loss: 4.3697e-08 - val_loss: 4.3573e-08\n",
            "Epoch 176/200\n",
            "575/575 [==============================] - 1s 2ms/step - loss: 4.3697e-08 - val_loss: 4.3573e-08\n",
            "Epoch 177/200\n",
            "575/575 [==============================] - 1s 2ms/step - loss: 4.3697e-08 - val_loss: 4.3573e-08\n",
            "Epoch 178/200\n",
            "575/575 [==============================] - 1s 2ms/step - loss: 4.3697e-08 - val_loss: 4.3573e-08\n",
            "Epoch 179/200\n",
            "575/575 [==============================] - 1s 2ms/step - loss: 4.3697e-08 - val_loss: 4.3573e-08\n",
            "Epoch 180/200\n",
            "575/575 [==============================] - 1s 2ms/step - loss: 4.3697e-08 - val_loss: 4.3573e-08\n",
            "Epoch 181/200\n",
            "575/575 [==============================] - 1s 2ms/step - loss: 4.3697e-08 - val_loss: 4.3573e-08\n",
            "Epoch 182/200\n",
            "575/575 [==============================] - 1s 2ms/step - loss: 4.3697e-08 - val_loss: 4.3573e-08\n",
            "Epoch 183/200\n",
            "575/575 [==============================] - 1s 2ms/step - loss: 4.3697e-08 - val_loss: 4.3573e-08\n",
            "Epoch 184/200\n",
            "575/575 [==============================] - 1s 2ms/step - loss: 4.3697e-08 - val_loss: 4.3573e-08\n",
            "Epoch 185/200\n",
            "575/575 [==============================] - 1s 2ms/step - loss: 4.3697e-08 - val_loss: 4.3573e-08\n",
            "Epoch 186/200\n",
            "575/575 [==============================] - 1s 2ms/step - loss: 4.3697e-08 - val_loss: 4.3573e-08\n",
            "Epoch 187/200\n",
            "575/575 [==============================] - 1s 2ms/step - loss: 4.3697e-08 - val_loss: 4.3573e-08\n",
            "Epoch 188/200\n",
            "575/575 [==============================] - 1s 2ms/step - loss: 4.3697e-08 - val_loss: 4.3573e-08\n",
            "Epoch 189/200\n",
            "575/575 [==============================] - 1s 2ms/step - loss: 4.3697e-08 - val_loss: 4.3573e-08\n",
            "Epoch 190/200\n",
            "575/575 [==============================] - 1s 2ms/step - loss: 4.3697e-08 - val_loss: 4.3573e-08\n",
            "Epoch 191/200\n",
            "575/575 [==============================] - 1s 2ms/step - loss: 4.3697e-08 - val_loss: 4.3573e-08\n",
            "Epoch 192/200\n",
            "575/575 [==============================] - 1s 2ms/step - loss: 4.3697e-08 - val_loss: 4.3573e-08\n",
            "Epoch 193/200\n",
            "575/575 [==============================] - 1s 2ms/step - loss: 4.3697e-08 - val_loss: 4.3573e-08\n",
            "Epoch 194/200\n",
            "575/575 [==============================] - 1s 2ms/step - loss: 4.3697e-08 - val_loss: 4.3573e-08\n",
            "Epoch 195/200\n",
            "575/575 [==============================] - 1s 2ms/step - loss: 4.3697e-08 - val_loss: 4.3573e-08\n",
            "Epoch 196/200\n",
            "575/575 [==============================] - 1s 2ms/step - loss: 4.3697e-08 - val_loss: 4.3573e-08\n",
            "Epoch 197/200\n",
            "575/575 [==============================] - 1s 2ms/step - loss: 4.3697e-08 - val_loss: 4.3573e-08\n",
            "Epoch 198/200\n",
            "575/575 [==============================] - 1s 2ms/step - loss: 4.3697e-08 - val_loss: 4.3573e-08\n",
            "Epoch 199/200\n",
            "575/575 [==============================] - 1s 2ms/step - loss: 4.3697e-08 - val_loss: 4.3573e-08\n",
            "Epoch 200/200\n",
            "575/575 [==============================] - 1s 2ms/step - loss: 4.3697e-08 - val_loss: 4.3573e-08\n"
          ]
        },
        {
          "output_type": "execute_result",
          "data": {
            "text/plain": [
              "<keras.callbacks.History at 0x7fa75991db90>"
            ]
          },
          "metadata": {},
          "execution_count": 184
        }
      ]
    },
    {
      "cell_type": "code",
      "source": [
        "predictions = model.predict(x_test)"
      ],
      "metadata": {
        "id": "dVVD41zy4HQj"
      },
      "id": "dVVD41zy4HQj",
      "execution_count": null,
      "outputs": []
    },
    {
      "cell_type": "code",
      "source": [
        "plt.scatter(y_test, predictions)\n",
        "plt.plot(y_test, y_test, 'r')"
      ],
      "metadata": {
        "colab": {
          "base_uri": "https://localhost:8080/",
          "height": 283
        },
        "id": "J4rhgKsq42nr",
        "outputId": "866581f8-9530-497c-f2fb-63716395edee"
      },
      "id": "J4rhgKsq42nr",
      "execution_count": null,
      "outputs": [
        {
          "output_type": "execute_result",
          "data": {
            "text/plain": [
              "[<matplotlib.lines.Line2D at 0x7fa75617f9d0>]"
            ]
          },
          "metadata": {},
          "execution_count": 186
        },
        {
          "output_type": "display_data",
          "data": {
            "image/png": "[encoded data removed]",
            "text/plain": [
              "<Figure size 432x288 with 1 Axes>"
            ]
          },
          "metadata": {
            "needs_background": "light"
          }
        }
      ]
    },
    {
      "cell_type": "code",
      "source": [
        "from keras import backend as K\n",
        "for l in range(len(model.layers)):\n",
        "    print(l, model.layers[l])"
      ],
      "metadata": {
        "colab": {
          "base_uri": "https://localhost:8080/"
        },
        "id": "XZH2zs0955ND",
        "outputId": "39858914-3f48-4601-e923-5b7921c7f7e8"
      },
      "id": "XZH2zs0955ND",
      "execution_count": null,
      "outputs": [
        {
          "output_type": "stream",
          "name": "stdout",
          "text": [
            "0 <keras.layers.core.dense.Dense object at 0x7fa75da6da10>\n",
            "1 <keras.layers.core.dense.Dense object at 0x7fa75da50b10>\n",
            "2 <keras.layers.core.dense.Dense object at 0x7fa7c5b37250>\n"
          ]
        }
      ]
    },
    {
      "cell_type": "code",
      "source": [
        "print(x_train.shape, x_test.shape, y_train.shape, y_test.shape)"
      ],
      "metadata": {
        "colab": {
          "base_uri": "https://localhost:8080/"
        },
        "id": "prbPnXkH_cFK",
        "outputId": "0fa95859-5b06-489a-e657-488d5046d32a"
      },
      "id": "prbPnXkH_cFK",
      "execution_count": null,
      "outputs": [
        {
          "output_type": "stream",
          "name": "stdout",
          "text": [
            "(18371, 14) (3242, 14) (18371,) (3242,)\n"
          ]
        }
      ]
    },
    {
      "cell_type": "code",
      "source": [
        "from keras import backend as K\n",
        "\n",
        "f = K.function([model.layers[0].input],\n",
        "                                  [model.layers[2].output])\n"
      ],
      "metadata": {
        "id": "vfpkvKSjHE3q"
      },
      "id": "vfpkvKSjHE3q",
      "execution_count": null,
      "outputs": []
    },
    {
      "cell_type": "code",
      "source": [
        "exTrain = f([x_train[:18000]])[0]"
      ],
      "metadata": {
        "id": "JHWGgXTbEsBp"
      },
      "id": "JHWGgXTbEsBp",
      "execution_count": null,
      "outputs": []
    },
    {
      "cell_type": "code",
      "source": [
        "exTest = f([x_train[:3000]])[0]"
      ],
      "metadata": {
        "id": "LZzaq-Q0FQ8J"
      },
      "id": "LZzaq-Q0FQ8J",
      "execution_count": null,
      "outputs": []
    },
    {
      "cell_type": "code",
      "source": [
        "exTrain[0]"
      ],
      "metadata": {
        "colab": {
          "base_uri": "https://localhost:8080/"
        },
        "id": "KeBohploFY4J",
        "outputId": "be4c9077-b16d-4aa0-a661-ab4e380be733"
      },
      "id": "KeBohploFY4J",
      "execution_count": null,
      "outputs": [
        {
          "output_type": "execute_result",
          "data": {
            "text/plain": [
              "array([-0.22573474], dtype=float32)"
            ]
          },
          "metadata": {},
          "execution_count": 193
        }
      ]
    },
    {
      "cell_type": "code",
      "source": [
        "exTest.shape"
      ],
      "metadata": {
        "colab": {
          "base_uri": "https://localhost:8080/"
        },
        "id": "glvqOwf-JznZ",
        "outputId": "a334a654-5657-4ed0-8061-5988e0ae5c3f"
      },
      "id": "glvqOwf-JznZ",
      "execution_count": null,
      "outputs": [
        {
          "output_type": "execute_result",
          "data": {
            "text/plain": [
              "(3000, 1)"
            ]
          },
          "metadata": {},
          "execution_count": 194
        }
      ]
    },
    {
      "cell_type": "code",
      "source": [
        "Y_train = y_train[:18000]\n",
        "Y_test = y_test[:3000]"
      ],
      "metadata": {
        "id": "qmJdBGDFJ8jZ"
      },
      "id": "qmJdBGDFJ8jZ",
      "execution_count": null,
      "outputs": []
    },
    {
      "cell_type": "code",
      "source": [
        "print(exTrain.shape, exTest.shape, Y_train.shape, Y_test.shape)"
      ],
      "metadata": {
        "colab": {
          "base_uri": "https://localhost:8080/"
        },
        "id": "SeDQBhaaKKdZ",
        "outputId": "524106ca-2437-4606-808d-4abab6406d97"
      },
      "id": "SeDQBhaaKKdZ",
      "execution_count": null,
      "outputs": [
        {
          "output_type": "stream",
          "name": "stdout",
          "text": [
            "(18000, 1) (3000, 1) (18000,) (3000,)\n"
          ]
        }
      ]
    },
    {
      "cell_type": "code",
      "source": [
        "from sklearn.neighbors import KNeighborsClassifier\n",
        "from sklearn.model_selection import GridSearchCV\n",
        "\n",
        "parameters = {\"n_neighbors\": [1, 5, 10, 30],\n",
        "              \"weights\": ['uniform', 'distance'],\n",
        "              \"metric\": ['minkowski','euclidean','manhattan'],\n",
        "              \"algorithm\": ['auto', 'ball_tree', 'kd_tree', 'brute']}\n",
        "kclf = KNeighborsClassifier()\n",
        "kgclf = GridSearchCV(kclf, param_grid=parameters)\n",
        "kgclf.fit(exTrain, Y_train)"
      ],
      "metadata": {
        "colab": {
          "base_uri": "https://localhost:8080/"
        },
        "id": "16Xw8E_mKOdo",
        "outputId": "c1074d87-d183-4c69-9bee-8b2ef5917a3f"
      },
      "id": "16Xw8E_mKOdo",
      "execution_count": null,
      "outputs": [
        {
          "output_type": "execute_result",
          "data": {
            "text/plain": [
              "GridSearchCV(estimator=KNeighborsClassifier(),\n",
              "             param_grid={'algorithm': ['auto', 'ball_tree', 'kd_tree', 'brute'],\n",
              "                         'metric': ['minkowski', 'euclidean', 'manhattan'],\n",
              "                         'n_neighbors': [1, 5, 10, 30],\n",
              "                         'weights': ['uniform', 'distance']})"
            ]
          },
          "metadata": {},
          "execution_count": 197
        }
      ]
    },
    {
      "cell_type": "code",
      "source": [
        "kclf = kgclf.best_estimator_\n",
        "kclf.fit(exTrain, Y_train)"
      ],
      "metadata": {
        "colab": {
          "base_uri": "https://localhost:8080/"
        },
        "id": "ge4IEKUAnqIC",
        "outputId": "8547ed5a-4992-44fc-ca6f-8f8b95a05b3c"
      },
      "id": "ge4IEKUAnqIC",
      "execution_count": null,
      "outputs": [
        {
          "output_type": "execute_result",
          "data": {
            "text/plain": [
              "KNeighborsClassifier(n_neighbors=30)"
            ]
          },
          "metadata": {},
          "execution_count": 200
        }
      ]
    },
    {
      "cell_type": "code",
      "source": [
        "y_testKNN = kclf.predict(exTest)\n",
        "\n",
        "from sklearn.metrics import confusion_matrix, classification_report, accuracy_score\n",
        "\n",
        "#print_cmx(y_test1000.T[0], y_testKNN)\n",
        "print(classification_report(Y_test, y_testKNN))\n",
        "print(\"Accuracy: {0}\".format(accuracy_score(Y_test, y_testKNN)))"
      ],
      "metadata": {
        "id": "qnM5qwCfNWtB",
        "colab": {
          "base_uri": "https://localhost:8080/"
        },
        "outputId": "bc3a5acb-4cf7-4591-fb73-43187d323c6e"
      },
      "id": "qnM5qwCfNWtB",
      "execution_count": null,
      "outputs": [
        {
          "output_type": "stream",
          "name": "stdout",
          "text": [
            "              precision    recall  f1-score   support\n",
            "\n",
            "           0       0.63      0.81      0.71      1897\n",
            "           1       0.35      0.18      0.23      1103\n",
            "\n",
            "    accuracy                           0.58      3000\n",
            "   macro avg       0.49      0.49      0.47      3000\n",
            "weighted avg       0.53      0.58      0.53      3000\n",
            "\n",
            "Accuracy: 0.5756666666666667\n"
          ]
        }
      ]
    },
    {
      "cell_type": "markdown",
      "source": [
        "## MLP+SVM"
      ],
      "metadata": {
        "id": "lWFzs9u9Aut1"
      },
      "id": "lWFzs9u9Aut1"
    },
    {
      "cell_type": "code",
      "source": [
        "from sklearn.svm import SVC\n",
        "from sklearn.model_selection import GridSearchCV\n",
        "\n",
        "parameters = {'kernel':['rbf'], \n",
        "              'C':[1, 10, 100, 1000],\n",
        "              'gamma':[1e-3, 1e-4],'probability':[True]}\n",
        "clf = GridSearchCV(SVC(), parameters)\n",
        "clf.fit(exTrain, Y_train)"
      ],
      "metadata": {
        "colab": {
          "base_uri": "https://localhost:8080/"
        },
        "id": "yQmztlDeoOC0",
        "outputId": "f40b96ed-53b1-46c9-8f46-b073a0d0df02"
      },
      "id": "yQmztlDeoOC0",
      "execution_count": null,
      "outputs": [
        {
          "output_type": "execute_result",
          "data": {
            "text/plain": [
              "GridSearchCV(estimator=SVC(),\n",
              "             param_grid={'C': [1, 10, 100, 1000], 'gamma': [0.001, 0.0001],\n",
              "                         'kernel': ['rbf'], 'probability': [True]})"
            ]
          },
          "metadata": {},
          "execution_count": 202
        }
      ]
    },
    {
      "cell_type": "code",
      "source": [
        "svmclf = clf.best_estimator_\n",
        "svmclf.fit(exTrain, Y_train)"
      ],
      "metadata": {
        "colab": {
          "base_uri": "https://localhost:8080/"
        },
        "id": "i11---RdowVg",
        "outputId": "838c45b3-e584-456b-ba57-7e41fe3ddfb5"
      },
      "id": "i11---RdowVg",
      "execution_count": null,
      "outputs": [
        {
          "output_type": "execute_result",
          "data": {
            "text/plain": [
              "SVC(C=1000, gamma=0.0001, probability=True)"
            ]
          },
          "metadata": {},
          "execution_count": 203
        }
      ]
    },
    {
      "cell_type": "code",
      "source": [
        "y_testSVM = svmclf.predict(exTest)\n",
        "\n",
        "from sklearn.metrics import confusion_matrix, classification_report, accuracy_score\n",
        "\n",
        "print(classification_report(Y_test, y_testSVM))\n",
        "print(\"Accuracy: {0}\".format(accuracy_score(Y_test, y_testSVM)))"
      ],
      "metadata": {
        "colab": {
          "base_uri": "https://localhost:8080/"
        },
        "id": "SNyig-QNozpa",
        "outputId": "4b05a6c1-1c40-466a-b895-e090e701f34c"
      },
      "id": "SNyig-QNozpa",
      "execution_count": null,
      "outputs": [
        {
          "output_type": "stream",
          "name": "stdout",
          "text": [
            "              precision    recall  f1-score   support\n",
            "\n",
            "           0       0.62      0.75      0.68      1897\n",
            "           1       0.34      0.22      0.27      1103\n",
            "\n",
            "    accuracy                           0.56      3000\n",
            "   macro avg       0.48      0.49      0.48      3000\n",
            "weighted avg       0.52      0.56      0.53      3000\n",
            "\n",
            "Accuracy: 0.5576666666666666\n"
          ]
        }
      ]
    },
    {
      "cell_type": "markdown",
      "source": [
        ""
      ],
      "metadata": {
        "id": "3O8CP8GESHgu"
      },
      "id": "3O8CP8GESHgu"
    },
    {
      "cell_type": "code",
      "source": [
        "!pip install apyori  "
      ],
      "metadata": {
        "colab": {
          "base_uri": "https://localhost:8080/"
        },
        "id": "upZWl0znSH22",
        "outputId": "d0c16f93-4ff7-4c3e-a7b7-3027d8eacadf"
      },
      "id": "upZWl0znSH22",
      "execution_count": null,
      "outputs": [
        {
          "output_type": "stream",
          "name": "stdout",
          "text": [
            "Collecting apyori\n",
            "  Downloading apyori-1.1.2.tar.gz (8.6 kB)\n",
            "Building wheels for collected packages: apyori\n",
            "  Building wheel for apyori (setup.py) ... \u001b[?25l\u001b[?25hdone\n",
            "  Created wheel for apyori: filename=apyori-1.1.2-py3-none-any.whl size=5974 sha256=aba46c8f93fd75da0e4c76e872770531a4c3f0d4142345cde84924f1f99cdc01\n",
            "  Stored in directory: /root/.cache/pip/wheels/cb/f6/e1/57973c631d27efd1a2f375bd6a83b2a616c4021f24aab84080\n",
            "Successfully built apyori\n",
            "Installing collected packages: apyori\n",
            "Successfully installed apyori-1.1.2\n"
          ]
        }
      ]
    },
    {
      "cell_type": "code",
      "source": [
        "import numpy as nm  \n",
        "import matplotlib.pyplot as mtp  \n",
        "import pandas as pd  "
      ],
      "metadata": {
        "id": "Zxqsq_zBSzmY"
      },
      "id": "Zxqsq_zBSzmY",
      "execution_count": null,
      "outputs": []
    },
    {
      "cell_type": "code",
      "source": [
        "#Importing the dataset  \n",
        "dataset = pd.read_csv('house_sales_prediction.csv')  \n",
        "transactions=[]  \n",
        "for i in range(0, 7501):  \n",
        "    transactions.append([str(dataset.values[i,j])  for j in range(0,20)])  "
      ],
      "metadata": {
        "id": "sBrOhoJ2S2e8"
      },
      "id": "sBrOhoJ2S2e8",
      "execution_count": null,
      "outputs": []
    },
    {
      "cell_type": "code",
      "source": [
        "from apyori import apriori  \n",
        "rules= apriori(transactions= transactions, min_support=0.003, min_confidence = 0.2, min_lift=3, min_length=2, max_length=2)  "
      ],
      "metadata": {
        "id": "AGsoph8gS88v"
      },
      "id": "AGsoph8gS88v",
      "execution_count": null,
      "outputs": []
    },
    {
      "cell_type": "code",
      "source": [
        "results= list(rules)  \n",
        "results   "
      ],
      "metadata": {
        "colab": {
          "base_uri": "https://localhost:8080/"
        },
        "id": "BEb3kYKAS_iZ",
        "outputId": "b75752f8-0b14-4055-c76b-b58eade9097c"
      },
      "id": "BEb3kYKAS_iZ",
      "execution_count": null,
      "outputs": [
        {
          "output_type": "execute_result",
          "data": {
            "text/plain": [
              "[RelationRecord(items=frozenset({'1.5', '1926'}), support=0.004932675643247567, ordered_statistics=[OrderedStatistic(items_base=frozenset({'1926'}), items_add=frozenset({'1.5'}), confidence=0.5068493150684932, lift=3.2439221094955353)]),\n",
              " RelationRecord(items=frozenset({'1927', '1.5'}), support=0.003199573390214638, ordered_statistics=[OrderedStatistic(items_base=frozenset({'1927'}), items_add=frozenset({'1.5'}), confidence=0.5853658536585367, lift=3.7464413551985354)]),\n",
              " RelationRecord(items=frozenset({'1.5', '1928'}), support=0.0035995200639914677, ordered_statistics=[OrderedStatistic(items_base=frozenset({'1928'}), items_add=frozenset({'1.5'}), confidence=0.6136363636363636, lift=3.927377443375737)]),\n",
              " RelationRecord(items=frozenset({'1.5', '1929'}), support=0.003199573390214638, ordered_statistics=[OrderedStatistic(items_base=frozenset({'1929'}), items_add=frozenset({'1.5'}), confidence=0.6315789473684211, lift=4.042213041135262)]),\n",
              " RelationRecord(items=frozenset({'10', '3.25'}), support=0.005065991201173177, ordered_statistics=[OrderedStatistic(items_base=frozenset({'3.25'}), items_add=frozenset({'10'}), confidence=0.22352941176470587, lift=4.519391152687489)]),\n",
              " RelationRecord(items=frozenset({'3.5', '10'}), support=0.006532462338354886, ordered_statistics=[OrderedStatistic(items_base=frozenset({'3.5'}), items_add=frozenset({'10'}), confidence=0.2300469483568075, lift=4.651164850739658)]),\n",
              " RelationRecord(items=frozenset({'98040', '10'}), support=0.003332888948140248, ordered_statistics=[OrderedStatistic(items_base=frozenset({'98040'}), items_add=frozenset({'10'}), confidence=0.2272727272727273, lift=4.595074736584171)]),\n",
              " RelationRecord(items=frozenset({'10', '98075'}), support=0.005732568990801226, ordered_statistics=[OrderedStatistic(items_base=frozenset({'98075'}), items_add=frozenset({'10'}), confidence=0.3071428571428571, lift=6.209915286869464)]),\n",
              " RelationRecord(items=frozenset({'3.5', '11'}), support=0.0041327822956939075, ordered_statistics=[OrderedStatistic(items_base=frozenset({'11'}), items_add=frozenset({'3.5'}), confidence=0.21985815602836878, lift=7.74251656511171)]),\n",
              " RelationRecord(items=frozenset({'1942', '6'}), support=0.006399146780429276, ordered_statistics=[OrderedStatistic(items_base=frozenset({'1942'}), items_add=frozenset({'6'}), confidence=0.5517241379310345, lift=4.834676119883983)]),\n",
              " RelationRecord(items=frozenset({'1943', '6'}), support=0.0038661511798426876, ordered_statistics=[OrderedStatistic(items_base=frozenset({'1943'}), items_add=frozenset({'6'}), confidence=0.5686274509803921, lift=4.982797324537291)]),\n",
              " RelationRecord(items=frozenset({'6', '1944'}), support=0.003999466737768298, ordered_statistics=[OrderedStatistic(items_base=frozenset({'1944'}), items_add=frozenset({'6'}), confidence=0.6, lift=5.257710280373831)]),\n",
              " RelationRecord(items=frozenset({'1948', '6'}), support=0.003999466737768298, ordered_statistics=[OrderedStatistic(items_base=frozenset({'1948'}), items_add=frozenset({'6'}), confidence=0.37500000000000006, lift=3.286068925233645)]),\n",
              " RelationRecord(items=frozenset({'1984', '2.25'}), support=0.004266097853619517, ordered_statistics=[OrderedStatistic(items_base=frozenset({'1984'}), items_add=frozenset({'2.25'}), confidence=0.3137254901960784, lift=3.3051332892707643)]),\n",
              " RelationRecord(items=frozenset({'2', '820'}), support=0.003999466737768298, ordered_statistics=[OrderedStatistic(items_base=frozenset({'820'}), items_add=frozenset({'2'}), confidence=0.5172413793103449, lift=3.0240277367162096)]),\n",
              " RelationRecord(items=frozenset({'9', '2014'}), support=0.004266097853619517, ordered_statistics=[OrderedStatistic(items_base=frozenset({'2014'}), items_add=frozenset({'9'}), confidence=0.3516483516483516, lift=3.143878767239911)]),\n",
              " RelationRecord(items=frozenset({'6', '860'}), support=0.0030662578322890282, ordered_statistics=[OrderedStatistic(items_base=frozenset({'860'}), items_add=frozenset({'6'}), confidence=0.3709677419354839, lift=3.250734850768767)]),\n",
              " RelationRecord(items=frozenset({'6', '98146'}), support=0.004532728969470737, ordered_statistics=[OrderedStatistic(items_base=frozenset({'98146'}), items_add=frozenset({'6'}), confidence=0.3695652173913043, lift=3.2384447379114176)]),\n",
              " RelationRecord(items=frozenset({'98168', '6'}), support=0.0061325156645780565, ordered_statistics=[OrderedStatistic(items_base=frozenset({'98168'}), items_add=frozenset({'6'}), confidence=0.4842105263157895, lift=4.243064436792917)]),\n",
              " RelationRecord(items=frozenset({'98178', '6'}), support=0.004532728969470737, ordered_statistics=[OrderedStatistic(items_base=frozenset({'98178'}), items_add=frozenset({'6'}), confidence=0.3820224719101123, lift=3.3476057964927013)]),\n",
              " RelationRecord(items=frozenset({'9', '98029'}), support=0.005065991201173177, ordered_statistics=[OrderedStatistic(items_base=frozenset({'98029'}), items_add=frozenset({'9'}), confidence=0.34234234234234234, lift=3.060679272836603)]),\n",
              " RelationRecord(items=frozenset({'98074', '9'}), support=0.006932409012131715, ordered_statistics=[OrderedStatistic(items_base=frozenset({'98074'}), items_add=frozenset({'9'}), confidence=0.3376623376623376, lift=3.01883813445196)])]"
            ]
          },
          "metadata": {},
          "execution_count": 77
        }
      ]
    },
    {
      "cell_type": "code",
      "source": [
        "for item in results:  \n",
        "    pair = item[0]   \n",
        "    items = [x for x in pair]  \n",
        "    print(\"Rule: \" + items[0] + \" -> \" + items[1])  \n",
        "  \n",
        "    print(\"Support: \" + str(item[1]))  \n",
        "    print(\"Confidence: \" + str(item[2][0][2]))  \n",
        "    print(\"Lift: \" + str(item[2][0][3]))  \n",
        "    print(\"=====================================\")  "
      ],
      "metadata": {
        "colab": {
          "base_uri": "https://localhost:8080/"
        },
        "id": "8-pkNo_PTEHG",
        "outputId": "33640076-0618-4844-beec-2555a758e58c"
      },
      "id": "8-pkNo_PTEHG",
      "execution_count": null,
      "outputs": [
        {
          "output_type": "stream",
          "name": "stdout",
          "text": [
            "Rule: 1.5 -> 1926\n",
            "Support: 0.004932675643247567\n",
            "Confidence: 0.5068493150684932\n",
            "Lift: 3.2439221094955353\n",
            "=====================================\n",
            "Rule: 1927 -> 1.5\n",
            "Support: 0.003199573390214638\n",
            "Confidence: 0.5853658536585367\n",
            "Lift: 3.7464413551985354\n",
            "=====================================\n",
            "Rule: 1.5 -> 1928\n",
            "Support: 0.0035995200639914677\n",
            "Confidence: 0.6136363636363636\n",
            "Lift: 3.927377443375737\n",
            "=====================================\n",
            "Rule: 1.5 -> 1929\n",
            "Support: 0.003199573390214638\n",
            "Confidence: 0.6315789473684211\n",
            "Lift: 4.042213041135262\n",
            "=====================================\n",
            "Rule: 10 -> 3.25\n",
            "Support: 0.005065991201173177\n",
            "Confidence: 0.22352941176470587\n",
            "Lift: 4.519391152687489\n",
            "=====================================\n",
            "Rule: 3.5 -> 10\n",
            "Support: 0.006532462338354886\n",
            "Confidence: 0.2300469483568075\n",
            "Lift: 4.651164850739658\n",
            "=====================================\n",
            "Rule: 98040 -> 10\n",
            "Support: 0.003332888948140248\n",
            "Confidence: 0.2272727272727273\n",
            "Lift: 4.595074736584171\n",
            "=====================================\n",
            "Rule: 10 -> 98075\n",
            "Support: 0.005732568990801226\n",
            "Confidence: 0.3071428571428571\n",
            "Lift: 6.209915286869464\n",
            "=====================================\n",
            "Rule: 3.5 -> 11\n",
            "Support: 0.0041327822956939075\n",
            "Confidence: 0.21985815602836878\n",
            "Lift: 7.74251656511171\n",
            "=====================================\n",
            "Rule: 1942 -> 6\n",
            "Support: 0.006399146780429276\n",
            "Confidence: 0.5517241379310345\n",
            "Lift: 4.834676119883983\n",
            "=====================================\n",
            "Rule: 1943 -> 6\n",
            "Support: 0.0038661511798426876\n",
            "Confidence: 0.5686274509803921\n",
            "Lift: 4.982797324537291\n",
            "=====================================\n",
            "Rule: 6 -> 1944\n",
            "Support: 0.003999466737768298\n",
            "Confidence: 0.6\n",
            "Lift: 5.257710280373831\n",
            "=====================================\n",
            "Rule: 1948 -> 6\n",
            "Support: 0.003999466737768298\n",
            "Confidence: 0.37500000000000006\n",
            "Lift: 3.286068925233645\n",
            "=====================================\n",
            "Rule: 1984 -> 2.25\n",
            "Support: 0.004266097853619517\n",
            "Confidence: 0.3137254901960784\n",
            "Lift: 3.3051332892707643\n",
            "=====================================\n",
            "Rule: 2 -> 820\n",
            "Support: 0.003999466737768298\n",
            "Confidence: 0.5172413793103449\n",
            "Lift: 3.0240277367162096\n",
            "=====================================\n",
            "Rule: 9 -> 2014\n",
            "Support: 0.004266097853619517\n",
            "Confidence: 0.3516483516483516\n",
            "Lift: 3.143878767239911\n",
            "=====================================\n",
            "Rule: 6 -> 860\n",
            "Support: 0.0030662578322890282\n",
            "Confidence: 0.3709677419354839\n",
            "Lift: 3.250734850768767\n",
            "=====================================\n",
            "Rule: 6 -> 98146\n",
            "Support: 0.004532728969470737\n",
            "Confidence: 0.3695652173913043\n",
            "Lift: 3.2384447379114176\n",
            "=====================================\n",
            "Rule: 98168 -> 6\n",
            "Support: 0.0061325156645780565\n",
            "Confidence: 0.4842105263157895\n",
            "Lift: 4.243064436792917\n",
            "=====================================\n",
            "Rule: 98178 -> 6\n",
            "Support: 0.004532728969470737\n",
            "Confidence: 0.3820224719101123\n",
            "Lift: 3.3476057964927013\n",
            "=====================================\n",
            "Rule: 9 -> 98029\n",
            "Support: 0.005065991201173177\n",
            "Confidence: 0.34234234234234234\n",
            "Lift: 3.060679272836603\n",
            "=====================================\n",
            "Rule: 98074 -> 9\n",
            "Support: 0.006932409012131715\n",
            "Confidence: 0.3376623376623376\n",
            "Lift: 3.01883813445196\n",
            "=====================================\n"
          ]
        }
      ]
    }
  ],
  "metadata": {
    "kernelspec": {
      "display_name": "Python 3",
      "language": "python",
      "name": "python3"
    },
    "language_info": {
      "codemirror_mode": {
        "name": "ipython",
        "version": 3
      },
      "file_extension": ".py",
      "mimetype": "text/x-python",
      "name": "python",
      "nbconvert_exporter": "python",
      "pygments_lexer": "ipython3",
      "version": "3.6.9"
    },
    "colab": {
      "name": "DataMining.ipynb",
      "provenance": [],
      "collapsed_sections": []
    }
  },
  "nbformat": 4,
  "nbformat_minor": 5
}